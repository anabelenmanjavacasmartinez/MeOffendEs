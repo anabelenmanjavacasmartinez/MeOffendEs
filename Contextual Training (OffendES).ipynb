{
 "cells": [
  {
   "cell_type": "code",
   "execution_count": 93,
   "metadata": {},
   "outputs": [],
   "source": [
    "import pandas as pd\n",
    "import numpy as np\n",
    "import re\n",
    "import nltk\n",
    "from nltk.stem import WordNetLemmatizer\n",
    "from nltk import word_tokenize\n",
    "from nltk.corpus import stopwords\n",
    "import string\n",
    "import matplotlib.pyplot as plt\n",
    "import gensim\n",
    "import numpy as np\n",
    "from gensim.models import CoherenceModel, LdaModel, LsiModel, HdpModel\n",
    "# from gensim.models.wrappers import LdaMallet\n",
    "from gensim.corpora import Dictionary"
   ]
  },
  {
   "cell_type": "code",
   "execution_count": 94,
   "metadata": {},
   "outputs": [
    {
     "data": {
      "text/html": [
       "<div>\n",
       "<style scoped>\n",
       "    .dataframe tbody tr th:only-of-type {\n",
       "        vertical-align: middle;\n",
       "    }\n",
       "\n",
       "    .dataframe tbody tr th {\n",
       "        vertical-align: top;\n",
       "    }\n",
       "\n",
       "    .dataframe thead th {\n",
       "        text-align: right;\n",
       "    }\n",
       "</style>\n",
       "<table border=\"1\" class=\"dataframe\">\n",
       "  <thead>\n",
       "    <tr style=\"text-align: right;\">\n",
       "      <th></th>\n",
       "      <th>comment_id</th>\n",
       "      <th>comment</th>\n",
       "      <th>label</th>\n",
       "      <th>influencer</th>\n",
       "      <th>influencer_gender</th>\n",
       "      <th>media</th>\n",
       "    </tr>\n",
       "  </thead>\n",
       "  <tbody>\n",
       "    <tr>\n",
       "      <th>0</th>\n",
       "      <td>52564</td>\n",
       "      <td>En vez de la magia de mi melena, la magia de m...</td>\n",
       "      <td>NO</td>\n",
       "      <td>dalas</td>\n",
       "      <td>man</td>\n",
       "      <td>instagram</td>\n",
       "    </tr>\n",
       "    <tr>\n",
       "      <th>1</th>\n",
       "      <td>32984</td>\n",
       "      <td>A ver, los milenials y la gente normal necesit...</td>\n",
       "      <td>NO</td>\n",
       "      <td>soyunapringada</td>\n",
       "      <td>woman</td>\n",
       "      <td>youtube</td>\n",
       "    </tr>\n",
       "    <tr>\n",
       "      <th>2</th>\n",
       "      <td>58447</td>\n",
       "      <td>Me encanta todo el contenido que haces se nota...</td>\n",
       "      <td>NO</td>\n",
       "      <td>wildhater</td>\n",
       "      <td>man</td>\n",
       "      <td>instagram</td>\n",
       "    </tr>\n",
       "    <tr>\n",
       "      <th>3</th>\n",
       "      <td>10341</td>\n",
       "      <td>a Laura sige así que vales mucho más que 10 o ...</td>\n",
       "      <td>NO</td>\n",
       "      <td>lauraescane</td>\n",
       "      <td>woman</td>\n",
       "      <td>youtube</td>\n",
       "    </tr>\n",
       "    <tr>\n",
       "      <th>4</th>\n",
       "      <td>53087</td>\n",
       "      <td>Y si no mes gusta Dalas, que hacen aquí,lárgue...</td>\n",
       "      <td>NO</td>\n",
       "      <td>dalas</td>\n",
       "      <td>man</td>\n",
       "      <td>instagram</td>\n",
       "    </tr>\n",
       "  </tbody>\n",
       "</table>\n",
       "</div>"
      ],
      "text/plain": [
       "   comment_id                                            comment label  \\\n",
       "0       52564  En vez de la magia de mi melena, la magia de m...    NO   \n",
       "1       32984  A ver, los milenials y la gente normal necesit...    NO   \n",
       "2       58447  Me encanta todo el contenido que haces se nota...    NO   \n",
       "3       10341  a Laura sige así que vales mucho más que 10 o ...    NO   \n",
       "4       53087  Y si no mes gusta Dalas, que hacen aquí,lárgue...    NO   \n",
       "\n",
       "       influencer influencer_gender      media  \n",
       "0           dalas               man  instagram  \n",
       "1  soyunapringada             woman    youtube  \n",
       "2       wildhater               man  instagram  \n",
       "3     lauraescane             woman    youtube  \n",
       "4           dalas               man  instagram  "
      ]
     },
     "execution_count": 94,
     "metadata": {},
     "output_type": "execute_result"
    }
   ],
   "source": [
    "train2= pd.read_csv('traindata2.tsv', engine='python', error_bad_lines=False, delimiter='\\t')\n",
    "train2.head()"
   ]
  },
  {
   "cell_type": "markdown",
   "metadata": {},
   "source": [
    "We'll analyse the data depending on the labels"
   ]
  },
  {
   "cell_type": "code",
   "execution_count": 95,
   "metadata": {},
   "outputs": [
    {
     "data": {
      "text/html": [
       "<div>\n",
       "<style scoped>\n",
       "    .dataframe tbody tr th:only-of-type {\n",
       "        vertical-align: middle;\n",
       "    }\n",
       "\n",
       "    .dataframe tbody tr th {\n",
       "        vertical-align: top;\n",
       "    }\n",
       "\n",
       "    .dataframe thead th {\n",
       "        text-align: right;\n",
       "    }\n",
       "</style>\n",
       "<table border=\"1\" class=\"dataframe\">\n",
       "  <thead>\n",
       "    <tr style=\"text-align: right;\">\n",
       "      <th></th>\n",
       "      <th>comment_id</th>\n",
       "      <th>comment</th>\n",
       "      <th>influencer</th>\n",
       "      <th>influencer_gender</th>\n",
       "      <th>media</th>\n",
       "    </tr>\n",
       "    <tr>\n",
       "      <th>label</th>\n",
       "      <th></th>\n",
       "      <th></th>\n",
       "      <th></th>\n",
       "      <th></th>\n",
       "      <th></th>\n",
       "    </tr>\n",
       "  </thead>\n",
       "  <tbody>\n",
       "    <tr>\n",
       "      <th>NO</th>\n",
       "      <td>13212</td>\n",
       "      <td>13212</td>\n",
       "      <td>13212</td>\n",
       "      <td>13212</td>\n",
       "      <td>13212</td>\n",
       "    </tr>\n",
       "    <tr>\n",
       "      <th>NOM</th>\n",
       "      <td>1235</td>\n",
       "      <td>1235</td>\n",
       "      <td>1235</td>\n",
       "      <td>1235</td>\n",
       "      <td>1235</td>\n",
       "    </tr>\n",
       "    <tr>\n",
       "      <th>OFG</th>\n",
       "      <td>212</td>\n",
       "      <td>212</td>\n",
       "      <td>212</td>\n",
       "      <td>212</td>\n",
       "      <td>212</td>\n",
       "    </tr>\n",
       "    <tr>\n",
       "      <th>OFP</th>\n",
       "      <td>2051</td>\n",
       "      <td>2051</td>\n",
       "      <td>2051</td>\n",
       "      <td>2051</td>\n",
       "      <td>2051</td>\n",
       "    </tr>\n",
       "  </tbody>\n",
       "</table>\n",
       "</div>"
      ],
      "text/plain": [
       "       comment_id  comment  influencer  influencer_gender  media\n",
       "label                                                           \n",
       "NO          13212    13212       13212              13212  13212\n",
       "NOM          1235     1235        1235               1235   1235\n",
       "OFG           212      212         212                212    212\n",
       "OFP          2051     2051        2051               2051   2051"
      ]
     },
     "execution_count": 95,
     "metadata": {},
     "output_type": "execute_result"
    }
   ],
   "source": [
    "train2.groupby('label').count()"
   ]
  },
  {
   "cell_type": "code",
   "execution_count": 96,
   "metadata": {},
   "outputs": [
    {
     "data": {
      "text/html": [
       "<div>\n",
       "<style scoped>\n",
       "    .dataframe tbody tr th:only-of-type {\n",
       "        vertical-align: middle;\n",
       "    }\n",
       "\n",
       "    .dataframe tbody tr th {\n",
       "        vertical-align: top;\n",
       "    }\n",
       "\n",
       "    .dataframe thead tr th {\n",
       "        text-align: left;\n",
       "    }\n",
       "\n",
       "    .dataframe thead tr:last-of-type th {\n",
       "        text-align: right;\n",
       "    }\n",
       "</style>\n",
       "<table border=\"1\" class=\"dataframe\">\n",
       "  <thead>\n",
       "    <tr>\n",
       "      <th></th>\n",
       "      <th colspan=\"8\" halign=\"left\">comment_id</th>\n",
       "    </tr>\n",
       "    <tr>\n",
       "      <th></th>\n",
       "      <th>count</th>\n",
       "      <th>mean</th>\n",
       "      <th>std</th>\n",
       "      <th>min</th>\n",
       "      <th>25%</th>\n",
       "      <th>50%</th>\n",
       "      <th>75%</th>\n",
       "      <th>max</th>\n",
       "    </tr>\n",
       "    <tr>\n",
       "      <th>label</th>\n",
       "      <th></th>\n",
       "      <th></th>\n",
       "      <th></th>\n",
       "      <th></th>\n",
       "      <th></th>\n",
       "      <th></th>\n",
       "      <th></th>\n",
       "      <th></th>\n",
       "    </tr>\n",
       "  </thead>\n",
       "  <tbody>\n",
       "    <tr>\n",
       "      <th>NO</th>\n",
       "      <td>13212.0</td>\n",
       "      <td>30854.272404</td>\n",
       "      <td>17655.094537</td>\n",
       "      <td>0.0</td>\n",
       "      <td>15607.75</td>\n",
       "      <td>31242.0</td>\n",
       "      <td>46521.5</td>\n",
       "      <td>59998.0</td>\n",
       "    </tr>\n",
       "    <tr>\n",
       "      <th>NOM</th>\n",
       "      <td>1235.0</td>\n",
       "      <td>29871.959514</td>\n",
       "      <td>16967.872876</td>\n",
       "      <td>40.0</td>\n",
       "      <td>15272.00</td>\n",
       "      <td>29902.0</td>\n",
       "      <td>43936.0</td>\n",
       "      <td>59990.0</td>\n",
       "    </tr>\n",
       "    <tr>\n",
       "      <th>OFG</th>\n",
       "      <td>212.0</td>\n",
       "      <td>27191.372642</td>\n",
       "      <td>17671.654202</td>\n",
       "      <td>45.0</td>\n",
       "      <td>11501.00</td>\n",
       "      <td>25032.5</td>\n",
       "      <td>42968.5</td>\n",
       "      <td>59745.0</td>\n",
       "    </tr>\n",
       "    <tr>\n",
       "      <th>OFP</th>\n",
       "      <td>2051.0</td>\n",
       "      <td>29422.713311</td>\n",
       "      <td>17052.697265</td>\n",
       "      <td>35.0</td>\n",
       "      <td>14702.50</td>\n",
       "      <td>28638.0</td>\n",
       "      <td>44193.0</td>\n",
       "      <td>59982.0</td>\n",
       "    </tr>\n",
       "  </tbody>\n",
       "</table>\n",
       "</div>"
      ],
      "text/plain": [
       "      comment_id                                                       \\\n",
       "           count          mean           std   min       25%      50%   \n",
       "label                                                                   \n",
       "NO       13212.0  30854.272404  17655.094537   0.0  15607.75  31242.0   \n",
       "NOM       1235.0  29871.959514  16967.872876  40.0  15272.00  29902.0   \n",
       "OFG        212.0  27191.372642  17671.654202  45.0  11501.00  25032.5   \n",
       "OFP       2051.0  29422.713311  17052.697265  35.0  14702.50  28638.0   \n",
       "\n",
       "                         \n",
       "           75%      max  \n",
       "label                    \n",
       "NO     46521.5  59998.0  \n",
       "NOM    43936.0  59990.0  \n",
       "OFG    42968.5  59745.0  \n",
       "OFP    44193.0  59982.0  "
      ]
     },
     "execution_count": 96,
     "metadata": {},
     "output_type": "execute_result"
    }
   ],
   "source": [
    "train2.groupby('label').describe()"
   ]
  },
  {
   "cell_type": "markdown",
   "metadata": {},
   "source": [
    "We'll see how long is every element of the data frame and we'll create another column with the length of each row"
   ]
  },
  {
   "cell_type": "code",
   "execution_count": 97,
   "metadata": {},
   "outputs": [],
   "source": [
    "train2['length']=train2['comment'].apply(len)"
   ]
  },
  {
   "cell_type": "code",
   "execution_count": 98,
   "metadata": {},
   "outputs": [
    {
     "data": {
      "text/html": [
       "<div>\n",
       "<style scoped>\n",
       "    .dataframe tbody tr th:only-of-type {\n",
       "        vertical-align: middle;\n",
       "    }\n",
       "\n",
       "    .dataframe tbody tr th {\n",
       "        vertical-align: top;\n",
       "    }\n",
       "\n",
       "    .dataframe thead th {\n",
       "        text-align: right;\n",
       "    }\n",
       "</style>\n",
       "<table border=\"1\" class=\"dataframe\">\n",
       "  <thead>\n",
       "    <tr style=\"text-align: right;\">\n",
       "      <th></th>\n",
       "      <th>comment_id</th>\n",
       "      <th>comment</th>\n",
       "      <th>label</th>\n",
       "      <th>influencer</th>\n",
       "      <th>influencer_gender</th>\n",
       "      <th>media</th>\n",
       "      <th>length</th>\n",
       "    </tr>\n",
       "  </thead>\n",
       "  <tbody>\n",
       "    <tr>\n",
       "      <th>0</th>\n",
       "      <td>52564</td>\n",
       "      <td>En vez de la magia de mi melena, la magia de m...</td>\n",
       "      <td>NO</td>\n",
       "      <td>dalas</td>\n",
       "      <td>man</td>\n",
       "      <td>instagram</td>\n",
       "      <td>56</td>\n",
       "    </tr>\n",
       "    <tr>\n",
       "      <th>1</th>\n",
       "      <td>32984</td>\n",
       "      <td>A ver, los milenials y la gente normal necesit...</td>\n",
       "      <td>NO</td>\n",
       "      <td>soyunapringada</td>\n",
       "      <td>woman</td>\n",
       "      <td>youtube</td>\n",
       "      <td>135</td>\n",
       "    </tr>\n",
       "    <tr>\n",
       "      <th>2</th>\n",
       "      <td>58447</td>\n",
       "      <td>Me encanta todo el contenido que haces se nota...</td>\n",
       "      <td>NO</td>\n",
       "      <td>wildhater</td>\n",
       "      <td>man</td>\n",
       "      <td>instagram</td>\n",
       "      <td>165</td>\n",
       "    </tr>\n",
       "    <tr>\n",
       "      <th>3</th>\n",
       "      <td>10341</td>\n",
       "      <td>a Laura sige así que vales mucho más que 10 o ...</td>\n",
       "      <td>NO</td>\n",
       "      <td>lauraescane</td>\n",
       "      <td>woman</td>\n",
       "      <td>youtube</td>\n",
       "      <td>81</td>\n",
       "    </tr>\n",
       "    <tr>\n",
       "      <th>4</th>\n",
       "      <td>53087</td>\n",
       "      <td>Y si no mes gusta Dalas, que hacen aquí,lárgue...</td>\n",
       "      <td>NO</td>\n",
       "      <td>dalas</td>\n",
       "      <td>man</td>\n",
       "      <td>instagram</td>\n",
       "      <td>560</td>\n",
       "    </tr>\n",
       "  </tbody>\n",
       "</table>\n",
       "</div>"
      ],
      "text/plain": [
       "   comment_id                                            comment label  \\\n",
       "0       52564  En vez de la magia de mi melena, la magia de m...    NO   \n",
       "1       32984  A ver, los milenials y la gente normal necesit...    NO   \n",
       "2       58447  Me encanta todo el contenido que haces se nota...    NO   \n",
       "3       10341  a Laura sige así que vales mucho más que 10 o ...    NO   \n",
       "4       53087  Y si no mes gusta Dalas, que hacen aquí,lárgue...    NO   \n",
       "\n",
       "       influencer influencer_gender      media  length  \n",
       "0           dalas               man  instagram      56  \n",
       "1  soyunapringada             woman    youtube     135  \n",
       "2       wildhater               man  instagram     165  \n",
       "3     lauraescane             woman    youtube      81  \n",
       "4           dalas               man  instagram     560  "
      ]
     },
     "execution_count": 98,
     "metadata": {},
     "output_type": "execute_result"
    }
   ],
   "source": [
    "train2.head()"
   ]
  },
  {
   "cell_type": "markdown",
   "metadata": {},
   "source": [
    "We'll see the distribution of the lenght of the data set"
   ]
  },
  {
   "cell_type": "code",
   "execution_count": 99,
   "metadata": {},
   "outputs": [
    {
     "data": {
      "text/plain": [
       "<matplotlib.axes._subplots.AxesSubplot at 0x7f9b307c71d0>"
      ]
     },
     "execution_count": 99,
     "metadata": {},
     "output_type": "execute_result"
    },
    {
     "data": {
      "image/png": "[encoded data removed]",
      "text/plain": [
       "<Figure size 432x288 with 1 Axes>"
      ]
     },
     "metadata": {
      "needs_background": "light"
     },
     "output_type": "display_data"
    }
   ],
   "source": [
    "train2['length'].plot.hist(bins=1000)"
   ]
  },
  {
   "cell_type": "code",
   "execution_count": 100,
   "metadata": {},
   "outputs": [
    {
     "data": {
      "text/plain": [
       "count    16710.000000\n",
       "mean       172.339078\n",
       "std        209.464901\n",
       "min          3.000000\n",
       "25%         84.000000\n",
       "50%        134.000000\n",
       "75%        199.000000\n",
       "max       9887.000000\n",
       "Name: length, dtype: float64"
      ]
     },
     "execution_count": 100,
     "metadata": {},
     "output_type": "execute_result"
    }
   ],
   "source": [
    "train2['length'].describe()"
   ]
  },
  {
   "cell_type": "markdown",
   "metadata": {},
   "source": [
    "And the distribution of the lenght depending on the label"
   ]
  },
  {
   "cell_type": "code",
   "execution_count": 101,
   "metadata": {},
   "outputs": [
    {
     "data": {
      "text/plain": [
       "array([[<matplotlib.axes._subplots.AxesSubplot object at 0x7f9b32b6cc50>,\n",
       "        <matplotlib.axes._subplots.AxesSubplot object at 0x7f9b34553c50>],\n",
       "       [<matplotlib.axes._subplots.AxesSubplot object at 0x7f9b49a8b610>,\n",
       "        <matplotlib.axes._subplots.AxesSubplot object at 0x7f9b345e4b10>]],\n",
       "      dtype=object)"
      ]
     },
     "execution_count": 101,
     "metadata": {},
     "output_type": "execute_result"
    },
    {
     "data": {
      "image/png": "[encoded data removed]",
      "text/plain": [
       "<Figure size 1728x1008 with 4 Axes>"
      ]
     },
     "metadata": {
      "needs_background": "light"
     },
     "output_type": "display_data"
    }
   ],
   "source": [
    "train2.hist(column='length', by='label', bins=60, figsize=(24,14))"
   ]
  },
  {
   "cell_type": "code",
   "execution_count": 102,
   "metadata": {},
   "outputs": [],
   "source": [
    "import string"
   ]
  },
  {
   "cell_type": "code",
   "execution_count": 103,
   "metadata": {},
   "outputs": [],
   "source": [
    "from nltk.corpus import stopwords"
   ]
  },
  {
   "cell_type": "markdown",
   "metadata": {},
   "source": [
    "We're going to write a function that removes the puntuation symbols, remove stop words and returned a clean list of words"
   ]
  },
  {
   "cell_type": "code",
   "execution_count": 104,
   "metadata": {},
   "outputs": [],
   "source": [
    "def text_process(mess):\n",
    "    \"\"\"\n",
    "    1.remove punc\n",
    "    2.remove stop words\n",
    "    3.return list of clean text words\n",
    "    \"\"\"\n",
    "    nopunc = [char for char in mess if char not in string.punctuation]\n",
    "    nopunc = ''.join(nopunc)\n",
    "    \n",
    "    return [word for word in nopunc.split() if word.lower() not in stopwords.words('spanish')]"
   ]
  },
  {
   "cell_type": "code",
   "execution_count": 105,
   "metadata": {},
   "outputs": [
    {
     "data": {
      "text/plain": [
       "0               [vez, magia, melena, magia, nariz, xD]\n",
       "1    [ver, milenials, gente, normal, necesitamos, p...\n",
       "2    [encanta, contenido, haces, nota, curras, vide...\n",
       "3    [Laura, sige, así, vales, 10, 20, 30, estúpido...\n",
       "4    [si, mes, gusta, Dalas, hacen, aquílárguense, ...\n",
       "Name: comment, dtype: object"
      ]
     },
     "execution_count": 105,
     "metadata": {},
     "output_type": "execute_result"
    }
   ],
   "source": [
    "train2.comment.head(5).apply(text_process)"
   ]
  },
  {
   "cell_type": "code",
   "execution_count": 106,
   "metadata": {},
   "outputs": [],
   "source": [
    "from sklearn.feature_extraction.text import CountVectorizer"
   ]
  },
  {
   "cell_type": "code",
   "execution_count": 107,
   "metadata": {},
   "outputs": [],
   "source": [
    "# bow_transformer =  CountVectorizer(analyzer=text_process).fit(train2['comment'])\n"
   ]
  },
  {
   "cell_type": "code",
   "execution_count": 108,
   "metadata": {},
   "outputs": [],
   "source": [
    "# print(len(bow_transformer.vocabulary_))"
   ]
  },
  {
   "cell_type": "code",
   "execution_count": 109,
   "metadata": {},
   "outputs": [],
   "source": [
    "# messages_bow =  bow_transformer.transform(train2['comment'])"
   ]
  },
  {
   "cell_type": "code",
   "execution_count": 110,
   "metadata": {},
   "outputs": [],
   "source": [
    "# print('Shape of Sparse Matrix:', messages_bow.shape)\n",
    "# print('Amount of Non-Zero occurences: ', messages_bow.nnz)"
   ]
  },
  {
   "cell_type": "code",
   "execution_count": 111,
   "metadata": {},
   "outputs": [],
   "source": [
    "# sparsity = (100.0 * messages_bow.nnz / (messages_bow.shape[0] * messages_bow.shape[1]))\n",
    "# print('sparsity: {}'.format(sparsity))"
   ]
  },
  {
   "cell_type": "code",
   "execution_count": 112,
   "metadata": {},
   "outputs": [],
   "source": [
    "from sklearn.feature_extraction.text import TfidfTransformer\n"
   ]
  },
  {
   "cell_type": "code",
   "execution_count": 113,
   "metadata": {},
   "outputs": [],
   "source": [
    "# tfidf_transformer = TfidfTransformer().fit(messages_bow)\n"
   ]
  },
  {
   "cell_type": "code",
   "execution_count": 114,
   "metadata": {},
   "outputs": [],
   "source": [
    "# messages_tfidf = tfidf_transformer.transform(messages_bow)\n"
   ]
  },
  {
   "cell_type": "code",
   "execution_count": 115,
   "metadata": {},
   "outputs": [],
   "source": [
    "from sklearn.naive_bayes import MultinomialNB\n"
   ]
  },
  {
   "cell_type": "code",
   "execution_count": 116,
   "metadata": {},
   "outputs": [
    {
     "data": {
      "text/plain": [
       "66840"
      ]
     },
     "execution_count": 116,
     "metadata": {},
     "output_type": "execute_result"
    }
   ],
   "source": [
    "train2[['comment', 'influencer', 'influencer_gender', 'media']].size"
   ]
  },
  {
   "cell_type": "markdown",
   "metadata": {},
   "source": [
    "We're going to create a pipeline that does the Naive bayes predictor"
   ]
  },
  {
   "cell_type": "code",
   "execution_count": 117,
   "metadata": {},
   "outputs": [],
   "source": [
    "from sklearn.pipeline import Pipeline\n",
    "from sklearn.ensemble import RandomForestClassifier"
   ]
  },
  {
   "cell_type": "code",
   "execution_count": 118,
   "metadata": {},
   "outputs": [],
   "source": [
    "pipeline = Pipeline([\n",
    "    ('bow', CountVectorizer(analyzer=text_process)),\n",
    "    ('tfidf', TfidfTransformer()),\n",
    "    ('classfier', MultinomialNB())\n",
    "    \n",
    "])"
   ]
  },
  {
   "cell_type": "code",
   "execution_count": 119,
   "metadata": {},
   "outputs": [
    {
     "data": {
      "text/html": [
       "<div>\n",
       "<style scoped>\n",
       "    .dataframe tbody tr th:only-of-type {\n",
       "        vertical-align: middle;\n",
       "    }\n",
       "\n",
       "    .dataframe tbody tr th {\n",
       "        vertical-align: top;\n",
       "    }\n",
       "\n",
       "    .dataframe thead th {\n",
       "        text-align: right;\n",
       "    }\n",
       "</style>\n",
       "<table border=\"1\" class=\"dataframe\">\n",
       "  <thead>\n",
       "    <tr style=\"text-align: right;\">\n",
       "      <th></th>\n",
       "      <th>comment</th>\n",
       "      <th>influencer</th>\n",
       "      <th>influencer_gender</th>\n",
       "      <th>media</th>\n",
       "    </tr>\n",
       "  </thead>\n",
       "  <tbody>\n",
       "    <tr>\n",
       "      <th>0</th>\n",
       "      <td>En vez de la magia de mi melena, la magia de m...</td>\n",
       "      <td>dalas</td>\n",
       "      <td>man</td>\n",
       "      <td>instagram</td>\n",
       "    </tr>\n",
       "    <tr>\n",
       "      <th>1</th>\n",
       "      <td>A ver, los milenials y la gente normal necesit...</td>\n",
       "      <td>soyunapringada</td>\n",
       "      <td>woman</td>\n",
       "      <td>youtube</td>\n",
       "    </tr>\n",
       "    <tr>\n",
       "      <th>2</th>\n",
       "      <td>Me encanta todo el contenido que haces se nota...</td>\n",
       "      <td>wildhater</td>\n",
       "      <td>man</td>\n",
       "      <td>instagram</td>\n",
       "    </tr>\n",
       "    <tr>\n",
       "      <th>3</th>\n",
       "      <td>a Laura sige así que vales mucho más que 10 o ...</td>\n",
       "      <td>lauraescane</td>\n",
       "      <td>woman</td>\n",
       "      <td>youtube</td>\n",
       "    </tr>\n",
       "    <tr>\n",
       "      <th>4</th>\n",
       "      <td>Y si no mes gusta Dalas, que hacen aquí,lárgue...</td>\n",
       "      <td>dalas</td>\n",
       "      <td>man</td>\n",
       "      <td>instagram</td>\n",
       "    </tr>\n",
       "    <tr>\n",
       "      <th>...</th>\n",
       "      <td>...</td>\n",
       "      <td>...</td>\n",
       "      <td>...</td>\n",
       "      <td>...</td>\n",
       "    </tr>\n",
       "    <tr>\n",
       "      <th>16705</th>\n",
       "      <td>Hijo de tu puta madre estoy mamadisimo 😎</td>\n",
       "      <td>dalas</td>\n",
       "      <td>man</td>\n",
       "      <td>instagram</td>\n",
       "    </tr>\n",
       "    <tr>\n",
       "      <th>16706</th>\n",
       "      <td>yo que hace 4 años lo veía, ahora me doy cuent...</td>\n",
       "      <td>dalas</td>\n",
       "      <td>man</td>\n",
       "      <td>twitter</td>\n",
       "    </tr>\n",
       "    <tr>\n",
       "      <th>16707</th>\n",
       "      <td>Esta re blanco el wismi</td>\n",
       "      <td>wismichu</td>\n",
       "      <td>man</td>\n",
       "      <td>youtube</td>\n",
       "    </tr>\n",
       "    <tr>\n",
       "      <th>16708</th>\n",
       "      <td>algo que no veo en esa botella rosada es que s...</td>\n",
       "      <td>windygirk</td>\n",
       "      <td>woman</td>\n",
       "      <td>youtube</td>\n",
       "    </tr>\n",
       "    <tr>\n",
       "      <th>16709</th>\n",
       "      <td>Ballena</td>\n",
       "      <td>soyunapringada</td>\n",
       "      <td>woman</td>\n",
       "      <td>youtube</td>\n",
       "    </tr>\n",
       "  </tbody>\n",
       "</table>\n",
       "<p>16710 rows × 4 columns</p>\n",
       "</div>"
      ],
      "text/plain": [
       "                                                 comment      influencer  \\\n",
       "0      En vez de la magia de mi melena, la magia de m...           dalas   \n",
       "1      A ver, los milenials y la gente normal necesit...  soyunapringada   \n",
       "2      Me encanta todo el contenido que haces se nota...       wildhater   \n",
       "3      a Laura sige así que vales mucho más que 10 o ...     lauraescane   \n",
       "4      Y si no mes gusta Dalas, que hacen aquí,lárgue...           dalas   \n",
       "...                                                  ...             ...   \n",
       "16705           Hijo de tu puta madre estoy mamadisimo 😎           dalas   \n",
       "16706  yo que hace 4 años lo veía, ahora me doy cuent...           dalas   \n",
       "16707                            Esta re blanco el wismi        wismichu   \n",
       "16708  algo que no veo en esa botella rosada es que s...       windygirk   \n",
       "16709                                            Ballena  soyunapringada   \n",
       "\n",
       "      influencer_gender      media  \n",
       "0                   man  instagram  \n",
       "1                 woman    youtube  \n",
       "2                   man  instagram  \n",
       "3                 woman    youtube  \n",
       "4                   man  instagram  \n",
       "...                 ...        ...  \n",
       "16705               man  instagram  \n",
       "16706               man    twitter  \n",
       "16707               man    youtube  \n",
       "16708             woman    youtube  \n",
       "16709             woman    youtube  \n",
       "\n",
       "[16710 rows x 4 columns]"
      ]
     },
     "execution_count": 119,
     "metadata": {},
     "output_type": "execute_result"
    }
   ],
   "source": [
    "train2[['comment', 'influencer', 'influencer_gender', 'media']]"
   ]
  },
  {
   "cell_type": "code",
   "execution_count": 120,
   "metadata": {},
   "outputs": [
    {
     "name": "stdout",
     "output_type": "stream",
     "text": [
      "<class 'pandas.core.frame.DataFrame'>\n",
      "RangeIndex: 16710 entries, 0 to 16709\n",
      "Data columns (total 7 columns):\n",
      " #   Column             Non-Null Count  Dtype \n",
      "---  ------             --------------  ----- \n",
      " 0   comment_id         16710 non-null  int64 \n",
      " 1   comment            16710 non-null  object\n",
      " 2   label              16710 non-null  object\n",
      " 3   influencer         16710 non-null  object\n",
      " 4   influencer_gender  16710 non-null  object\n",
      " 5   media              16710 non-null  object\n",
      " 6   length             16710 non-null  int64 \n",
      "dtypes: int64(2), object(5)\n",
      "memory usage: 914.0+ KB\n"
     ]
    }
   ],
   "source": [
    "train2.info()"
   ]
  },
  {
   "cell_type": "code",
   "execution_count": 121,
   "metadata": {},
   "outputs": [
    {
     "data": {
      "text/plain": [
       "16710"
      ]
     },
     "execution_count": 121,
     "metadata": {},
     "output_type": "execute_result"
    }
   ],
   "source": [
    "train2['label'].size"
   ]
  },
  {
   "cell_type": "code",
   "execution_count": 122,
   "metadata": {},
   "outputs": [],
   "source": [
    "# pipeline.fit(train2[['comment', 'influencer', 'influencer_gender', 'media']], train2['label'])"
   ]
  },
  {
   "cell_type": "code",
   "execution_count": 123,
   "metadata": {},
   "outputs": [],
   "source": [
    "# predictions_test_set = pipeline.predict(train2['comment'])\n"
   ]
  },
  {
   "cell_type": "code",
   "execution_count": 124,
   "metadata": {},
   "outputs": [],
   "source": [
    "# predictions_test_set"
   ]
  },
  {
   "cell_type": "code",
   "execution_count": 125,
   "metadata": {},
   "outputs": [],
   "source": [
    "# from sklearn.metrics import classification_report"
   ]
  },
  {
   "cell_type": "code",
   "execution_count": 126,
   "metadata": {},
   "outputs": [],
   "source": [
    "# print(classification_report(train2.comment, predictions_test_set))"
   ]
  },
  {
   "cell_type": "markdown",
   "metadata": {},
   "source": [
    "This dataset, no only has a column with language data, it got more columns with categorical data. So that we are going to create 2 pipelines, 1 for the text data and another one for the categorical, and then we wil process both and apply the algorithm"
   ]
  },
  {
   "cell_type": "code",
   "execution_count": 127,
   "metadata": {},
   "outputs": [],
   "source": [
    "from sklearn.compose import ColumnTransformer\n",
    "from sklearn.pipeline import Pipeline\n",
    "from sklearn.feature_extraction.text import TfidfVectorizer\n",
    "from sklearn.preprocessing import OneHotEncoder\n",
    "from sklearn.svm import SVC"
   ]
  },
  {
   "cell_type": "code",
   "execution_count": 144,
   "metadata": {},
   "outputs": [
    {
     "data": {
      "text/html": [
       "<div>\n",
       "<style scoped>\n",
       "    .dataframe tbody tr th:only-of-type {\n",
       "        vertical-align: middle;\n",
       "    }\n",
       "\n",
       "    .dataframe tbody tr th {\n",
       "        vertical-align: top;\n",
       "    }\n",
       "\n",
       "    .dataframe thead th {\n",
       "        text-align: right;\n",
       "    }\n",
       "</style>\n",
       "<table border=\"1\" class=\"dataframe\">\n",
       "  <thead>\n",
       "    <tr style=\"text-align: right;\">\n",
       "      <th></th>\n",
       "      <th>comment_id</th>\n",
       "      <th>comment</th>\n",
       "      <th>influencer</th>\n",
       "      <th>influencer_gender</th>\n",
       "      <th>media</th>\n",
       "      <th>length</th>\n",
       "    </tr>\n",
       "  </thead>\n",
       "  <tbody>\n",
       "    <tr>\n",
       "      <th>0</th>\n",
       "      <td>52564</td>\n",
       "      <td>En vez de la magia de mi melena, la magia de m...</td>\n",
       "      <td>dalas</td>\n",
       "      <td>man</td>\n",
       "      <td>instagram</td>\n",
       "      <td>56</td>\n",
       "    </tr>\n",
       "    <tr>\n",
       "      <th>1</th>\n",
       "      <td>32984</td>\n",
       "      <td>A ver, los milenials y la gente normal necesit...</td>\n",
       "      <td>soyunapringada</td>\n",
       "      <td>woman</td>\n",
       "      <td>youtube</td>\n",
       "      <td>135</td>\n",
       "    </tr>\n",
       "    <tr>\n",
       "      <th>2</th>\n",
       "      <td>58447</td>\n",
       "      <td>Me encanta todo el contenido que haces se nota...</td>\n",
       "      <td>wildhater</td>\n",
       "      <td>man</td>\n",
       "      <td>instagram</td>\n",
       "      <td>165</td>\n",
       "    </tr>\n",
       "    <tr>\n",
       "      <th>3</th>\n",
       "      <td>10341</td>\n",
       "      <td>a Laura sige así que vales mucho más que 10 o ...</td>\n",
       "      <td>lauraescane</td>\n",
       "      <td>woman</td>\n",
       "      <td>youtube</td>\n",
       "      <td>81</td>\n",
       "    </tr>\n",
       "    <tr>\n",
       "      <th>4</th>\n",
       "      <td>53087</td>\n",
       "      <td>Y si no mes gusta Dalas, que hacen aquí,lárgue...</td>\n",
       "      <td>dalas</td>\n",
       "      <td>man</td>\n",
       "      <td>instagram</td>\n",
       "      <td>560</td>\n",
       "    </tr>\n",
       "    <tr>\n",
       "      <th>...</th>\n",
       "      <td>...</td>\n",
       "      <td>...</td>\n",
       "      <td>...</td>\n",
       "      <td>...</td>\n",
       "      <td>...</td>\n",
       "      <td>...</td>\n",
       "    </tr>\n",
       "    <tr>\n",
       "      <th>16705</th>\n",
       "      <td>57470</td>\n",
       "      <td>Hijo de tu puta madre estoy mamadisimo 😎</td>\n",
       "      <td>dalas</td>\n",
       "      <td>man</td>\n",
       "      <td>instagram</td>\n",
       "      <td>40</td>\n",
       "    </tr>\n",
       "    <tr>\n",
       "      <th>16706</th>\n",
       "      <td>35</td>\n",
       "      <td>yo que hace 4 años lo veía, ahora me doy cuent...</td>\n",
       "      <td>dalas</td>\n",
       "      <td>man</td>\n",
       "      <td>twitter</td>\n",
       "      <td>70</td>\n",
       "    </tr>\n",
       "    <tr>\n",
       "      <th>16707</th>\n",
       "      <td>18564</td>\n",
       "      <td>Esta re blanco el wismi</td>\n",
       "      <td>wismichu</td>\n",
       "      <td>man</td>\n",
       "      <td>youtube</td>\n",
       "      <td>23</td>\n",
       "    </tr>\n",
       "    <tr>\n",
       "      <th>16708</th>\n",
       "      <td>46485</td>\n",
       "      <td>algo que no veo en esa botella rosada es que s...</td>\n",
       "      <td>windygirk</td>\n",
       "      <td>woman</td>\n",
       "      <td>youtube</td>\n",
       "      <td>369</td>\n",
       "    </tr>\n",
       "    <tr>\n",
       "      <th>16709</th>\n",
       "      <td>47965</td>\n",
       "      <td>Ballena</td>\n",
       "      <td>soyunapringada</td>\n",
       "      <td>woman</td>\n",
       "      <td>youtube</td>\n",
       "      <td>7</td>\n",
       "    </tr>\n",
       "  </tbody>\n",
       "</table>\n",
       "<p>16710 rows × 6 columns</p>\n",
       "</div>"
      ],
      "text/plain": [
       "       comment_id                                            comment  \\\n",
       "0           52564  En vez de la magia de mi melena, la magia de m...   \n",
       "1           32984  A ver, los milenials y la gente normal necesit...   \n",
       "2           58447  Me encanta todo el contenido que haces se nota...   \n",
       "3           10341  a Laura sige así que vales mucho más que 10 o ...   \n",
       "4           53087  Y si no mes gusta Dalas, que hacen aquí,lárgue...   \n",
       "...           ...                                                ...   \n",
       "16705       57470           Hijo de tu puta madre estoy mamadisimo 😎   \n",
       "16706          35  yo que hace 4 años lo veía, ahora me doy cuent...   \n",
       "16707       18564                            Esta re blanco el wismi   \n",
       "16708       46485  algo que no veo en esa botella rosada es que s...   \n",
       "16709       47965                                            Ballena   \n",
       "\n",
       "           influencer influencer_gender      media  length  \n",
       "0               dalas               man  instagram      56  \n",
       "1      soyunapringada             woman    youtube     135  \n",
       "2           wildhater               man  instagram     165  \n",
       "3         lauraescane             woman    youtube      81  \n",
       "4               dalas               man  instagram     560  \n",
       "...               ...               ...        ...     ...  \n",
       "16705           dalas               man  instagram      40  \n",
       "16706           dalas               man    twitter      70  \n",
       "16707        wismichu               man    youtube      23  \n",
       "16708       windygirk             woman    youtube     369  \n",
       "16709  soyunapringada             woman    youtube       7  \n",
       "\n",
       "[16710 rows x 6 columns]"
      ]
     },
     "execution_count": 144,
     "metadata": {},
     "output_type": "execute_result"
    }
   ],
   "source": [
    "X_train=train2.drop(columns='label')\n",
    "\n",
    "X_train\n"
   ]
  },
  {
   "cell_type": "code",
   "execution_count": 145,
   "metadata": {},
   "outputs": [],
   "source": [
    "\n",
    "# pipeline for text data\n",
    "text_features = 'comment'\n",
    "text_transformer = Pipeline(steps=[\n",
    "#     ('bow', CountVectorizer(analyzer=text_process)),\n",
    "    ('vectorizer', TfidfVectorizer(stop_words=\"english\"))\n",
    "])\n",
    "\n",
    "# pipeline for categorical data\n",
    "categorical_features = ['influencer', 'influencer_gender', 'media',]\n",
    "categorical_transformer = Pipeline(steps=[\n",
    "#     ('imputer', SimpleImputer(strategy='constant', fill_value='missing')),\n",
    "    ('onehot', OneHotEncoder(handle_unknown='ignore'))\n",
    "])\n",
    "\n",
    "# you can add other transformations for other data types\n",
    "\n",
    "# combine preprocessing with ColumnTransformer\n",
    "preprocessor = ColumnTransformer(\n",
    "    transformers=[\n",
    "        ('text', text_transformer, text_features),\n",
    "        ('cat', categorical_transformer, categorical_features)\n",
    "])\n",
    "\n",
    "# add model to be part of pipeline\n",
    "clf_pipe =  Pipeline(steps=[('preprocessor', preprocessor),\n",
    "                   (\"model\", SVC())\n",
    "])\n",
    "\n",
    "# ...\n",
    "\n",
    "## you can just use preprocessor by itself\n",
    "# X_train = preprocessor.fit_transform(X_train)\n",
    "# X_test = preprocessor.transform(X_test)\n",
    "# clf_s= SVC().fit(X_train, y_train)\n",
    "# clf_s.score(X_test, y_test)\n",
    "\n",
    "## or better, you can use the whole.\n",
    "# clf_pipe.fit(X_train, y_train) \n",
    "# clf_pipe.score(X_test, y_test)"
   ]
  },
  {
   "cell_type": "code",
   "execution_count": 146,
   "metadata": {},
   "outputs": [
    {
     "data": {
      "text/plain": [
       "0.8941352483542788"
      ]
     },
     "execution_count": 146,
     "metadata": {},
     "output_type": "execute_result"
    }
   ],
   "source": [
    "X_train = preprocessor.fit_transform(X_train)\n",
    "# X_test = preprocessor.transform(X_test)\n",
    "clf_s= SVC(probability=True).fit(X_train, train2['label'])\n",
    "clf_s.score(X_train, train2['label'])\n",
    "\n",
    "# # or better, you can use the whole.\n",
    "# clf_pipe.fit(X_train, train2['label']) \n",
    "# clf_pipe.score(X_train, train2['label'])"
   ]
  },
  {
   "cell_type": "markdown",
   "metadata": {},
   "source": [
    "Let's get the predictions"
   ]
  },
  {
   "cell_type": "code",
   "execution_count": 147,
   "metadata": {},
   "outputs": [],
   "source": [
    "predictions = clf_s.predict(X_train)"
   ]
  },
  {
   "cell_type": "markdown",
   "metadata": {},
   "source": [
    "We're going to get the classification report"
   ]
  },
  {
   "cell_type": "code",
   "execution_count": 148,
   "metadata": {},
   "outputs": [],
   "source": [
    "from sklearn.metrics import classification_report\n"
   ]
  },
  {
   "cell_type": "code",
   "execution_count": 149,
   "metadata": {},
   "outputs": [
    {
     "name": "stderr",
     "output_type": "stream",
     "text": [
      "/opt/anaconda3/lib/python3.7/site-packages/sklearn/metrics/_classification.py:1272: UndefinedMetricWarning: Precision and F-score are ill-defined and being set to 0.0 in labels with no predicted samples. Use `zero_division` parameter to control this behavior.\n",
      "  _warn_prf(average, modifier, msg_start, len(result))\n"
     ]
    },
    {
     "name": "stdout",
     "output_type": "stream",
     "text": [
      "              precision    recall  f1-score   support\n",
      "\n",
      "          NO       0.89      1.00      0.94     13212\n",
      "         NOM       0.89      0.61      0.72      1235\n",
      "         OFG       0.00      0.00      0.00       212\n",
      "         OFP       0.95      0.50      0.65      2051\n",
      "\n",
      "    accuracy                           0.89     16710\n",
      "   macro avg       0.68      0.53      0.58     16710\n",
      "weighted avg       0.89      0.89      0.88     16710\n",
      "\n"
     ]
    }
   ],
   "source": [
    "print(classification_report(train2['label'], predictions))"
   ]
  },
  {
   "cell_type": "code",
   "execution_count": 150,
   "metadata": {},
   "outputs": [],
   "source": [
    "prob = clf_s.predict_proba(X_train)"
   ]
  },
  {
   "cell_type": "code",
   "execution_count": 151,
   "metadata": {},
   "outputs": [
    {
     "data": {
      "text/plain": [
       "array([0.95256831, 0.02384341, 0.00711743, 0.01647085])"
      ]
     },
     "execution_count": 151,
     "metadata": {},
     "output_type": "execute_result"
    }
   ],
   "source": [
    "prob[0]"
   ]
  },
  {
   "cell_type": "markdown",
   "metadata": {},
   "source": [
    "Now we are going to apply the train model to the test data"
   ]
  },
  {
   "cell_type": "code",
   "execution_count": 152,
   "metadata": {},
   "outputs": [
    {
     "data": {
      "text/html": [
       "<div>\n",
       "<style scoped>\n",
       "    .dataframe tbody tr th:only-of-type {\n",
       "        vertical-align: middle;\n",
       "    }\n",
       "\n",
       "    .dataframe tbody tr th {\n",
       "        vertical-align: top;\n",
       "    }\n",
       "\n",
       "    .dataframe thead th {\n",
       "        text-align: right;\n",
       "    }\n",
       "</style>\n",
       "<table border=\"1\" class=\"dataframe\">\n",
       "  <thead>\n",
       "    <tr style=\"text-align: right;\">\n",
       "      <th></th>\n",
       "      <th>comment_id</th>\n",
       "      <th>comment</th>\n",
       "      <th>influencer</th>\n",
       "      <th>influencer_gender</th>\n",
       "      <th>media</th>\n",
       "      <th>length</th>\n",
       "    </tr>\n",
       "  </thead>\n",
       "  <tbody>\n",
       "    <tr>\n",
       "      <th>0</th>\n",
       "      <td>54745</td>\n",
       "      <td>Lacasito moreno</td>\n",
       "      <td>wismichu</td>\n",
       "      <td>man</td>\n",
       "      <td>instagram</td>\n",
       "      <td>15</td>\n",
       "    </tr>\n",
       "    <tr>\n",
       "      <th>1</th>\n",
       "      <td>5595</td>\n",
       "      <td>Yo pensaba que celopan era gay</td>\n",
       "      <td>miare</td>\n",
       "      <td>woman</td>\n",
       "      <td>youtube</td>\n",
       "      <td>30</td>\n",
       "    </tr>\n",
       "    <tr>\n",
       "      <th>2</th>\n",
       "      <td>53477</td>\n",
       "      <td>la bruja del 77</td>\n",
       "      <td>miare</td>\n",
       "      <td>woman</td>\n",
       "      <td>instagram</td>\n",
       "      <td>15</td>\n",
       "    </tr>\n",
       "    <tr>\n",
       "      <th>3</th>\n",
       "      <td>7385</td>\n",
       "      <td>Se va a liar bien gorda</td>\n",
       "      <td>wildhater</td>\n",
       "      <td>man</td>\n",
       "      <td>youtube</td>\n",
       "      <td>23</td>\n",
       "    </tr>\n",
       "    <tr>\n",
       "      <th>4</th>\n",
       "      <td>551</td>\n",
       "      <td>Y Ami que chucha me importa boliviano hijodeputa</td>\n",
       "      <td>dalas</td>\n",
       "      <td>man</td>\n",
       "      <td>twitter</td>\n",
       "      <td>48</td>\n",
       "    </tr>\n",
       "  </tbody>\n",
       "</table>\n",
       "</div>"
      ],
      "text/plain": [
       "   comment_id                                           comment influencer  \\\n",
       "0       54745                                   Lacasito moreno   wismichu   \n",
       "1        5595                    Yo pensaba que celopan era gay      miare   \n",
       "2       53477                                   la bruja del 77      miare   \n",
       "3        7385                           Se va a liar bien gorda  wildhater   \n",
       "4         551  Y Ami que chucha me importa boliviano hijodeputa      dalas   \n",
       "\n",
       "  influencer_gender      media  length  \n",
       "0               man  instagram      15  \n",
       "1             woman    youtube      30  \n",
       "2             woman  instagram      15  \n",
       "3               man    youtube      23  \n",
       "4               man    twitter      48  "
      ]
     },
     "execution_count": 152,
     "metadata": {},
     "output_type": "execute_result"
    }
   ],
   "source": [
    "test2= pd.read_csv('testdata2.tsv', engine='python', error_bad_lines=False, delimiter='\\t')\n",
    "test2['length']=test2['comment'].apply(len)\n",
    "test2.head()"
   ]
  },
  {
   "cell_type": "code",
   "execution_count": 153,
   "metadata": {},
   "outputs": [],
   "source": [
    "# train2.head()"
   ]
  },
  {
   "cell_type": "markdown",
   "metadata": {},
   "source": [
    "let's process the test data to the format where I can apply the algorithm"
   ]
  },
  {
   "cell_type": "code",
   "execution_count": 154,
   "metadata": {},
   "outputs": [],
   "source": [
    "# X_train = preprocessor.fit_transform(X_train)\n",
    "X_test = preprocessor.transform(test2)\n",
    "# clf_s= SVC(probability=True).fit(X_train, train2['label'])\n",
    "# clf_s.score(X_train, train2['label'])"
   ]
  },
  {
   "cell_type": "markdown",
   "metadata": {},
   "source": [
    "Now let's get the predictions for the test data"
   ]
  },
  {
   "cell_type": "code",
   "execution_count": 155,
   "metadata": {},
   "outputs": [],
   "source": [
    "predictions = clf_s.predict(X_test)\n"
   ]
  },
  {
   "cell_type": "code",
   "execution_count": 156,
   "metadata": {},
   "outputs": [
    {
     "data": {
      "text/plain": [
       "array(['NO', 'NO', 'NO', ..., 'NOM', 'NO', 'NO'], dtype=object)"
      ]
     },
     "execution_count": 156,
     "metadata": {},
     "output_type": "execute_result"
    }
   ],
   "source": [
    "predictions\n"
   ]
  },
  {
   "cell_type": "markdown",
   "metadata": {},
   "source": [
    "Now let's get the probability of the predictions"
   ]
  },
  {
   "cell_type": "code",
   "execution_count": 157,
   "metadata": {},
   "outputs": [],
   "source": [
    "prob = clf_s.predict_proba(X_test)\n"
   ]
  },
  {
   "cell_type": "code",
   "execution_count": 158,
   "metadata": {},
   "outputs": [
    {
     "data": {
      "text/plain": [
       "array([[0.91708423, 0.02517342, 0.00133069, 0.05641166],\n",
       "       [0.87976177, 0.02707163, 0.00309813, 0.09006847],\n",
       "       [0.83866361, 0.0280262 , 0.00867814, 0.12463205],\n",
       "       ...,\n",
       "       [0.04787335, 0.84585294, 0.00960414, 0.09666957],\n",
       "       [0.97854593, 0.01146768, 0.00554343, 0.00444296],\n",
       "       [0.87530643, 0.03273736, 0.00586198, 0.08609423]])"
      ]
     },
     "execution_count": 158,
     "metadata": {},
     "output_type": "execute_result"
    }
   ],
   "source": [
    "prob"
   ]
  },
  {
   "cell_type": "markdown",
   "metadata": {},
   "source": [
    "Let's make a data frame to be able to save it later and to summit the solutions"
   ]
  },
  {
   "cell_type": "code",
   "execution_count": 159,
   "metadata": {},
   "outputs": [
    {
     "data": {
      "text/html": [
       "<div>\n",
       "<style scoped>\n",
       "    .dataframe tbody tr th:only-of-type {\n",
       "        vertical-align: middle;\n",
       "    }\n",
       "\n",
       "    .dataframe tbody tr th {\n",
       "        vertical-align: top;\n",
       "    }\n",
       "\n",
       "    .dataframe thead th {\n",
       "        text-align: right;\n",
       "    }\n",
       "</style>\n",
       "<table border=\"1\" class=\"dataframe\">\n",
       "  <thead>\n",
       "    <tr style=\"text-align: right;\">\n",
       "      <th></th>\n",
       "      <th>0</th>\n",
       "      <th>1</th>\n",
       "      <th>2</th>\n",
       "      <th>3</th>\n",
       "    </tr>\n",
       "  </thead>\n",
       "  <tbody>\n",
       "    <tr>\n",
       "      <th>0</th>\n",
       "      <td>0.917084</td>\n",
       "      <td>0.025173</td>\n",
       "      <td>0.001331</td>\n",
       "      <td>0.056412</td>\n",
       "    </tr>\n",
       "    <tr>\n",
       "      <th>1</th>\n",
       "      <td>0.879762</td>\n",
       "      <td>0.027072</td>\n",
       "      <td>0.003098</td>\n",
       "      <td>0.090068</td>\n",
       "    </tr>\n",
       "    <tr>\n",
       "      <th>2</th>\n",
       "      <td>0.838664</td>\n",
       "      <td>0.028026</td>\n",
       "      <td>0.008678</td>\n",
       "      <td>0.124632</td>\n",
       "    </tr>\n",
       "    <tr>\n",
       "      <th>3</th>\n",
       "      <td>0.351927</td>\n",
       "      <td>0.170690</td>\n",
       "      <td>0.049977</td>\n",
       "      <td>0.427406</td>\n",
       "    </tr>\n",
       "    <tr>\n",
       "      <th>4</th>\n",
       "      <td>0.742179</td>\n",
       "      <td>0.034441</td>\n",
       "      <td>0.012766</td>\n",
       "      <td>0.210614</td>\n",
       "    </tr>\n",
       "  </tbody>\n",
       "</table>\n",
       "</div>"
      ],
      "text/plain": [
       "          0         1         2         3\n",
       "0  0.917084  0.025173  0.001331  0.056412\n",
       "1  0.879762  0.027072  0.003098  0.090068\n",
       "2  0.838664  0.028026  0.008678  0.124632\n",
       "3  0.351927  0.170690  0.049977  0.427406\n",
       "4  0.742179  0.034441  0.012766  0.210614"
      ]
     },
     "execution_count": 159,
     "metadata": {},
     "output_type": "execute_result"
    }
   ],
   "source": [
    "df_predict_test=pd.DataFrame(prob) \n",
    "df_predict_test.head()"
   ]
  },
  {
   "cell_type": "code",
   "execution_count": 160,
   "metadata": {},
   "outputs": [
    {
     "data": {
      "text/html": [
       "<div>\n",
       "<style scoped>\n",
       "    .dataframe tbody tr th:only-of-type {\n",
       "        vertical-align: middle;\n",
       "    }\n",
       "\n",
       "    .dataframe tbody tr th {\n",
       "        vertical-align: top;\n",
       "    }\n",
       "\n",
       "    .dataframe thead th {\n",
       "        text-align: right;\n",
       "    }\n",
       "</style>\n",
       "<table border=\"1\" class=\"dataframe\">\n",
       "  <thead>\n",
       "    <tr style=\"text-align: right;\">\n",
       "      <th></th>\n",
       "      <th>0</th>\n",
       "      <th>1</th>\n",
       "      <th>2</th>\n",
       "      <th>3</th>\n",
       "      <th>ColumnA</th>\n",
       "    </tr>\n",
       "  </thead>\n",
       "  <tbody>\n",
       "    <tr>\n",
       "      <th>0</th>\n",
       "      <td>0.917084</td>\n",
       "      <td>0.025173</td>\n",
       "      <td>0.001331</td>\n",
       "      <td>0.056412</td>\n",
       "      <td>[0.9170842303970184, 0.025173423512497486, 0.0...</td>\n",
       "    </tr>\n",
       "    <tr>\n",
       "      <th>1</th>\n",
       "      <td>0.879762</td>\n",
       "      <td>0.027072</td>\n",
       "      <td>0.003098</td>\n",
       "      <td>0.090068</td>\n",
       "      <td>[0.8797617733404929, 0.02707162528952854, 0.00...</td>\n",
       "    </tr>\n",
       "    <tr>\n",
       "      <th>2</th>\n",
       "      <td>0.838664</td>\n",
       "      <td>0.028026</td>\n",
       "      <td>0.008678</td>\n",
       "      <td>0.124632</td>\n",
       "      <td>[0.8386636088162699, 0.02802620199377484, 0.00...</td>\n",
       "    </tr>\n",
       "    <tr>\n",
       "      <th>3</th>\n",
       "      <td>0.351927</td>\n",
       "      <td>0.170690</td>\n",
       "      <td>0.049977</td>\n",
       "      <td>0.427406</td>\n",
       "      <td>[0.3519268351000203, 0.1706900316447558, 0.049...</td>\n",
       "    </tr>\n",
       "    <tr>\n",
       "      <th>4</th>\n",
       "      <td>0.742179</td>\n",
       "      <td>0.034441</td>\n",
       "      <td>0.012766</td>\n",
       "      <td>0.210614</td>\n",
       "      <td>[0.7421787791075393, 0.0344409883468957, 0.012...</td>\n",
       "    </tr>\n",
       "    <tr>\n",
       "      <th>...</th>\n",
       "      <td>...</td>\n",
       "      <td>...</td>\n",
       "      <td>...</td>\n",
       "      <td>...</td>\n",
       "      <td>...</td>\n",
       "    </tr>\n",
       "    <tr>\n",
       "      <th>13601</th>\n",
       "      <td>0.985730</td>\n",
       "      <td>0.006919</td>\n",
       "      <td>0.000725</td>\n",
       "      <td>0.006626</td>\n",
       "      <td>[0.9857300180648586, 0.006919110624112608, 0.0...</td>\n",
       "    </tr>\n",
       "    <tr>\n",
       "      <th>13602</th>\n",
       "      <td>0.965689</td>\n",
       "      <td>0.008821</td>\n",
       "      <td>0.004398</td>\n",
       "      <td>0.021092</td>\n",
       "      <td>[0.9656885570107631, 0.008821494794838933, 0.0...</td>\n",
       "    </tr>\n",
       "    <tr>\n",
       "      <th>13603</th>\n",
       "      <td>0.047873</td>\n",
       "      <td>0.845853</td>\n",
       "      <td>0.009604</td>\n",
       "      <td>0.096670</td>\n",
       "      <td>[0.04787334593464807, 0.8458529401050005, 0.00...</td>\n",
       "    </tr>\n",
       "    <tr>\n",
       "      <th>13604</th>\n",
       "      <td>0.978546</td>\n",
       "      <td>0.011468</td>\n",
       "      <td>0.005543</td>\n",
       "      <td>0.004443</td>\n",
       "      <td>[0.9785459285263222, 0.011467680024740556, 0.0...</td>\n",
       "    </tr>\n",
       "    <tr>\n",
       "      <th>13605</th>\n",
       "      <td>0.875306</td>\n",
       "      <td>0.032737</td>\n",
       "      <td>0.005862</td>\n",
       "      <td>0.086094</td>\n",
       "      <td>[0.875306431228842, 0.03273735887516692, 0.005...</td>\n",
       "    </tr>\n",
       "  </tbody>\n",
       "</table>\n",
       "<p>13606 rows × 5 columns</p>\n",
       "</div>"
      ],
      "text/plain": [
       "              0         1         2         3  \\\n",
       "0      0.917084  0.025173  0.001331  0.056412   \n",
       "1      0.879762  0.027072  0.003098  0.090068   \n",
       "2      0.838664  0.028026  0.008678  0.124632   \n",
       "3      0.351927  0.170690  0.049977  0.427406   \n",
       "4      0.742179  0.034441  0.012766  0.210614   \n",
       "...         ...       ...       ...       ...   \n",
       "13601  0.985730  0.006919  0.000725  0.006626   \n",
       "13602  0.965689  0.008821  0.004398  0.021092   \n",
       "13603  0.047873  0.845853  0.009604  0.096670   \n",
       "13604  0.978546  0.011468  0.005543  0.004443   \n",
       "13605  0.875306  0.032737  0.005862  0.086094   \n",
       "\n",
       "                                                 ColumnA  \n",
       "0      [0.9170842303970184, 0.025173423512497486, 0.0...  \n",
       "1      [0.8797617733404929, 0.02707162528952854, 0.00...  \n",
       "2      [0.8386636088162699, 0.02802620199377484, 0.00...  \n",
       "3      [0.3519268351000203, 0.1706900316447558, 0.049...  \n",
       "4      [0.7421787791075393, 0.0344409883468957, 0.012...  \n",
       "...                                                  ...  \n",
       "13601  [0.9857300180648586, 0.006919110624112608, 0.0...  \n",
       "13602  [0.9656885570107631, 0.008821494794838933, 0.0...  \n",
       "13603  [0.04787334593464807, 0.8458529401050005, 0.00...  \n",
       "13604  [0.9785459285263222, 0.011467680024740556, 0.0...  \n",
       "13605  [0.875306431228842, 0.03273735887516692, 0.005...  \n",
       "\n",
       "[13606 rows x 5 columns]"
      ]
     },
     "execution_count": 160,
     "metadata": {},
     "output_type": "execute_result"
    }
   ],
   "source": [
    "df3 = df_predict_test.assign(ColumnA = '[' + df_predict_test[0].astype(str) + ', ' +\n",
    "  df_predict_test[1].astype(str) + ', ' +df_predict_test[2].astype(str) + ', ' +\n",
    "  df_predict_test[3].astype(str) + ']' )\n",
    "df3"
   ]
  },
  {
   "cell_type": "code",
   "execution_count": 162,
   "metadata": {},
   "outputs": [
    {
     "data": {
      "text/html": [
       "<div>\n",
       "<style scoped>\n",
       "    .dataframe tbody tr th:only-of-type {\n",
       "        vertical-align: middle;\n",
       "    }\n",
       "\n",
       "    .dataframe tbody tr th {\n",
       "        vertical-align: top;\n",
       "    }\n",
       "\n",
       "    .dataframe thead th {\n",
       "        text-align: right;\n",
       "    }\n",
       "</style>\n",
       "<table border=\"1\" class=\"dataframe\">\n",
       "  <thead>\n",
       "    <tr style=\"text-align: right;\">\n",
       "      <th></th>\n",
       "      <th>id</th>\n",
       "      <th>Labels</th>\n",
       "      <th>Prob</th>\n",
       "    </tr>\n",
       "  </thead>\n",
       "  <tbody>\n",
       "    <tr>\n",
       "      <th>0</th>\n",
       "      <td>54745</td>\n",
       "      <td>NO</td>\n",
       "      <td>[0.9170842303970184, 0.025173423512497486, 0.0...</td>\n",
       "    </tr>\n",
       "    <tr>\n",
       "      <th>1</th>\n",
       "      <td>5595</td>\n",
       "      <td>NO</td>\n",
       "      <td>[0.8797617733404929, 0.02707162528952854, 0.00...</td>\n",
       "    </tr>\n",
       "    <tr>\n",
       "      <th>2</th>\n",
       "      <td>53477</td>\n",
       "      <td>NO</td>\n",
       "      <td>[0.8386636088162699, 0.02802620199377484, 0.00...</td>\n",
       "    </tr>\n",
       "    <tr>\n",
       "      <th>3</th>\n",
       "      <td>7385</td>\n",
       "      <td>NO</td>\n",
       "      <td>[0.3519268351000203, 0.1706900316447558, 0.049...</td>\n",
       "    </tr>\n",
       "    <tr>\n",
       "      <th>4</th>\n",
       "      <td>551</td>\n",
       "      <td>NO</td>\n",
       "      <td>[0.7421787791075393, 0.0344409883468957, 0.012...</td>\n",
       "    </tr>\n",
       "  </tbody>\n",
       "</table>\n",
       "</div>"
      ],
      "text/plain": [
       "      id Labels                                               Prob\n",
       "0  54745     NO  [0.9170842303970184, 0.025173423512497486, 0.0...\n",
       "1   5595     NO  [0.8797617733404929, 0.02707162528952854, 0.00...\n",
       "2  53477     NO  [0.8386636088162699, 0.02802620199377484, 0.00...\n",
       "3   7385     NO  [0.3519268351000203, 0.1706900316447558, 0.049...\n",
       "4    551     NO  [0.7421787791075393, 0.0344409883468957, 0.012..."
      ]
     },
     "execution_count": 162,
     "metadata": {},
     "output_type": "execute_result"
    }
   ],
   "source": [
    "df_final = pd.DataFrame()\n",
    "df_final['id']=list(test2.comment_id)\n",
    "df_final['Labels']=list(predictions)\n",
    "df_final['Prob']= df3.ColumnA\n",
    "\n",
    "df_final.head()\n"
   ]
  },
  {
   "cell_type": "code",
   "execution_count": 163,
   "metadata": {},
   "outputs": [],
   "source": [
    "# df_final = pd.DataFrame()\n",
    "# df_final['id']=list(test2.comment_id)\n",
    "# df_final['Labels']=list(predictions)\n",
    "# df_final['Prob']= list(prob)\n",
    "\n",
    "\n",
    "# print(df_final.str.cat(sep='\\n'))"
   ]
  },
  {
   "cell_type": "code",
   "execution_count": 165,
   "metadata": {},
   "outputs": [],
   "source": [
    "df_final.to_csv('ContextTestOffenES.tsv', sep='\\t', header=False, index=False)\n"
   ]
  },
  {
   "cell_type": "code",
   "execution_count": null,
   "metadata": {},
   "outputs": [],
   "source": []
  },
  {
   "cell_type": "code",
   "execution_count": null,
   "metadata": {},
   "outputs": [],
   "source": [
    "\n",
    "with open('output.tsv', 'w') as outfile:\n",
    "    for x in df_final.iterrows():\n",
    "        outfile.write(str(x))\n"
   ]
  },
  {
   "cell_type": "code",
   "execution_count": null,
   "metadata": {},
   "outputs": [],
   "source": [
    "for x in df_final.iterrows():\n",
    "    print(x)"
   ]
  },
  {
   "cell_type": "code",
   "execution_count": null,
   "metadata": {},
   "outputs": [],
   "source": [
    "import csv\n",
    "df_final.to_csv('ContextTestOffenES.tsv', sep='\\t', header=False, index=False)\n"
   ]
  },
  {
   "cell_type": "code",
   "execution_count": null,
   "metadata": {},
   "outputs": [],
   "source": [
    "df_final_v2 = pd.DataFrame()\n",
    "df_final_v2['id']=list(test2.comment_id)\n",
    "df_final_v2['Labels']=list(predictions)\n",
    "# df_final['Prob']= list(prob)\n",
    "pd.DataFrame(df_final_v2)"
   ]
  },
  {
   "cell_type": "code",
   "execution_count": null,
   "metadata": {},
   "outputs": [],
   "source": [
    "df_final_v2.to_csv('ContextTestOffenES_v2.tsv', sep='\\t', header=False, index=False)\n"
   ]
  },
  {
   "cell_type": "code",
   "execution_count": null,
   "metadata": {},
   "outputs": [],
   "source": [
    "with open('output2.tsv', 'w') as outfile:\n",
    "    for x in pd.DataFrame(df_final_v2).iterrows():\n",
    "        outfile.write(str(x))\n",
    "        "
   ]
  },
  {
   "cell_type": "code",
   "execution_count": null,
   "metadata": {},
   "outputs": [],
   "source": []
  }
 ],
 "metadata": {
  "kernelspec": {
   "display_name": "Python 3",
   "language": "python",
   "name": "python3"
  },
  "language_info": {
   "codemirror_mode": {
    "name": "ipython",
    "version": 3
   },
   "file_extension": ".py",
   "mimetype": "text/x-python",
   "name": "python",
   "nbconvert_exporter": "python",
   "pygments_lexer": "ipython3",
   "version": "3.7.6"
  }
 },
 "nbformat": 4,
 "nbformat_minor": 4
}
