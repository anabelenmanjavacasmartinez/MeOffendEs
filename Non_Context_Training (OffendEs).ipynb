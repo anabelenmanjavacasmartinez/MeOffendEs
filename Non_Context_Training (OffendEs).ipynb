{
 "cells": [
  {
   "cell_type": "markdown",
   "metadata": {},
   "source": [
    "# Training (OffendEs)"
   ]
  },
  {
   "cell_type": "code",
   "execution_count": 1,
   "metadata": {},
   "outputs": [],
   "source": [
    "# !conda install -c conda-forge nbstripout\n",
    "\n"
   ]
  },
  {
   "cell_type": "code",
   "execution_count": 2,
   "metadata": {},
   "outputs": [],
   "source": [
    "import itertools\n",
    "import numpy as np\n",
    "import matplotlib.pyplot as plt\n",
    "import seaborn as sns\n",
    "from matplotlib.ticker import NullFormatter\n",
    "import pandas as pd\n",
    "import scipy.optimize as opt\n",
    "from sklearn import preprocessing\n",
    "import matplotlib.ticker as ticker\n",
    "from sklearn import preprocessing\n",
    "%matplotlib inline"
   ]
  },
  {
   "cell_type": "code",
   "execution_count": 3,
   "metadata": {},
   "outputs": [],
   "source": [
    "# !pip install gensim\n"
   ]
  },
  {
   "cell_type": "code",
   "execution_count": 4,
   "metadata": {},
   "outputs": [],
   "source": [
    "# !pip install \"gensim==3.8.1\"\n"
   ]
  },
  {
   "cell_type": "code",
   "execution_count": 5,
   "metadata": {},
   "outputs": [],
   "source": [
    "# !pip uninstall gensim\n",
    "# !pip install gensim\n",
    "# !pip install --upgrade gensim"
   ]
  },
  {
   "cell_type": "code",
   "execution_count": 6,
   "metadata": {},
   "outputs": [],
   "source": [
    "import pandas as pd\n",
    "import numpy as np\n",
    "import re\n",
    "import nltk\n",
    "from nltk.stem import WordNetLemmatizer\n",
    "from nltk import word_tokenize\n",
    "from nltk.corpus import stopwords\n",
    "import string\n",
    "import matplotlib.pyplot as plt\n",
    "import gensim\n",
    "import numpy as np\n",
    "from gensim.models import CoherenceModel, LdaModel, LsiModel, HdpModel\n",
    "# from gensim.models.wrappers import LdaMallet\n",
    "from gensim.corpora import Dictionary\n"
   ]
  },
  {
   "cell_type": "code",
   "execution_count": 7,
   "metadata": {},
   "outputs": [],
   "source": [
    "from gensim.models.wrappers import LdaMallet\n"
   ]
  },
  {
   "cell_type": "code",
   "execution_count": 8,
   "metadata": {},
   "outputs": [],
   "source": [
    "train1= pd.read_csv('traindata1.tsv', engine='python', error_bad_lines=False, delimiter='\\t')\n",
    "train2= pd.read_csv('traindata2.tsv', engine='python', error_bad_lines=False, delimiter='\\t')\n",
    "\n",
    "\n"
   ]
  },
  {
   "cell_type": "code",
   "execution_count": 9,
   "metadata": {},
   "outputs": [
    {
     "data": {
      "text/html": [
       "<div>\n",
       "<style scoped>\n",
       "    .dataframe tbody tr th:only-of-type {\n",
       "        vertical-align: middle;\n",
       "    }\n",
       "\n",
       "    .dataframe tbody tr th {\n",
       "        vertical-align: top;\n",
       "    }\n",
       "\n",
       "    .dataframe thead th {\n",
       "        text-align: right;\n",
       "    }\n",
       "</style>\n",
       "<table border=\"1\" class=\"dataframe\">\n",
       "  <thead>\n",
       "    <tr style=\"text-align: right;\">\n",
       "      <th></th>\n",
       "      <th>comment_id</th>\n",
       "      <th>comment</th>\n",
       "      <th>label</th>\n",
       "    </tr>\n",
       "  </thead>\n",
       "  <tbody>\n",
       "    <tr>\n",
       "      <th>0</th>\n",
       "      <td>52564</td>\n",
       "      <td>En vez de la magia de mi melena, la magia de m...</td>\n",
       "      <td>NO</td>\n",
       "    </tr>\n",
       "    <tr>\n",
       "      <th>1</th>\n",
       "      <td>32984</td>\n",
       "      <td>A ver, los milenials y la gente normal necesit...</td>\n",
       "      <td>NO</td>\n",
       "    </tr>\n",
       "    <tr>\n",
       "      <th>2</th>\n",
       "      <td>58447</td>\n",
       "      <td>Me encanta todo el contenido que haces se nota...</td>\n",
       "      <td>NO</td>\n",
       "    </tr>\n",
       "    <tr>\n",
       "      <th>3</th>\n",
       "      <td>10341</td>\n",
       "      <td>a Laura sige así que vales mucho más que 10 o ...</td>\n",
       "      <td>NO</td>\n",
       "    </tr>\n",
       "    <tr>\n",
       "      <th>4</th>\n",
       "      <td>53087</td>\n",
       "      <td>Y si no mes gusta Dalas, que hacen aquí,lárgue...</td>\n",
       "      <td>NO</td>\n",
       "    </tr>\n",
       "  </tbody>\n",
       "</table>\n",
       "</div>"
      ],
      "text/plain": [
       "   comment_id                                            comment label\n",
       "0       52564  En vez de la magia de mi melena, la magia de m...    NO\n",
       "1       32984  A ver, los milenials y la gente normal necesit...    NO\n",
       "2       58447  Me encanta todo el contenido que haces se nota...    NO\n",
       "3       10341  a Laura sige así que vales mucho más que 10 o ...    NO\n",
       "4       53087  Y si no mes gusta Dalas, que hacen aquí,lárgue...    NO"
      ]
     },
     "execution_count": 9,
     "metadata": {},
     "output_type": "execute_result"
    }
   ],
   "source": [
    "train1.head()"
   ]
  },
  {
   "cell_type": "code",
   "execution_count": 10,
   "metadata": {},
   "outputs": [
    {
     "data": {
      "text/html": [
       "<div>\n",
       "<style scoped>\n",
       "    .dataframe tbody tr th:only-of-type {\n",
       "        vertical-align: middle;\n",
       "    }\n",
       "\n",
       "    .dataframe tbody tr th {\n",
       "        vertical-align: top;\n",
       "    }\n",
       "\n",
       "    .dataframe thead th {\n",
       "        text-align: right;\n",
       "    }\n",
       "</style>\n",
       "<table border=\"1\" class=\"dataframe\">\n",
       "  <thead>\n",
       "    <tr style=\"text-align: right;\">\n",
       "      <th></th>\n",
       "      <th>comment_id</th>\n",
       "      <th>comment</th>\n",
       "    </tr>\n",
       "    <tr>\n",
       "      <th>label</th>\n",
       "      <th></th>\n",
       "      <th></th>\n",
       "    </tr>\n",
       "  </thead>\n",
       "  <tbody>\n",
       "    <tr>\n",
       "      <th>NO</th>\n",
       "      <td>13212</td>\n",
       "      <td>13212</td>\n",
       "    </tr>\n",
       "    <tr>\n",
       "      <th>NOM</th>\n",
       "      <td>1235</td>\n",
       "      <td>1235</td>\n",
       "    </tr>\n",
       "    <tr>\n",
       "      <th>OFG</th>\n",
       "      <td>212</td>\n",
       "      <td>212</td>\n",
       "    </tr>\n",
       "    <tr>\n",
       "      <th>OFP</th>\n",
       "      <td>2051</td>\n",
       "      <td>2051</td>\n",
       "    </tr>\n",
       "  </tbody>\n",
       "</table>\n",
       "</div>"
      ],
      "text/plain": [
       "       comment_id  comment\n",
       "label                     \n",
       "NO          13212    13212\n",
       "NOM          1235     1235\n",
       "OFG           212      212\n",
       "OFP          2051     2051"
      ]
     },
     "execution_count": 10,
     "metadata": {},
     "output_type": "execute_result"
    }
   ],
   "source": [
    "train1.groupby('label').count()"
   ]
  },
  {
   "cell_type": "code",
   "execution_count": 11,
   "metadata": {},
   "outputs": [
    {
     "data": {
      "text/html": [
       "<div>\n",
       "<style scoped>\n",
       "    .dataframe tbody tr th:only-of-type {\n",
       "        vertical-align: middle;\n",
       "    }\n",
       "\n",
       "    .dataframe tbody tr th {\n",
       "        vertical-align: top;\n",
       "    }\n",
       "\n",
       "    .dataframe thead tr th {\n",
       "        text-align: left;\n",
       "    }\n",
       "\n",
       "    .dataframe thead tr:last-of-type th {\n",
       "        text-align: right;\n",
       "    }\n",
       "</style>\n",
       "<table border=\"1\" class=\"dataframe\">\n",
       "  <thead>\n",
       "    <tr>\n",
       "      <th></th>\n",
       "      <th colspan=\"8\" halign=\"left\">comment_id</th>\n",
       "    </tr>\n",
       "    <tr>\n",
       "      <th></th>\n",
       "      <th>count</th>\n",
       "      <th>mean</th>\n",
       "      <th>std</th>\n",
       "      <th>min</th>\n",
       "      <th>25%</th>\n",
       "      <th>50%</th>\n",
       "      <th>75%</th>\n",
       "      <th>max</th>\n",
       "    </tr>\n",
       "    <tr>\n",
       "      <th>label</th>\n",
       "      <th></th>\n",
       "      <th></th>\n",
       "      <th></th>\n",
       "      <th></th>\n",
       "      <th></th>\n",
       "      <th></th>\n",
       "      <th></th>\n",
       "      <th></th>\n",
       "    </tr>\n",
       "  </thead>\n",
       "  <tbody>\n",
       "    <tr>\n",
       "      <th>NO</th>\n",
       "      <td>13212.0</td>\n",
       "      <td>30854.272404</td>\n",
       "      <td>17655.094537</td>\n",
       "      <td>0.0</td>\n",
       "      <td>15607.75</td>\n",
       "      <td>31242.0</td>\n",
       "      <td>46521.5</td>\n",
       "      <td>59998.0</td>\n",
       "    </tr>\n",
       "    <tr>\n",
       "      <th>NOM</th>\n",
       "      <td>1235.0</td>\n",
       "      <td>29871.959514</td>\n",
       "      <td>16967.872876</td>\n",
       "      <td>40.0</td>\n",
       "      <td>15272.00</td>\n",
       "      <td>29902.0</td>\n",
       "      <td>43936.0</td>\n",
       "      <td>59990.0</td>\n",
       "    </tr>\n",
       "    <tr>\n",
       "      <th>OFG</th>\n",
       "      <td>212.0</td>\n",
       "      <td>27191.372642</td>\n",
       "      <td>17671.654202</td>\n",
       "      <td>45.0</td>\n",
       "      <td>11501.00</td>\n",
       "      <td>25032.5</td>\n",
       "      <td>42968.5</td>\n",
       "      <td>59745.0</td>\n",
       "    </tr>\n",
       "    <tr>\n",
       "      <th>OFP</th>\n",
       "      <td>2051.0</td>\n",
       "      <td>29422.713311</td>\n",
       "      <td>17052.697265</td>\n",
       "      <td>35.0</td>\n",
       "      <td>14702.50</td>\n",
       "      <td>28638.0</td>\n",
       "      <td>44193.0</td>\n",
       "      <td>59982.0</td>\n",
       "    </tr>\n",
       "  </tbody>\n",
       "</table>\n",
       "</div>"
      ],
      "text/plain": [
       "      comment_id                                                       \\\n",
       "           count          mean           std   min       25%      50%   \n",
       "label                                                                   \n",
       "NO       13212.0  30854.272404  17655.094537   0.0  15607.75  31242.0   \n",
       "NOM       1235.0  29871.959514  16967.872876  40.0  15272.00  29902.0   \n",
       "OFG        212.0  27191.372642  17671.654202  45.0  11501.00  25032.5   \n",
       "OFP       2051.0  29422.713311  17052.697265  35.0  14702.50  28638.0   \n",
       "\n",
       "                         \n",
       "           75%      max  \n",
       "label                    \n",
       "NO     46521.5  59998.0  \n",
       "NOM    43936.0  59990.0  \n",
       "OFG    42968.5  59745.0  \n",
       "OFP    44193.0  59982.0  "
      ]
     },
     "execution_count": 11,
     "metadata": {},
     "output_type": "execute_result"
    }
   ],
   "source": [
    "train1.groupby('label').describe()"
   ]
  },
  {
   "cell_type": "code",
   "execution_count": 12,
   "metadata": {},
   "outputs": [],
   "source": [
    "train1['length']=train1['comment'].apply(len)"
   ]
  },
  {
   "cell_type": "code",
   "execution_count": 13,
   "metadata": {},
   "outputs": [
    {
     "data": {
      "text/html": [
       "<div>\n",
       "<style scoped>\n",
       "    .dataframe tbody tr th:only-of-type {\n",
       "        vertical-align: middle;\n",
       "    }\n",
       "\n",
       "    .dataframe tbody tr th {\n",
       "        vertical-align: top;\n",
       "    }\n",
       "\n",
       "    .dataframe thead th {\n",
       "        text-align: right;\n",
       "    }\n",
       "</style>\n",
       "<table border=\"1\" class=\"dataframe\">\n",
       "  <thead>\n",
       "    <tr style=\"text-align: right;\">\n",
       "      <th></th>\n",
       "      <th>comment_id</th>\n",
       "      <th>comment</th>\n",
       "      <th>label</th>\n",
       "      <th>length</th>\n",
       "    </tr>\n",
       "  </thead>\n",
       "  <tbody>\n",
       "    <tr>\n",
       "      <th>0</th>\n",
       "      <td>52564</td>\n",
       "      <td>En vez de la magia de mi melena, la magia de m...</td>\n",
       "      <td>NO</td>\n",
       "      <td>56</td>\n",
       "    </tr>\n",
       "    <tr>\n",
       "      <th>1</th>\n",
       "      <td>32984</td>\n",
       "      <td>A ver, los milenials y la gente normal necesit...</td>\n",
       "      <td>NO</td>\n",
       "      <td>135</td>\n",
       "    </tr>\n",
       "    <tr>\n",
       "      <th>2</th>\n",
       "      <td>58447</td>\n",
       "      <td>Me encanta todo el contenido que haces se nota...</td>\n",
       "      <td>NO</td>\n",
       "      <td>165</td>\n",
       "    </tr>\n",
       "    <tr>\n",
       "      <th>3</th>\n",
       "      <td>10341</td>\n",
       "      <td>a Laura sige así que vales mucho más que 10 o ...</td>\n",
       "      <td>NO</td>\n",
       "      <td>81</td>\n",
       "    </tr>\n",
       "    <tr>\n",
       "      <th>4</th>\n",
       "      <td>53087</td>\n",
       "      <td>Y si no mes gusta Dalas, que hacen aquí,lárgue...</td>\n",
       "      <td>NO</td>\n",
       "      <td>560</td>\n",
       "    </tr>\n",
       "  </tbody>\n",
       "</table>\n",
       "</div>"
      ],
      "text/plain": [
       "   comment_id                                            comment label  length\n",
       "0       52564  En vez de la magia de mi melena, la magia de m...    NO      56\n",
       "1       32984  A ver, los milenials y la gente normal necesit...    NO     135\n",
       "2       58447  Me encanta todo el contenido que haces se nota...    NO     165\n",
       "3       10341  a Laura sige así que vales mucho más que 10 o ...    NO      81\n",
       "4       53087  Y si no mes gusta Dalas, que hacen aquí,lárgue...    NO     560"
      ]
     },
     "execution_count": 13,
     "metadata": {},
     "output_type": "execute_result"
    }
   ],
   "source": [
    "train1.head()"
   ]
  },
  {
   "cell_type": "code",
   "execution_count": 14,
   "metadata": {},
   "outputs": [
    {
     "data": {
      "text/plain": [
       "<matplotlib.axes._subplots.AxesSubplot at 0x7ffccc7a1ed0>"
      ]
     },
     "execution_count": 14,
     "metadata": {},
     "output_type": "execute_result"
    },
    {
     "data": {
      "image/png": "[encoded data removed]",
      "text/plain": [
       "<Figure size 432x288 with 1 Axes>"
      ]
     },
     "metadata": {
      "needs_background": "light"
     },
     "output_type": "display_data"
    }
   ],
   "source": [
    "train1['length'].plot.hist(bins=1000)"
   ]
  },
  {
   "cell_type": "code",
   "execution_count": 15,
   "metadata": {},
   "outputs": [],
   "source": [
    "# np.__version__"
   ]
  },
  {
   "cell_type": "code",
   "execution_count": 16,
   "metadata": {},
   "outputs": [],
   "source": [
    "# pd.__version__"
   ]
  },
  {
   "cell_type": "code",
   "execution_count": 17,
   "metadata": {},
   "outputs": [
    {
     "data": {
      "text/plain": [
       "count    16710.000000\n",
       "mean       172.339078\n",
       "std        209.464901\n",
       "min          3.000000\n",
       "25%         84.000000\n",
       "50%        134.000000\n",
       "75%        199.000000\n",
       "max       9887.000000\n",
       "Name: length, dtype: float64"
      ]
     },
     "execution_count": 17,
     "metadata": {},
     "output_type": "execute_result"
    }
   ],
   "source": [
    "train1['length'].describe()"
   ]
  },
  {
   "cell_type": "code",
   "execution_count": 18,
   "metadata": {},
   "outputs": [
    {
     "data": {
      "text/plain": [
       "'Nosotros no tenemos nada que esconder :v Nosotros no tenemos nada que esconder  Nosotros no tenemos nada que esconder  Nosotros no tenemos nada que esconder  Nosotros no tenemos nada que esconder  Nosotros no tenemos nada que esconder  Nosotros no tenemos nada que esconder  Nosotros no tenemos nada que esconder  Nosotros no tenemos nada que esconder  Nosotros no tenemos nada que esconder  Nosotros no tenemos nada que esconder  Nosotros no tenemos nada que esconder  Nosotros no tenemos nada que esconder  Nosotros no tenemos nada que esconder  Nosotros no tenemos nada que esconder  Nosotros no tenemos nada que esconder  Nosotros no tenemos nada que esconder  Nosotros no tenemos nada que esconder  Nosotros no tenemos nada que esconder  Nosotros no tenemos nada que esconder  Nosotros no tenemos nada que esconder  Nosotros no tenemos nada que esconder  Nosotros no tenemos nada que esconder  Nosotros no tenemos nada que esconder  Nosotros no tenemos nada que esconder  Nosotros no tenemos nada que esconder  Nosotros no tenemos nada que esconder  Nosotros no tenemos nada que esconder  Nosotros no tenemos nada que esconder  Nosotros no tenemos nada que esconder  Nosotros no tenemos nada que esconder  Nosotros no tenemos nada que esconder  Nosotros no tenemos nada que esconder  Nosotros no tenemos nada que esconder  Nosotros no tenemos nada que esconder  Nosotros no tenemos nada que esconder  Nosotros no tenemos nada que esconder  Nosotros no tenemos nada que esconder  Nosotros no tenemos nada que esconder  Nosotros no tenemos nada que esconder  Nosotros no tenemos nada que esconder  Nosotros no tenemos nada que esconder  Nosotros no tenemos nada que esconder Nosotros no tenemos nada que esconder  Nosotros no tenemos nada que esconder  Nosotros no tenemos nada que esconder  Nosotros no tenemos nada que esconder  Nosotros no tenemos nada que esconder  Nosotros no tenemos nada que esconder  Nosotros no tenemos nada que esconder  Nosotros no tenemos nada que esconder  CALVO :v (¡2019! Nosotros no tenemos nada que esconder  Nosotros no tenemos nada que esconder  Nosotros no tenemos nada que esconder  Nosotros no tenemos nada que esconder  Nosotros no tenemos nada que esconder  Nosotros no tenemos nada que esconder  Nosotros no tenemos nada que esconder  Nosotros no tenemos nada que esconder  Nosotros no tenemos nada que esconder  Nosotros no tenemos nada que esconder  Nosotros no tenemos nada que esconder  Nosotros no tenemos nada que esconder  Nosotros no tenemos nada que esconder  Nosotros no tenemos nada que esconder  Nosotros no tenemos nada que esconder  Nosotros no tenemos nada que esconder  Nosotros no tenemos nada que esconder  Nosotros no tenemos nada que esconder  Nosotros no tenemos nada que esconder  Nosotros no tenemos nada que esconder  Nosotros no tenemos nada que esconder  Nosotros no tenemos nada que esconder  Nosotros no tenemos nada que esconder  Nosotros no tenemos nada que esconder  Nosotros no tenemos nada que esconder  Nosotros no tenemos nada que esconder  Nosotros no tenemos nada que esconder  Nosotros no tenemos nada que esconder  Nosotros no tenemos nada que esconder  Nosotros no tenemos nada que esconder  Nosotros no tenemos nada que esconder  Nosotros no tenemos nada que esconder  Nosotros no tenemos nada que esconder  Nosotros no tenemos nada que esconder  Nosotros no tenemos nada que esconder  Nosotros no tenemos nada que esconder  Nosotros no tenemos nada que esconder  Nosotros no tenemos nada que esconder  Nosotros no tenemos nada que esconder  Nosotros no tenemos nada que esconder  Nosotros no tenemos nada que esconder  Nosotros no tenemos nada que esconder  Nosotros no tenemos nada que esconder  Nosotros no tenemos nada que esconder  Nosotros no tenemos nada que esconder  Nosotros no tenemos nada que esconder  Nosotros no tenemos nada que esconder  Nosotros no tenemos nada que esconder  Nosotros no tenemos nada que esconder  Nosotros no tenemos nada que esconder Nosotros no tenemos nada que esconder Nosotros no tenemos nada que esconder Nosotros no tenemos nada que esconder Nosotros no tenemos nada que esconder Nosotros no tenemos nada que esconder Nosotros no tenemos nada que esconder Nosotros no tenemos nada que esconder Nosotros no tenemos nada que esconder Nosotros no tenemos nada que esconder Nosotros no tenemos nada que esconder Nosotros no tenemos nada que esconder :v Nosotros no tenemos nada que esconder  Nosotros no tenemos nada que esconder  Nosotros no tenemos nada que esconder  Nosotros no tenemos nada que esconder  Nosotros no tenemos nada que esconder  Nosotros no tenemos nada que esconder  Nosotros no tenemos nada que esconder  Nosotros no tenemos nada que esconder  Nosotros no tenemos nada que esconder  Nosotros no tenemos nada que esconder  Nosotros no tenemos nada que esconder  Nosotros no tenemos nada que esconder  Nosotros no tenemos nada que esconder  Nosotros no tenemos nada que esconder  Nosotros no tenemos nada que esconder  Nosotros no tenemos nada que esconder  Nosotros no tenemos nada que esconder  Nosotros no tenemos nada que esconder  Nosotros no tenemos nada que esconder  Nosotros no tenemos nada que esconder  Nosotros no tenemos nada que esconder  Nosotros no tenemos nada que esconder  Nosotros no tenemos nada que esconder  Nosotros no tenemos nada que esconder  Nosotros no tenemos nada que esconder  Nosotros no tenemos nada que esconder  Nosotros no tenemos nada que esconder  Nosotros no tenemos nada que esconder  Nosotros no tenemos nada que esconder  Nosotros no tenemos nada que esconder  Nosotros no tenemos nada que esconder  Nosotros no tenemos nada que esconder  Nosotros no tenemos nada que esconder  Nosotros no tenemos nada que esconder  Nosotros no tenemos nada que esconder  Nosotros no tenemos nada que esconder  Nosotros no tenemos nada que esconder  Nosotros no tenemos nada que esconder  Nosotros no tenemos nada que esconder  Nosotros no tenemos nada que esconder  Nosotros no tenemos nada que esconder  Nosotros no tenemos nada que esconder Nosotros no tenemos nada que esconder  Nosotros no tenemos nada que esconder  Nosotros no tenemos nada que esconder  Nosotros no tenemos nada que esconder  Nosotros no tenemos nada que esconder  Nosotros no tenemos nada que esconder  Nosotros no tenemos nada que esconder  Nosotros no tenemos nada que esconder  CALVO :v (¡2019! Nosotros no tenemos nada que esconder  Nosotros no tenemos nada que esconder  Nosotros no tenemos nada que esconder  Nosotros no tenemos nada que esconder  Nosotros no tenemos nada que esconder  Nosotros no tenemos nada que esconder  Nosotros no tenemos nada que esconder  Nosotros no tenemos nada que esconder  Nosotros no tenemos nada que esconder  Nosotros no tenemos nada que esconder  Nosotros no tenemos nada que esconder  Nosotros no tenemos nada que esconder  Nosotros no tenemos nada que esconder  Nosotros no tenemos nada que esconder  Nosotros no tenemos nada que esconder  Nosotros no tenemos nada que esconder  Nosotros no tenemos nada que esconder  Nosotros no tenemos nada que esconder  Nosotros no tenemos nada que esconder  Nosotros no tenemos nada que esconder  Nosotros no tenemos nada que esconder  Nosotros no tenemos nada que esconder  Nosotros no tenemos nada que esconder  Nosotros no tenemos nada que esconder  Nosotros no tenemos nada que esconder  Nosotros no tenemos nada que esconder  Nosotros no tenemos nada que esconder  Nosotros no tenemos nada que esconder  Nosotros no tenemos nada que esconder  Nosotros no tenemos nada que esconder  Nosotros no tenemos nada que esconder  Nosotros no tenemos nada que esconder  Nosotros no tenemos nada que esconder  Nosotros no tenemos nada que esconder  Nosotros no tenemos nada que esconder  Nosotros no tenemos nada que esconder  Nosotros no tenemos nada que esconder  Nosotros no tenemos nada que esconder  Nosotros no tenemos nada que esconder  Nosotros no tenemos nada que esconder  Nosotros no tenemos nada que esconder  Nosotros no tenemos nada que esconder  Nosotros no tenemos nada que esconder  Nosotros no tenemos nada que esconder  Nosotros no tenemos nada que esconder  Nosotros no tenemos nada que esconder  Nosotros no tenemos nada que esconder  Nosotros no tenemos nada que esconder  Nosotros no tenemos nada que esconder  Nosotros no tenemos nada que esconder Nosotros no tenemos nada que esconder Nosotros no tenemos nada que esconder Nosotros no tenemos nada que esconder Nosotros no tenemos nada que esconder Nosotros no tenemos nada que esconder Nosotros no tenemos nada que esconder Nosotros no tenemos nada que esconder Nosotros no tenemos nada que esconder Nosotros no tenemos nada que esconder Nosotros no tenemos nada que esconder Nosotros no tenemos nada que esconder Nosotros no tenemos nada que esconder Nosotros no tenemos nada que esconder Nosotros no tenemos nada que esconder Nosotros no tenemos nada que esconder Nosotros no tenemos nada que esconder Nosotros no tenemos nada que esconder Nosotros no tenemos nada que esconder Nosotros no tenemos nada que esconder Nosotros no tenemos nada que esconder Nosotros no tenemos nada que esconder Nosotros no tenemos nada que esconder Nosotros no tenemos nada que esconder Nosotros no tenemos nada que esconder Nosotros no tenemos nada que esconder Nosotros no tenemos nada que esconder Nosotros no tenemos nada que esconder Nosotros no tenemos nada que esconder Nosotros no tenemos nada que esconder Nosotros no tenemos nada que esconder Nosotros no tenemos nada que esconder Nosotros no tenemos nada que esconder Nosotros no tenemos nada que esconder Nosotros no tenemos nada que esconder Nosotros no tenemos nada que esconder Nosotros no tenemos nada que esconder Nosotros no tenemos nada que esconder Nosotros no tenemos nada que esconder Nosotros no tenemos nada que esconder Nosotros no tenemos nada que esconder Nosotros no tenemos nada que esconder Nosotros no tenemos nada que esconder'"
      ]
     },
     "execution_count": 18,
     "metadata": {},
     "output_type": "execute_result"
    }
   ],
   "source": [
    "train1[train1['length']==9887]['comment'].iloc[0]"
   ]
  },
  {
   "cell_type": "code",
   "execution_count": 19,
   "metadata": {},
   "outputs": [
    {
     "data": {
      "text/plain": [
       "array([[<matplotlib.axes._subplots.AxesSubplot object at 0x7ffccd54c810>,\n",
       "        <matplotlib.axes._subplots.AxesSubplot object at 0x7ffccd5a6d90>],\n",
       "       [<matplotlib.axes._subplots.AxesSubplot object at 0x7ffccd5d50d0>,\n",
       "        <matplotlib.axes._subplots.AxesSubplot object at 0x7ffccd5e0dd0>]],\n",
       "      dtype=object)"
      ]
     },
     "execution_count": 19,
     "metadata": {},
     "output_type": "execute_result"
    },
    {
     "data": {
      "image/png": "[encoded data removed]",
      "text/plain": [
       "<Figure size 1728x1008 with 4 Axes>"
      ]
     },
     "metadata": {
      "needs_background": "light"
     },
     "output_type": "display_data"
    }
   ],
   "source": [
    "train1.hist(column='length', by='label', bins=60, figsize=(24,14))"
   ]
  },
  {
   "cell_type": "code",
   "execution_count": 20,
   "metadata": {},
   "outputs": [],
   "source": [
    "import string"
   ]
  },
  {
   "cell_type": "code",
   "execution_count": 21,
   "metadata": {},
   "outputs": [],
   "source": [
    "from nltk.corpus import stopwords"
   ]
  },
  {
   "cell_type": "code",
   "execution_count": 22,
   "metadata": {},
   "outputs": [],
   "source": [
    "def text_process(mess):\n",
    "    \"\"\"\n",
    "    1.remove punc\n",
    "    2.remove stop words\n",
    "    3.return list of clean text words\n",
    "    \"\"\"\n",
    "    nopunc = [char for char in mess if char not in string.punctuation]\n",
    "    nopunc = ''.join(nopunc)\n",
    "    \n",
    "    return [word for word in nopunc.split() if word.lower() not in stopwords.words('spanish')]"
   ]
  },
  {
   "cell_type": "code",
   "execution_count": 23,
   "metadata": {},
   "outputs": [
    {
     "data": {
      "text/html": [
       "<div>\n",
       "<style scoped>\n",
       "    .dataframe tbody tr th:only-of-type {\n",
       "        vertical-align: middle;\n",
       "    }\n",
       "\n",
       "    .dataframe tbody tr th {\n",
       "        vertical-align: top;\n",
       "    }\n",
       "\n",
       "    .dataframe thead th {\n",
       "        text-align: right;\n",
       "    }\n",
       "</style>\n",
       "<table border=\"1\" class=\"dataframe\">\n",
       "  <thead>\n",
       "    <tr style=\"text-align: right;\">\n",
       "      <th></th>\n",
       "      <th>comment_id</th>\n",
       "      <th>comment</th>\n",
       "      <th>label</th>\n",
       "      <th>length</th>\n",
       "    </tr>\n",
       "  </thead>\n",
       "  <tbody>\n",
       "    <tr>\n",
       "      <th>0</th>\n",
       "      <td>52564</td>\n",
       "      <td>En vez de la magia de mi melena, la magia de m...</td>\n",
       "      <td>NO</td>\n",
       "      <td>56</td>\n",
       "    </tr>\n",
       "    <tr>\n",
       "      <th>1</th>\n",
       "      <td>32984</td>\n",
       "      <td>A ver, los milenials y la gente normal necesit...</td>\n",
       "      <td>NO</td>\n",
       "      <td>135</td>\n",
       "    </tr>\n",
       "    <tr>\n",
       "      <th>2</th>\n",
       "      <td>58447</td>\n",
       "      <td>Me encanta todo el contenido que haces se nota...</td>\n",
       "      <td>NO</td>\n",
       "      <td>165</td>\n",
       "    </tr>\n",
       "    <tr>\n",
       "      <th>3</th>\n",
       "      <td>10341</td>\n",
       "      <td>a Laura sige así que vales mucho más que 10 o ...</td>\n",
       "      <td>NO</td>\n",
       "      <td>81</td>\n",
       "    </tr>\n",
       "    <tr>\n",
       "      <th>4</th>\n",
       "      <td>53087</td>\n",
       "      <td>Y si no mes gusta Dalas, que hacen aquí,lárgue...</td>\n",
       "      <td>NO</td>\n",
       "      <td>560</td>\n",
       "    </tr>\n",
       "  </tbody>\n",
       "</table>\n",
       "</div>"
      ],
      "text/plain": [
       "   comment_id                                            comment label  length\n",
       "0       52564  En vez de la magia de mi melena, la magia de m...    NO      56\n",
       "1       32984  A ver, los milenials y la gente normal necesit...    NO     135\n",
       "2       58447  Me encanta todo el contenido que haces se nota...    NO     165\n",
       "3       10341  a Laura sige así que vales mucho más que 10 o ...    NO      81\n",
       "4       53087  Y si no mes gusta Dalas, que hacen aquí,lárgue...    NO     560"
      ]
     },
     "execution_count": 23,
     "metadata": {},
     "output_type": "execute_result"
    }
   ],
   "source": [
    "train1.head()"
   ]
  },
  {
   "cell_type": "code",
   "execution_count": 24,
   "metadata": {},
   "outputs": [
    {
     "data": {
      "text/plain": [
       "0               [vez, magia, melena, magia, nariz, xD]\n",
       "1    [ver, milenials, gente, normal, necesitamos, p...\n",
       "2    [encanta, contenido, haces, nota, curras, vide...\n",
       "3    [Laura, sige, así, vales, 10, 20, 30, estúpido...\n",
       "4    [si, mes, gusta, Dalas, hacen, aquílárguense, ...\n",
       "Name: comment, dtype: object"
      ]
     },
     "execution_count": 24,
     "metadata": {},
     "output_type": "execute_result"
    }
   ],
   "source": [
    "train1.comment.head(5).apply(text_process)"
   ]
  },
  {
   "cell_type": "code",
   "execution_count": 25,
   "metadata": {},
   "outputs": [],
   "source": [
    "from sklearn.feature_extraction.text import CountVectorizer"
   ]
  },
  {
   "cell_type": "code",
   "execution_count": 26,
   "metadata": {},
   "outputs": [],
   "source": [
    "bow_transformer =  CountVectorizer(analyzer=text_process).fit(train1['comment'])\n"
   ]
  },
  {
   "cell_type": "code",
   "execution_count": 27,
   "metadata": {},
   "outputs": [
    {
     "data": {
      "text/plain": [
       "['de',\n",
       " 'la',\n",
       " 'que',\n",
       " 'el',\n",
       " 'en',\n",
       " 'y',\n",
       " 'a',\n",
       " 'los',\n",
       " 'del',\n",
       " 'se',\n",
       " 'las',\n",
       " 'por',\n",
       " 'un',\n",
       " 'para',\n",
       " 'con',\n",
       " 'no',\n",
       " 'una',\n",
       " 'su',\n",
       " 'al',\n",
       " 'lo',\n",
       " 'como',\n",
       " 'más',\n",
       " 'pero',\n",
       " 'sus',\n",
       " 'le',\n",
       " 'ya',\n",
       " 'o',\n",
       " 'este',\n",
       " 'sí',\n",
       " 'porque',\n",
       " 'esta',\n",
       " 'entre',\n",
       " 'cuando',\n",
       " 'muy',\n",
       " 'sin',\n",
       " 'sobre',\n",
       " 'también',\n",
       " 'me',\n",
       " 'hasta',\n",
       " 'hay',\n",
       " 'donde',\n",
       " 'quien',\n",
       " 'desde',\n",
       " 'todo',\n",
       " 'nos',\n",
       " 'durante',\n",
       " 'todos',\n",
       " 'uno',\n",
       " 'les',\n",
       " 'ni',\n",
       " 'contra',\n",
       " 'otros',\n",
       " 'ese',\n",
       " 'eso',\n",
       " 'ante',\n",
       " 'ellos',\n",
       " 'e',\n",
       " 'esto',\n",
       " 'mí',\n",
       " 'antes',\n",
       " 'algunos',\n",
       " 'qué',\n",
       " 'unos',\n",
       " 'yo',\n",
       " 'otro',\n",
       " 'otras',\n",
       " 'otra',\n",
       " 'él',\n",
       " 'tanto',\n",
       " 'esa',\n",
       " 'estos',\n",
       " 'mucho',\n",
       " 'quienes',\n",
       " 'nada',\n",
       " 'muchos',\n",
       " 'cual',\n",
       " 'poco',\n",
       " 'ella',\n",
       " 'estar',\n",
       " 'estas',\n",
       " 'algunas',\n",
       " 'algo',\n",
       " 'nosotros',\n",
       " 'mi',\n",
       " 'mis',\n",
       " 'tú',\n",
       " 'te',\n",
       " 'ti',\n",
       " 'tu',\n",
       " 'tus',\n",
       " 'ellas',\n",
       " 'nosotras',\n",
       " 'vosotros',\n",
       " 'vosotras',\n",
       " 'os',\n",
       " 'mío',\n",
       " 'mía',\n",
       " 'míos',\n",
       " 'mías',\n",
       " 'tuyo',\n",
       " 'tuya',\n",
       " 'tuyos',\n",
       " 'tuyas',\n",
       " 'suyo',\n",
       " 'suya',\n",
       " 'suyos',\n",
       " 'suyas',\n",
       " 'nuestro',\n",
       " 'nuestra',\n",
       " 'nuestros',\n",
       " 'nuestras',\n",
       " 'vuestro',\n",
       " 'vuestra',\n",
       " 'vuestros',\n",
       " 'vuestras',\n",
       " 'esos',\n",
       " 'esas',\n",
       " 'estoy',\n",
       " 'estás',\n",
       " 'está',\n",
       " 'estamos',\n",
       " 'estáis',\n",
       " 'están',\n",
       " 'esté',\n",
       " 'estés',\n",
       " 'estemos',\n",
       " 'estéis',\n",
       " 'estén',\n",
       " 'estaré',\n",
       " 'estarás',\n",
       " 'estará',\n",
       " 'estaremos',\n",
       " 'estaréis',\n",
       " 'estarán',\n",
       " 'estaría',\n",
       " 'estarías',\n",
       " 'estaríamos',\n",
       " 'estaríais',\n",
       " 'estarían',\n",
       " 'estaba',\n",
       " 'estabas',\n",
       " 'estábamos',\n",
       " 'estabais',\n",
       " 'estaban',\n",
       " 'estuve',\n",
       " 'estuviste',\n",
       " 'estuvo',\n",
       " 'estuvimos',\n",
       " 'estuvisteis',\n",
       " 'estuvieron',\n",
       " 'estuviera',\n",
       " 'estuvieras',\n",
       " 'estuviéramos',\n",
       " 'estuvierais',\n",
       " 'estuvieran',\n",
       " 'estuviese',\n",
       " 'estuvieses',\n",
       " 'estuviésemos',\n",
       " 'estuvieseis',\n",
       " 'estuviesen',\n",
       " 'estando',\n",
       " 'estado',\n",
       " 'estada',\n",
       " 'estados',\n",
       " 'estadas',\n",
       " 'estad',\n",
       " 'he',\n",
       " 'has',\n",
       " 'ha',\n",
       " 'hemos',\n",
       " 'habéis',\n",
       " 'han',\n",
       " 'haya',\n",
       " 'hayas',\n",
       " 'hayamos',\n",
       " 'hayáis',\n",
       " 'hayan',\n",
       " 'habré',\n",
       " 'habrás',\n",
       " 'habrá',\n",
       " 'habremos',\n",
       " 'habréis',\n",
       " 'habrán',\n",
       " 'habría',\n",
       " 'habrías',\n",
       " 'habríamos',\n",
       " 'habríais',\n",
       " 'habrían',\n",
       " 'había',\n",
       " 'habías',\n",
       " 'habíamos',\n",
       " 'habíais',\n",
       " 'habían',\n",
       " 'hube',\n",
       " 'hubiste',\n",
       " 'hubo',\n",
       " 'hubimos',\n",
       " 'hubisteis',\n",
       " 'hubieron',\n",
       " 'hubiera',\n",
       " 'hubieras',\n",
       " 'hubiéramos',\n",
       " 'hubierais',\n",
       " 'hubieran',\n",
       " 'hubiese',\n",
       " 'hubieses',\n",
       " 'hubiésemos',\n",
       " 'hubieseis',\n",
       " 'hubiesen',\n",
       " 'habiendo',\n",
       " 'habido',\n",
       " 'habida',\n",
       " 'habidos',\n",
       " 'habidas',\n",
       " 'soy',\n",
       " 'eres',\n",
       " 'es',\n",
       " 'somos',\n",
       " 'sois',\n",
       " 'son',\n",
       " 'sea',\n",
       " 'seas',\n",
       " 'seamos',\n",
       " 'seáis',\n",
       " 'sean',\n",
       " 'seré',\n",
       " 'serás',\n",
       " 'será',\n",
       " 'seremos',\n",
       " 'seréis',\n",
       " 'serán',\n",
       " 'sería',\n",
       " 'serías',\n",
       " 'seríamos',\n",
       " 'seríais',\n",
       " 'serían',\n",
       " 'era',\n",
       " 'eras',\n",
       " 'éramos',\n",
       " 'erais',\n",
       " 'eran',\n",
       " 'fui',\n",
       " 'fuiste',\n",
       " 'fue',\n",
       " 'fuimos',\n",
       " 'fuisteis',\n",
       " 'fueron',\n",
       " 'fuera',\n",
       " 'fueras',\n",
       " 'fuéramos',\n",
       " 'fuerais',\n",
       " 'fueran',\n",
       " 'fuese',\n",
       " 'fueses',\n",
       " 'fuésemos',\n",
       " 'fueseis',\n",
       " 'fuesen',\n",
       " 'sintiendo',\n",
       " 'sentido',\n",
       " 'sentida',\n",
       " 'sentidos',\n",
       " 'sentidas',\n",
       " 'siente',\n",
       " 'sentid',\n",
       " 'tengo',\n",
       " 'tienes',\n",
       " 'tiene',\n",
       " 'tenemos',\n",
       " 'tenéis',\n",
       " 'tienen',\n",
       " 'tenga',\n",
       " 'tengas',\n",
       " 'tengamos',\n",
       " 'tengáis',\n",
       " 'tengan',\n",
       " 'tendré',\n",
       " 'tendrás',\n",
       " 'tendrá',\n",
       " 'tendremos',\n",
       " 'tendréis',\n",
       " 'tendrán',\n",
       " 'tendría',\n",
       " 'tendrías',\n",
       " 'tendríamos',\n",
       " 'tendríais',\n",
       " 'tendrían',\n",
       " 'tenía',\n",
       " 'tenías',\n",
       " 'teníamos',\n",
       " 'teníais',\n",
       " 'tenían',\n",
       " 'tuve',\n",
       " 'tuviste',\n",
       " 'tuvo',\n",
       " 'tuvimos',\n",
       " 'tuvisteis',\n",
       " 'tuvieron',\n",
       " 'tuviera',\n",
       " 'tuvieras',\n",
       " 'tuviéramos',\n",
       " 'tuvierais',\n",
       " 'tuvieran',\n",
       " 'tuviese',\n",
       " 'tuvieses',\n",
       " 'tuviésemos',\n",
       " 'tuvieseis',\n",
       " 'tuviesen',\n",
       " 'teniendo',\n",
       " 'tenido',\n",
       " 'tenida',\n",
       " 'tenidos',\n",
       " 'tenidas',\n",
       " 'tened']"
      ]
     },
     "execution_count": 27,
     "metadata": {},
     "output_type": "execute_result"
    }
   ],
   "source": [
    "stopwords.words('spanish')"
   ]
  },
  {
   "cell_type": "code",
   "execution_count": 28,
   "metadata": {},
   "outputs": [
    {
     "name": "stdout",
     "output_type": "stream",
     "text": [
      "46465\n"
     ]
    }
   ],
   "source": [
    "print(len(bow_transformer.vocabulary_))"
   ]
  },
  {
   "cell_type": "code",
   "execution_count": 29,
   "metadata": {},
   "outputs": [
    {
     "name": "stdout",
     "output_type": "stream",
     "text": [
      "a Laura sige así que vales mucho más que 10 o 20 o 30 estúpidos que te critiquen😍\n"
     ]
    }
   ],
   "source": [
    "mess4=train1['comment'][3]\n",
    "print(mess4)"
   ]
  },
  {
   "cell_type": "code",
   "execution_count": 30,
   "metadata": {},
   "outputs": [
    {
     "name": "stdout",
     "output_type": "stream",
     "text": [
      "  (0, 50)\t1\n",
      "  (0, 359)\t1\n",
      "  (0, 593)\t1\n",
      "  (0, 6409)\t1\n",
      "  (0, 13933)\t1\n",
      "  (0, 18872)\t1\n",
      "  (0, 23674)\t1\n",
      "  (0, 39770)\t1\n",
      "  (0, 42761)\t1\n"
     ]
    }
   ],
   "source": [
    "bow4 = bow_transformer.transform([mess4])\n",
    "print(bow4)"
   ]
  },
  {
   "cell_type": "code",
   "execution_count": 31,
   "metadata": {},
   "outputs": [
    {
     "data": {
      "text/plain": [
       "'vales'"
      ]
     },
     "execution_count": 31,
     "metadata": {},
     "output_type": "execute_result"
    }
   ],
   "source": [
    "bow_transformer.get_feature_names()[42761]"
   ]
  },
  {
   "cell_type": "code",
   "execution_count": 32,
   "metadata": {},
   "outputs": [],
   "source": [
    "messages_bow =  bow_transformer.transform(train1['comment'])"
   ]
  },
  {
   "cell_type": "code",
   "execution_count": 33,
   "metadata": {},
   "outputs": [
    {
     "name": "stdout",
     "output_type": "stream",
     "text": [
      "Shape of Sparse Matrix: (16710, 46465)\n",
      "Amount of Non-Zero occurences:  250321\n"
     ]
    }
   ],
   "source": [
    "print('Shape of Sparse Matrix:', messages_bow.shape)\n",
    "print('Amount of Non-Zero occurences: ', messages_bow.nnz)"
   ]
  },
  {
   "cell_type": "code",
   "execution_count": 34,
   "metadata": {},
   "outputs": [
    {
     "data": {
      "text/plain": [
       "250321"
      ]
     },
     "execution_count": 34,
     "metadata": {},
     "output_type": "execute_result"
    }
   ],
   "source": [
    "messages_bow.nnz"
   ]
  },
  {
   "cell_type": "code",
   "execution_count": 35,
   "metadata": {},
   "outputs": [
    {
     "name": "stdout",
     "output_type": "stream",
     "text": [
      "sparsity: 0.03223998965006704\n"
     ]
    }
   ],
   "source": [
    "sparsity = (100.0 * messages_bow.nnz / (messages_bow.shape[0] * messages_bow.shape[1]))\n",
    "print('sparsity: {}'.format(sparsity))"
   ]
  },
  {
   "cell_type": "code",
   "execution_count": 36,
   "metadata": {},
   "outputs": [],
   "source": [
    "from sklearn.feature_extraction.text import TfidfTransformer\n"
   ]
  },
  {
   "cell_type": "code",
   "execution_count": 37,
   "metadata": {},
   "outputs": [],
   "source": [
    "tfidf_transformer = TfidfTransformer().fit(messages_bow)\n"
   ]
  },
  {
   "cell_type": "code",
   "execution_count": 38,
   "metadata": {},
   "outputs": [],
   "source": [
    "tfidf4 = tfidf_transformer.transform(bow4)\n"
   ]
  },
  {
   "cell_type": "code",
   "execution_count": 39,
   "metadata": {},
   "outputs": [
    {
     "name": "stdout",
     "output_type": "stream",
     "text": [
      "  (0, 42761)\t0.3726566916324037\n",
      "  (0, 39770)\t0.4353605572720666\n",
      "  (0, 23674)\t0.36903625766963294\n",
      "  (0, 18872)\t0.4537002622967969\n",
      "  (0, 13933)\t0.17782577603606436\n",
      "  (0, 6409)\t0.24068219250499173\n",
      "  (0, 593)\t0.29765291650973186\n",
      "  (0, 359)\t0.29037383034955344\n",
      "  (0, 50)\t0.259021897529722\n"
     ]
    }
   ],
   "source": [
    "print(tfidf4)\n"
   ]
  },
  {
   "cell_type": "code",
   "execution_count": 40,
   "metadata": {},
   "outputs": [],
   "source": [
    "messages_tfidf = tfidf_transformer.transform(messages_bow)\n"
   ]
  },
  {
   "cell_type": "code",
   "execution_count": 41,
   "metadata": {},
   "outputs": [],
   "source": [
    "from sklearn.naive_bayes import MultinomialNB\n"
   ]
  },
  {
   "cell_type": "code",
   "execution_count": 42,
   "metadata": {},
   "outputs": [],
   "source": [
    "spam_detect_model = MultinomialNB().fit(messages_tfidf, train1['label'])\n"
   ]
  },
  {
   "cell_type": "code",
   "execution_count": 43,
   "metadata": {},
   "outputs": [
    {
     "data": {
      "text/plain": [
       "'NO'"
      ]
     },
     "execution_count": 43,
     "metadata": {},
     "output_type": "execute_result"
    }
   ],
   "source": [
    "spam_detect_model.predict(tfidf4)[0]"
   ]
  },
  {
   "cell_type": "code",
   "execution_count": 44,
   "metadata": {},
   "outputs": [
    {
     "data": {
      "text/plain": [
       "'NO'"
      ]
     },
     "execution_count": 44,
     "metadata": {},
     "output_type": "execute_result"
    }
   ],
   "source": [
    "train1['label'][3]"
   ]
  },
  {
   "cell_type": "code",
   "execution_count": 45,
   "metadata": {},
   "outputs": [],
   "source": [
    "all_pred = spam_detect_model.predict(messages_tfidf)"
   ]
  },
  {
   "cell_type": "code",
   "execution_count": 46,
   "metadata": {},
   "outputs": [
    {
     "data": {
      "text/plain": [
       "array(['NO', 'NO', 'NO', ..., 'NO', 'NO', 'NO'], dtype='<U3')"
      ]
     },
     "execution_count": 46,
     "metadata": {},
     "output_type": "execute_result"
    }
   ],
   "source": [
    "all_pred"
   ]
  },
  {
   "cell_type": "code",
   "execution_count": 52,
   "metadata": {},
   "outputs": [
    {
     "data": {
      "text/plain": [
       "array([[9.65000344e-01, 9.31567270e-03, 1.18657183e-03, 2.44974119e-02],\n",
       "       [9.85863988e-01, 2.11710815e-03, 2.25219999e-04, 1.17936840e-02],\n",
       "       [9.93788722e-01, 1.60512180e-03, 5.96984227e-05, 4.54645797e-03],\n",
       "       ...,\n",
       "       [9.44242015e-01, 1.36385095e-02, 1.39014316e-03, 4.07293319e-02],\n",
       "       [8.61986632e-01, 1.71135897e-02, 1.84490051e-03, 1.19054878e-01],\n",
       "       [5.62000797e-01, 1.00430552e-01, 1.81554204e-02, 3.19413231e-01]])"
      ]
     },
     "execution_count": 52,
     "metadata": {},
     "output_type": "execute_result"
    }
   ],
   "source": [
    "pred=spam_detect_model.predict_proba(messages_tfidf)\n",
    "pred"
   ]
  },
  {
   "cell_type": "code",
   "execution_count": 53,
   "metadata": {},
   "outputs": [
    {
     "data": {
      "text/html": [
       "<div>\n",
       "<style scoped>\n",
       "    .dataframe tbody tr th:only-of-type {\n",
       "        vertical-align: middle;\n",
       "    }\n",
       "\n",
       "    .dataframe tbody tr th {\n",
       "        vertical-align: top;\n",
       "    }\n",
       "\n",
       "    .dataframe thead th {\n",
       "        text-align: right;\n",
       "    }\n",
       "</style>\n",
       "<table border=\"1\" class=\"dataframe\">\n",
       "  <thead>\n",
       "    <tr style=\"text-align: right;\">\n",
       "      <th></th>\n",
       "      <th>0</th>\n",
       "      <th>1</th>\n",
       "      <th>2</th>\n",
       "      <th>3</th>\n",
       "    </tr>\n",
       "  </thead>\n",
       "  <tbody>\n",
       "    <tr>\n",
       "      <th>0</th>\n",
       "      <td>0.965000</td>\n",
       "      <td>0.009316</td>\n",
       "      <td>0.001187</td>\n",
       "      <td>0.024497</td>\n",
       "    </tr>\n",
       "    <tr>\n",
       "      <th>1</th>\n",
       "      <td>0.985864</td>\n",
       "      <td>0.002117</td>\n",
       "      <td>0.000225</td>\n",
       "      <td>0.011794</td>\n",
       "    </tr>\n",
       "    <tr>\n",
       "      <th>2</th>\n",
       "      <td>0.993789</td>\n",
       "      <td>0.001605</td>\n",
       "      <td>0.000060</td>\n",
       "      <td>0.004546</td>\n",
       "    </tr>\n",
       "    <tr>\n",
       "      <th>3</th>\n",
       "      <td>0.975192</td>\n",
       "      <td>0.008071</td>\n",
       "      <td>0.000906</td>\n",
       "      <td>0.015832</td>\n",
       "    </tr>\n",
       "    <tr>\n",
       "      <th>4</th>\n",
       "      <td>0.994800</td>\n",
       "      <td>0.001074</td>\n",
       "      <td>0.000056</td>\n",
       "      <td>0.004070</td>\n",
       "    </tr>\n",
       "  </tbody>\n",
       "</table>\n",
       "</div>"
      ],
      "text/plain": [
       "          0         1         2         3\n",
       "0  0.965000  0.009316  0.001187  0.024497\n",
       "1  0.985864  0.002117  0.000225  0.011794\n",
       "2  0.993789  0.001605  0.000060  0.004546\n",
       "3  0.975192  0.008071  0.000906  0.015832\n",
       "4  0.994800  0.001074  0.000056  0.004070"
      ]
     },
     "execution_count": 53,
     "metadata": {},
     "output_type": "execute_result"
    }
   ],
   "source": [
    "df_predict=pd.DataFrame(pred) \n",
    "df_predict.head()"
   ]
  },
  {
   "cell_type": "code",
   "execution_count": null,
   "metadata": {},
   "outputs": [],
   "source": []
  },
  {
   "cell_type": "code",
   "execution_count": 59,
   "metadata": {},
   "outputs": [],
   "source": [
    "df2 = df_predict.assign(ColumnA = '[' + df_predict[0].astype(str) + ', ' +\n",
    "  df_predict[1].astype(str) + ', ' +df_predict[2].astype(str) + ', ' +\n",
    "  df_predict[3].astype(str) + ']' )\n"
   ]
  },
  {
   "cell_type": "code",
   "execution_count": 61,
   "metadata": {},
   "outputs": [
    {
     "data": {
      "text/plain": [
       "0        [0.9650003435381195, 0.009315672702689704, 0.0...\n",
       "1        [0.9858639878595029, 0.0021171081522594094, 0....\n",
       "2        [0.9937887218096911, 0.0016051218013638754, 5....\n",
       "3        [0.9751922987486294, 0.008070684927607989, 0.0...\n",
       "4        [0.9948002079939395, 0.00107415918439735, 5.60...\n",
       "                               ...                        \n",
       "16705    [0.5133878565589657, 0.15442171894358428, 0.00...\n",
       "16706    [0.9950098756046036, 0.0013275651977808737, 2....\n",
       "16707    [0.9442420154453852, 0.013638509484236309, 0.0...\n",
       "16708    [0.8619866319762814, 0.01711358965649212, 0.00...\n",
       "16709    [0.562000796950955, 0.10043055156848994, 0.018...\n",
       "Name: ColumnA, Length: 16710, dtype: object"
      ]
     },
     "execution_count": 61,
     "metadata": {},
     "output_type": "execute_result"
    }
   ],
   "source": [
    "df2.ColumnA"
   ]
  },
  {
   "cell_type": "code",
   "execution_count": 62,
   "metadata": {},
   "outputs": [
    {
     "data": {
      "text/html": [
       "<div>\n",
       "<style scoped>\n",
       "    .dataframe tbody tr th:only-of-type {\n",
       "        vertical-align: middle;\n",
       "    }\n",
       "\n",
       "    .dataframe tbody tr th {\n",
       "        vertical-align: top;\n",
       "    }\n",
       "\n",
       "    .dataframe thead th {\n",
       "        text-align: right;\n",
       "    }\n",
       "</style>\n",
       "<table border=\"1\" class=\"dataframe\">\n",
       "  <thead>\n",
       "    <tr style=\"text-align: right;\">\n",
       "      <th></th>\n",
       "      <th>id</th>\n",
       "      <th>Labels</th>\n",
       "      <th>Prob</th>\n",
       "    </tr>\n",
       "  </thead>\n",
       "  <tbody>\n",
       "    <tr>\n",
       "      <th>0</th>\n",
       "      <td>52564</td>\n",
       "      <td>NO</td>\n",
       "      <td>[0.9650003435381195, 0.009315672702689704, 0.0...</td>\n",
       "    </tr>\n",
       "    <tr>\n",
       "      <th>1</th>\n",
       "      <td>32984</td>\n",
       "      <td>NO</td>\n",
       "      <td>[0.9858639878595029, 0.0021171081522594094, 0....</td>\n",
       "    </tr>\n",
       "    <tr>\n",
       "      <th>2</th>\n",
       "      <td>58447</td>\n",
       "      <td>NO</td>\n",
       "      <td>[0.9937887218096911, 0.0016051218013638754, 5....</td>\n",
       "    </tr>\n",
       "    <tr>\n",
       "      <th>3</th>\n",
       "      <td>10341</td>\n",
       "      <td>NO</td>\n",
       "      <td>[0.9751922987486294, 0.008070684927607989, 0.0...</td>\n",
       "    </tr>\n",
       "    <tr>\n",
       "      <th>4</th>\n",
       "      <td>53087</td>\n",
       "      <td>NO</td>\n",
       "      <td>[0.9948002079939395, 0.00107415918439735, 5.60...</td>\n",
       "    </tr>\n",
       "  </tbody>\n",
       "</table>\n",
       "</div>"
      ],
      "text/plain": [
       "      id Labels                                               Prob\n",
       "0  52564     NO  [0.9650003435381195, 0.009315672702689704, 0.0...\n",
       "1  32984     NO  [0.9858639878595029, 0.0021171081522594094, 0....\n",
       "2  58447     NO  [0.9937887218096911, 0.0016051218013638754, 5....\n",
       "3  10341     NO  [0.9751922987486294, 0.008070684927607989, 0.0...\n",
       "4  53087     NO  [0.9948002079939395, 0.00107415918439735, 5.60..."
      ]
     },
     "execution_count": 62,
     "metadata": {},
     "output_type": "execute_result"
    }
   ],
   "source": [
    "df_final = pd.DataFrame()\n",
    "df_final['id']=list(train1.comment_id)\n",
    "df_final['Labels']=list(all_pred)\n",
    "df_final['Prob']= df2.ColumnA\n",
    "\n",
    "df_final.head()"
   ]
  },
  {
   "cell_type": "code",
   "execution_count": null,
   "metadata": {},
   "outputs": [],
   "source": []
  },
  {
   "cell_type": "code",
   "execution_count": 63,
   "metadata": {},
   "outputs": [],
   "source": [
    "# df_final.to_csv('trainOffenES.tsv', sep='\\t', header=False, index=False)"
   ]
  },
  {
   "cell_type": "code",
   "execution_count": 64,
   "metadata": {},
   "outputs": [
    {
     "data": {
      "text/html": [
       "<div>\n",
       "<style scoped>\n",
       "    .dataframe tbody tr th:only-of-type {\n",
       "        vertical-align: middle;\n",
       "    }\n",
       "\n",
       "    .dataframe tbody tr th {\n",
       "        vertical-align: top;\n",
       "    }\n",
       "\n",
       "    .dataframe thead th {\n",
       "        text-align: right;\n",
       "    }\n",
       "</style>\n",
       "<table border=\"1\" class=\"dataframe\">\n",
       "  <thead>\n",
       "    <tr style=\"text-align: right;\">\n",
       "      <th></th>\n",
       "      <th>comment_id</th>\n",
       "      <th>comment</th>\n",
       "    </tr>\n",
       "  </thead>\n",
       "  <tbody>\n",
       "    <tr>\n",
       "      <th>0</th>\n",
       "      <td>54745</td>\n",
       "      <td>Lacasito moreno</td>\n",
       "    </tr>\n",
       "    <tr>\n",
       "      <th>1</th>\n",
       "      <td>5595</td>\n",
       "      <td>Yo pensaba que celopan era gay</td>\n",
       "    </tr>\n",
       "    <tr>\n",
       "      <th>2</th>\n",
       "      <td>53477</td>\n",
       "      <td>la bruja del 77</td>\n",
       "    </tr>\n",
       "    <tr>\n",
       "      <th>3</th>\n",
       "      <td>7385</td>\n",
       "      <td>Se va a liar bien gorda</td>\n",
       "    </tr>\n",
       "    <tr>\n",
       "      <th>4</th>\n",
       "      <td>551</td>\n",
       "      <td>Y Ami que chucha me importa boliviano hijodeputa</td>\n",
       "    </tr>\n",
       "  </tbody>\n",
       "</table>\n",
       "</div>"
      ],
      "text/plain": [
       "   comment_id                                           comment\n",
       "0       54745                                   Lacasito moreno\n",
       "1        5595                    Yo pensaba que celopan era gay\n",
       "2       53477                                   la bruja del 77\n",
       "3        7385                           Se va a liar bien gorda\n",
       "4         551  Y Ami que chucha me importa boliviano hijodeputa"
      ]
     },
     "execution_count": 64,
     "metadata": {},
     "output_type": "execute_result"
    }
   ],
   "source": [
    "test1= pd.read_csv('testdata1.tsv', engine='python', error_bad_lines=False, delimiter='\\t')\n",
    "test1.head()"
   ]
  },
  {
   "cell_type": "code",
   "execution_count": 65,
   "metadata": {},
   "outputs": [
    {
     "data": {
      "text/plain": [
       "27212"
      ]
     },
     "execution_count": 65,
     "metadata": {},
     "output_type": "execute_result"
    }
   ],
   "source": [
    "test1.size"
   ]
  },
  {
   "cell_type": "code",
   "execution_count": 68,
   "metadata": {},
   "outputs": [],
   "source": [
    "test1['length']=test1['comment'].apply(len)"
   ]
  },
  {
   "cell_type": "code",
   "execution_count": 69,
   "metadata": {},
   "outputs": [
    {
     "data": {
      "text/plain": [
       "<matplotlib.axes._subplots.AxesSubplot at 0x7ffcd0a0c410>"
      ]
     },
     "execution_count": 69,
     "metadata": {},
     "output_type": "execute_result"
    },
    {
     "data": {
      "image/png": "[encoded data removed]",
      "text/plain": [
       "<Figure size 432x288 with 1 Axes>"
      ]
     },
     "metadata": {
      "needs_background": "light"
     },
     "output_type": "display_data"
    }
   ],
   "source": [
    "test1['length'].plot.hist(bins=100)"
   ]
  },
  {
   "cell_type": "code",
   "execution_count": 72,
   "metadata": {},
   "outputs": [],
   "source": [
    "from sklearn.model_selection import train_test_split\n"
   ]
  },
  {
   "cell_type": "code",
   "execution_count": 73,
   "metadata": {},
   "outputs": [
    {
     "name": "stdout",
     "output_type": "stream",
     "text": [
      "11697 5013 16710\n"
     ]
    }
   ],
   "source": [
    "msg_train, msg_test, label_train, label_test = train_test_split(train1['comment'], train1['label'], test_size=0.3)\n",
    "\n",
    "print(len(msg_train), len(msg_test), len(msg_train) + len(msg_test))"
   ]
  },
  {
   "cell_type": "code",
   "execution_count": 74,
   "metadata": {},
   "outputs": [],
   "source": [
    "from sklearn.pipeline import Pipeline"
   ]
  },
  {
   "cell_type": "code",
   "execution_count": 75,
   "metadata": {},
   "outputs": [],
   "source": [
    "pipeline = Pipeline([\n",
    "    ('bow', CountVectorizer(analyzer=text_process)),\n",
    "    ('tfidf', TfidfTransformer()),\n",
    "    ('classfier', MultinomialNB())\n",
    "    \n",
    "])"
   ]
  },
  {
   "cell_type": "code",
   "execution_count": 76,
   "metadata": {},
   "outputs": [
    {
     "data": {
      "text/plain": [
       "Pipeline(memory=None,\n",
       "         steps=[('bow',\n",
       "                 CountVectorizer(analyzer=<function text_process at 0x7ffcc5b9d440>,\n",
       "                                 binary=False, decode_error='strict',\n",
       "                                 dtype=<class 'numpy.int64'>, encoding='utf-8',\n",
       "                                 input='content', lowercase=True, max_df=1.0,\n",
       "                                 max_features=None, min_df=1,\n",
       "                                 ngram_range=(1, 1), preprocessor=None,\n",
       "                                 stop_words=None, strip_accents=None,\n",
       "                                 token_pattern='(?u)\\\\b\\\\w\\\\w+\\\\b',\n",
       "                                 tokenizer=None, vocabulary=None)),\n",
       "                ('tfidf',\n",
       "                 TfidfTransformer(norm='l2', smooth_idf=True,\n",
       "                                  sublinear_tf=False, use_idf=True)),\n",
       "                ('classfier',\n",
       "                 MultinomialNB(alpha=1.0, class_prior=None, fit_prior=True))],\n",
       "         verbose=False)"
      ]
     },
     "execution_count": 76,
     "metadata": {},
     "output_type": "execute_result"
    }
   ],
   "source": [
    "pipeline.fit(msg_train, label_train)"
   ]
  },
  {
   "cell_type": "code",
   "execution_count": 77,
   "metadata": {},
   "outputs": [],
   "source": [
    "# pipeline.fit(msg_train, label_train)"
   ]
  },
  {
   "cell_type": "code",
   "execution_count": 78,
   "metadata": {},
   "outputs": [],
   "source": [
    "predictions = pipeline.predict(msg_test)"
   ]
  },
  {
   "cell_type": "code",
   "execution_count": 79,
   "metadata": {},
   "outputs": [],
   "source": [
    "from sklearn.metrics import classification_report"
   ]
  },
  {
   "cell_type": "code",
   "execution_count": 80,
   "metadata": {},
   "outputs": [
    {
     "name": "stdout",
     "output_type": "stream",
     "text": [
      "              precision    recall  f1-score   support\n",
      "\n",
      "          NO       0.80      1.00      0.89      3973\n",
      "         NOM       1.00      0.01      0.03       367\n",
      "         OFG       0.00      0.00      0.00        64\n",
      "         OFP       0.93      0.02      0.04       609\n",
      "\n",
      "    accuracy                           0.80      5013\n",
      "   macro avg       0.68      0.26      0.24      5013\n",
      "weighted avg       0.82      0.80      0.71      5013\n",
      "\n"
     ]
    },
    {
     "name": "stderr",
     "output_type": "stream",
     "text": [
      "/opt/anaconda3/lib/python3.7/site-packages/sklearn/metrics/_classification.py:1272: UndefinedMetricWarning: Precision and F-score are ill-defined and being set to 0.0 in labels with no predicted samples. Use `zero_division` parameter to control this behavior.\n",
      "  _warn_prf(average, modifier, msg_start, len(result))\n"
     ]
    }
   ],
   "source": [
    "print(classification_report(label_test, predictions))"
   ]
  },
  {
   "cell_type": "code",
   "execution_count": 81,
   "metadata": {},
   "outputs": [
    {
     "data": {
      "text/plain": [
       "array(['NO', 'NO', 'NO', ..., 'NO', 'NO', 'NO'], dtype='<U3')"
      ]
     },
     "execution_count": 81,
     "metadata": {},
     "output_type": "execute_result"
    }
   ],
   "source": [
    "predictions"
   ]
  },
  {
   "cell_type": "code",
   "execution_count": 82,
   "metadata": {},
   "outputs": [
    {
     "data": {
      "text/plain": [
       "array([[9.62972100e-01, 5.32129262e-03, 8.53021034e-04, 3.08535862e-02],\n",
       "       [9.96476141e-01, 9.66274336e-04, 9.13440526e-05, 2.46624037e-03],\n",
       "       [9.93310245e-01, 1.41418853e-03, 1.47749031e-04, 5.12781737e-03],\n",
       "       ...,\n",
       "       [9.57771134e-01, 1.15403428e-02, 1.09807583e-03, 2.95904471e-02],\n",
       "       [9.95715509e-01, 4.79321639e-04, 4.88784162e-05, 3.75629113e-03],\n",
       "       [9.84330030e-01, 6.14341396e-03, 5.08926033e-04, 9.01762999e-03]])"
      ]
     },
     "execution_count": 82,
     "metadata": {},
     "output_type": "execute_result"
    }
   ],
   "source": [
    "pipeline.predict_proba(msg_test)"
   ]
  },
  {
   "cell_type": "markdown",
   "metadata": {},
   "source": [
    "Now we are going to use the pipeline for the test set"
   ]
  },
  {
   "cell_type": "code",
   "execution_count": 83,
   "metadata": {},
   "outputs": [],
   "source": [
    "predictions_test_set = pipeline.predict(test1.comment)\n"
   ]
  },
  {
   "cell_type": "code",
   "execution_count": 84,
   "metadata": {},
   "outputs": [
    {
     "data": {
      "text/plain": [
       "array(['NO', 'NO', 'NO', ..., 'NO', 'NO', 'NO'], dtype='<U3')"
      ]
     },
     "execution_count": 84,
     "metadata": {},
     "output_type": "execute_result"
    }
   ],
   "source": [
    "predictions_test_set\n"
   ]
  },
  {
   "cell_type": "code",
   "execution_count": 85,
   "metadata": {},
   "outputs": [
    {
     "data": {
      "text/html": [
       "<div>\n",
       "<style scoped>\n",
       "    .dataframe tbody tr th:only-of-type {\n",
       "        vertical-align: middle;\n",
       "    }\n",
       "\n",
       "    .dataframe tbody tr th {\n",
       "        vertical-align: top;\n",
       "    }\n",
       "\n",
       "    .dataframe thead th {\n",
       "        text-align: right;\n",
       "    }\n",
       "</style>\n",
       "<table border=\"1\" class=\"dataframe\">\n",
       "  <thead>\n",
       "    <tr style=\"text-align: right;\">\n",
       "      <th></th>\n",
       "      <th>0</th>\n",
       "    </tr>\n",
       "  </thead>\n",
       "  <tbody>\n",
       "    <tr>\n",
       "      <th>0</th>\n",
       "      <td>NO</td>\n",
       "    </tr>\n",
       "    <tr>\n",
       "      <th>1</th>\n",
       "      <td>NO</td>\n",
       "    </tr>\n",
       "    <tr>\n",
       "      <th>2</th>\n",
       "      <td>NO</td>\n",
       "    </tr>\n",
       "    <tr>\n",
       "      <th>3</th>\n",
       "      <td>NO</td>\n",
       "    </tr>\n",
       "    <tr>\n",
       "      <th>4</th>\n",
       "      <td>NO</td>\n",
       "    </tr>\n",
       "  </tbody>\n",
       "</table>\n",
       "</div>"
      ],
      "text/plain": [
       "    0\n",
       "0  NO\n",
       "1  NO\n",
       "2  NO\n",
       "3  NO\n",
       "4  NO"
      ]
     },
     "execution_count": 85,
     "metadata": {},
     "output_type": "execute_result"
    }
   ],
   "source": [
    "df_predict_test=pd.DataFrame(predictions_test_set) \n",
    "df_predict_test.head()"
   ]
  },
  {
   "cell_type": "code",
   "execution_count": 86,
   "metadata": {},
   "outputs": [],
   "source": [
    "probs_test=pipeline.predict_proba(test1.comment)"
   ]
  },
  {
   "cell_type": "code",
   "execution_count": 87,
   "metadata": {},
   "outputs": [
    {
     "data": {
      "text/html": [
       "<div>\n",
       "<style scoped>\n",
       "    .dataframe tbody tr th:only-of-type {\n",
       "        vertical-align: middle;\n",
       "    }\n",
       "\n",
       "    .dataframe tbody tr th {\n",
       "        vertical-align: top;\n",
       "    }\n",
       "\n",
       "    .dataframe thead th {\n",
       "        text-align: right;\n",
       "    }\n",
       "</style>\n",
       "<table border=\"1\" class=\"dataframe\">\n",
       "  <thead>\n",
       "    <tr style=\"text-align: right;\">\n",
       "      <th></th>\n",
       "      <th>0</th>\n",
       "      <th>1</th>\n",
       "      <th>2</th>\n",
       "      <th>3</th>\n",
       "    </tr>\n",
       "  </thead>\n",
       "  <tbody>\n",
       "    <tr>\n",
       "      <th>0</th>\n",
       "      <td>0.847077</td>\n",
       "      <td>0.055095</td>\n",
       "      <td>0.009836</td>\n",
       "      <td>0.087992</td>\n",
       "    </tr>\n",
       "    <tr>\n",
       "      <th>1</th>\n",
       "      <td>0.910204</td>\n",
       "      <td>0.012513</td>\n",
       "      <td>0.001793</td>\n",
       "      <td>0.075491</td>\n",
       "    </tr>\n",
       "    <tr>\n",
       "      <th>2</th>\n",
       "      <td>0.859040</td>\n",
       "      <td>0.029263</td>\n",
       "      <td>0.005324</td>\n",
       "      <td>0.106373</td>\n",
       "    </tr>\n",
       "    <tr>\n",
       "      <th>3</th>\n",
       "      <td>0.894729</td>\n",
       "      <td>0.011241</td>\n",
       "      <td>0.001091</td>\n",
       "      <td>0.092939</td>\n",
       "    </tr>\n",
       "    <tr>\n",
       "      <th>4</th>\n",
       "      <td>0.860370</td>\n",
       "      <td>0.035078</td>\n",
       "      <td>0.004516</td>\n",
       "      <td>0.100036</td>\n",
       "    </tr>\n",
       "  </tbody>\n",
       "</table>\n",
       "</div>"
      ],
      "text/plain": [
       "          0         1         2         3\n",
       "0  0.847077  0.055095  0.009836  0.087992\n",
       "1  0.910204  0.012513  0.001793  0.075491\n",
       "2  0.859040  0.029263  0.005324  0.106373\n",
       "3  0.894729  0.011241  0.001091  0.092939\n",
       "4  0.860370  0.035078  0.004516  0.100036"
      ]
     },
     "execution_count": 87,
     "metadata": {},
     "output_type": "execute_result"
    }
   ],
   "source": [
    "df_predict_test=pd.DataFrame(probs_test) \n",
    "df_predict_test.head()"
   ]
  },
  {
   "cell_type": "code",
   "execution_count": 90,
   "metadata": {},
   "outputs": [
    {
     "data": {
      "text/html": [
       "<div>\n",
       "<style scoped>\n",
       "    .dataframe tbody tr th:only-of-type {\n",
       "        vertical-align: middle;\n",
       "    }\n",
       "\n",
       "    .dataframe tbody tr th {\n",
       "        vertical-align: top;\n",
       "    }\n",
       "\n",
       "    .dataframe thead th {\n",
       "        text-align: right;\n",
       "    }\n",
       "</style>\n",
       "<table border=\"1\" class=\"dataframe\">\n",
       "  <thead>\n",
       "    <tr style=\"text-align: right;\">\n",
       "      <th></th>\n",
       "      <th>0</th>\n",
       "      <th>1</th>\n",
       "      <th>2</th>\n",
       "      <th>3</th>\n",
       "      <th>ColumnA</th>\n",
       "    </tr>\n",
       "  </thead>\n",
       "  <tbody>\n",
       "    <tr>\n",
       "      <th>0</th>\n",
       "      <td>0.847077</td>\n",
       "      <td>0.055095</td>\n",
       "      <td>0.009836</td>\n",
       "      <td>0.087992</td>\n",
       "      <td>[0.8470767328647746, 0.05509510060748689, 0.00...</td>\n",
       "    </tr>\n",
       "    <tr>\n",
       "      <th>1</th>\n",
       "      <td>0.910204</td>\n",
       "      <td>0.012513</td>\n",
       "      <td>0.001793</td>\n",
       "      <td>0.075491</td>\n",
       "      <td>[0.9102038791209272, 0.012512734199136127, 0.0...</td>\n",
       "    </tr>\n",
       "    <tr>\n",
       "      <th>2</th>\n",
       "      <td>0.859040</td>\n",
       "      <td>0.029263</td>\n",
       "      <td>0.005324</td>\n",
       "      <td>0.106373</td>\n",
       "      <td>[0.8590397533924893, 0.029263275320352614, 0.0...</td>\n",
       "    </tr>\n",
       "    <tr>\n",
       "      <th>3</th>\n",
       "      <td>0.894729</td>\n",
       "      <td>0.011241</td>\n",
       "      <td>0.001091</td>\n",
       "      <td>0.092939</td>\n",
       "      <td>[0.8947287820242714, 0.011240891237539694, 0.0...</td>\n",
       "    </tr>\n",
       "    <tr>\n",
       "      <th>4</th>\n",
       "      <td>0.860370</td>\n",
       "      <td>0.035078</td>\n",
       "      <td>0.004516</td>\n",
       "      <td>0.100036</td>\n",
       "      <td>[0.8603697486037152, 0.03507752541391342, 0.00...</td>\n",
       "    </tr>\n",
       "    <tr>\n",
       "      <th>...</th>\n",
       "      <td>...</td>\n",
       "      <td>...</td>\n",
       "      <td>...</td>\n",
       "      <td>...</td>\n",
       "      <td>...</td>\n",
       "    </tr>\n",
       "    <tr>\n",
       "      <th>13601</th>\n",
       "      <td>0.986115</td>\n",
       "      <td>0.001122</td>\n",
       "      <td>0.000063</td>\n",
       "      <td>0.012700</td>\n",
       "      <td>[0.986115336760979, 0.001122340306815353, 6.26...</td>\n",
       "    </tr>\n",
       "    <tr>\n",
       "      <th>13602</th>\n",
       "      <td>0.996335</td>\n",
       "      <td>0.000886</td>\n",
       "      <td>0.000061</td>\n",
       "      <td>0.002718</td>\n",
       "      <td>[0.9963348196520714, 0.0008859551442033076, 6....</td>\n",
       "    </tr>\n",
       "    <tr>\n",
       "      <th>13603</th>\n",
       "      <td>0.927500</td>\n",
       "      <td>0.022195</td>\n",
       "      <td>0.000891</td>\n",
       "      <td>0.049414</td>\n",
       "      <td>[0.9274996863869837, 0.022194929512611185, 0.0...</td>\n",
       "    </tr>\n",
       "    <tr>\n",
       "      <th>13604</th>\n",
       "      <td>0.994158</td>\n",
       "      <td>0.001225</td>\n",
       "      <td>0.000091</td>\n",
       "      <td>0.004526</td>\n",
       "      <td>[0.9941576078791506, 0.0012250194043152394, 9....</td>\n",
       "    </tr>\n",
       "    <tr>\n",
       "      <th>13605</th>\n",
       "      <td>0.915991</td>\n",
       "      <td>0.014898</td>\n",
       "      <td>0.001915</td>\n",
       "      <td>0.067197</td>\n",
       "      <td>[0.9159906306879507, 0.014897977883558398, 0.0...</td>\n",
       "    </tr>\n",
       "  </tbody>\n",
       "</table>\n",
       "<p>13606 rows × 5 columns</p>\n",
       "</div>"
      ],
      "text/plain": [
       "              0         1         2         3  \\\n",
       "0      0.847077  0.055095  0.009836  0.087992   \n",
       "1      0.910204  0.012513  0.001793  0.075491   \n",
       "2      0.859040  0.029263  0.005324  0.106373   \n",
       "3      0.894729  0.011241  0.001091  0.092939   \n",
       "4      0.860370  0.035078  0.004516  0.100036   \n",
       "...         ...       ...       ...       ...   \n",
       "13601  0.986115  0.001122  0.000063  0.012700   \n",
       "13602  0.996335  0.000886  0.000061  0.002718   \n",
       "13603  0.927500  0.022195  0.000891  0.049414   \n",
       "13604  0.994158  0.001225  0.000091  0.004526   \n",
       "13605  0.915991  0.014898  0.001915  0.067197   \n",
       "\n",
       "                                                 ColumnA  \n",
       "0      [0.8470767328647746, 0.05509510060748689, 0.00...  \n",
       "1      [0.9102038791209272, 0.012512734199136127, 0.0...  \n",
       "2      [0.8590397533924893, 0.029263275320352614, 0.0...  \n",
       "3      [0.8947287820242714, 0.011240891237539694, 0.0...  \n",
       "4      [0.8603697486037152, 0.03507752541391342, 0.00...  \n",
       "...                                                  ...  \n",
       "13601  [0.986115336760979, 0.001122340306815353, 6.26...  \n",
       "13602  [0.9963348196520714, 0.0008859551442033076, 6....  \n",
       "13603  [0.9274996863869837, 0.022194929512611185, 0.0...  \n",
       "13604  [0.9941576078791506, 0.0012250194043152394, 9....  \n",
       "13605  [0.9159906306879507, 0.014897977883558398, 0.0...  \n",
       "\n",
       "[13606 rows x 5 columns]"
      ]
     },
     "execution_count": 90,
     "metadata": {},
     "output_type": "execute_result"
    }
   ],
   "source": [
    "df3 = df_predict_test.assign(ColumnA = '[' + df_predict_test[0].astype(str) + ', ' +\n",
    "  df_predict_test[1].astype(str) + ', ' +df_predict_test[2].astype(str) + ', ' +\n",
    "  df_predict_test[3].astype(str) + ']' )\n",
    "df3"
   ]
  },
  {
   "cell_type": "code",
   "execution_count": 92,
   "metadata": {},
   "outputs": [
    {
     "data": {
      "text/html": [
       "<div>\n",
       "<style scoped>\n",
       "    .dataframe tbody tr th:only-of-type {\n",
       "        vertical-align: middle;\n",
       "    }\n",
       "\n",
       "    .dataframe tbody tr th {\n",
       "        vertical-align: top;\n",
       "    }\n",
       "\n",
       "    .dataframe thead th {\n",
       "        text-align: right;\n",
       "    }\n",
       "</style>\n",
       "<table border=\"1\" class=\"dataframe\">\n",
       "  <thead>\n",
       "    <tr style=\"text-align: right;\">\n",
       "      <th></th>\n",
       "      <th>id</th>\n",
       "      <th>Labels</th>\n",
       "      <th>Prob</th>\n",
       "    </tr>\n",
       "  </thead>\n",
       "  <tbody>\n",
       "    <tr>\n",
       "      <th>0</th>\n",
       "      <td>54745</td>\n",
       "      <td>NO</td>\n",
       "      <td>[0.8470767328647746, 0.05509510060748689, 0.00...</td>\n",
       "    </tr>\n",
       "    <tr>\n",
       "      <th>1</th>\n",
       "      <td>5595</td>\n",
       "      <td>NO</td>\n",
       "      <td>[0.9102038791209272, 0.012512734199136127, 0.0...</td>\n",
       "    </tr>\n",
       "    <tr>\n",
       "      <th>2</th>\n",
       "      <td>53477</td>\n",
       "      <td>NO</td>\n",
       "      <td>[0.8590397533924893, 0.029263275320352614, 0.0...</td>\n",
       "    </tr>\n",
       "    <tr>\n",
       "      <th>3</th>\n",
       "      <td>7385</td>\n",
       "      <td>NO</td>\n",
       "      <td>[0.8947287820242714, 0.011240891237539694, 0.0...</td>\n",
       "    </tr>\n",
       "    <tr>\n",
       "      <th>4</th>\n",
       "      <td>551</td>\n",
       "      <td>NO</td>\n",
       "      <td>[0.8603697486037152, 0.03507752541391342, 0.00...</td>\n",
       "    </tr>\n",
       "  </tbody>\n",
       "</table>\n",
       "</div>"
      ],
      "text/plain": [
       "      id Labels                                               Prob\n",
       "0  54745     NO  [0.8470767328647746, 0.05509510060748689, 0.00...\n",
       "1   5595     NO  [0.9102038791209272, 0.012512734199136127, 0.0...\n",
       "2  53477     NO  [0.8590397533924893, 0.029263275320352614, 0.0...\n",
       "3   7385     NO  [0.8947287820242714, 0.011240891237539694, 0.0...\n",
       "4    551     NO  [0.8603697486037152, 0.03507752541391342, 0.00..."
      ]
     },
     "execution_count": 92,
     "metadata": {},
     "output_type": "execute_result"
    }
   ],
   "source": [
    "df_final = pd.DataFrame()\n",
    "df_final['id']=list(test1.comment_id)\n",
    "df_final['Labels']=list(predictions_test_set)\n",
    "df_final['Prob']= df3.ColumnA\n",
    "\n",
    "df_final.head()\n"
   ]
  },
  {
   "cell_type": "code",
   "execution_count": 94,
   "metadata": {},
   "outputs": [],
   "source": [
    "df_final.to_csv('NonContextTestOffenES.tsv', sep='\\t', header=False, index=False)"
   ]
  },
  {
   "cell_type": "code",
   "execution_count": null,
   "metadata": {},
   "outputs": [],
   "source": [
    "df_final.to_csv('NonContextTestOffenES.tsv', sep='\\t', header=False, index=False)\n"
   ]
  },
  {
   "cell_type": "code",
   "execution_count": null,
   "metadata": {},
   "outputs": [],
   "source": []
  },
  {
   "cell_type": "code",
   "execution_count": null,
   "metadata": {},
   "outputs": [],
   "source": [
    "train2.head()"
   ]
  },
  {
   "cell_type": "code",
   "execution_count": null,
   "metadata": {},
   "outputs": [],
   "source": []
  },
  {
   "cell_type": "code",
   "execution_count": null,
   "metadata": {
    "scrolled": true
   },
   "outputs": [],
   "source": [
    "# from textblob import TextBlob, Word, Blobber\n",
    "\n",
    "# from google_trans_new import google_translator\n",
    "\n",
    "# translator = google_translator()\n"
   ]
  },
  {
   "cell_type": "code",
   "execution_count": null,
   "metadata": {},
   "outputs": [],
   "source": [
    "# traducir = lambda x: translator.translate(x,lang_tgt='en')\n",
    "# train1['en'] = train1[:1000]['comment'].apply(traducir)"
   ]
  },
  {
   "cell_type": "code",
   "execution_count": null,
   "metadata": {},
   "outputs": [],
   "source": []
  },
  {
   "cell_type": "code",
   "execution_count": null,
   "metadata": {},
   "outputs": [],
   "source": [
    "\n"
   ]
  },
  {
   "cell_type": "code",
   "execution_count": null,
   "metadata": {},
   "outputs": [],
   "source": [
    "# X,y = devdata2[features].values, devdata2['label'].values\n",
    "# labels=devdata2['label'].unique()\n",
    "# labels"
   ]
  },
  {
   "cell_type": "code",
   "execution_count": null,
   "metadata": {},
   "outputs": [],
   "source": []
  },
  {
   "cell_type": "code",
   "execution_count": null,
   "metadata": {},
   "outputs": [],
   "source": [
    "# from sklearn.preprocessing import LabelEncoder\n",
    "\n",
    "# label_encoder = LabelEncoder()\n",
    "# label_encoder.fit(y)\n",
    "# y = label_encoder.transform(y)\n",
    "# y"
   ]
  },
  {
   "cell_type": "code",
   "execution_count": null,
   "metadata": {},
   "outputs": [],
   "source": [
    "# label_encoder.inverse_transform(y)\n"
   ]
  },
  {
   "cell_type": "code",
   "execution_count": null,
   "metadata": {},
   "outputs": [],
   "source": [
    " label_encoder.classes_"
   ]
  },
  {
   "cell_type": "code",
   "execution_count": null,
   "metadata": {},
   "outputs": [],
   "source": [
    "comments_id = devdata2['comment_id']\n",
    "\n",
    "X=devdata2.drop(columns=['comment_id', 'comment', 'label'])\n",
    "\n",
    "dummy = pd.get_dummies(X)\n",
    "\n",
    "X= pd.concat([comments_id, dummy], axis=1)\n",
    "X.head()"
   ]
  },
  {
   "cell_type": "code",
   "execution_count": null,
   "metadata": {},
   "outputs": [],
   "source": [
    "from sklearn.model_selection import train_test_split\n",
    "\n",
    "# Split data 70%-30% into training set and test set\n",
    "X_train_v1, X_test_v1, y_train, y_test = train_test_split(X, y, test_size=0.30, random_state=0, stratify=y )\n",
    "\n",
    "# print ('Train set:', X_train.shape,  y_train.shape)\n",
    "# print ('Test set:', X_test.shape,  y_test.shape)"
   ]
  },
  {
   "cell_type": "markdown",
   "metadata": {},
   "source": [
    " stratify=y stratification means that the train_test_split method returns training and test subsets that have the same proportions of class labels as the input dataset.\n",
    "\n"
   ]
  },
  {
   "cell_type": "code",
   "execution_count": null,
   "metadata": {},
   "outputs": [],
   "source": [
    "comment_id_train=X_train_v1.comment_id\n",
    "comment_id_test=X_test_v1.comment_id\n",
    "X_train = X_train_v1.drop(columns=['comment_id'])\n",
    "X_test = X_test_v1.drop(columns=['comment_id'])\n",
    "\n",
    "print ('Train set:', X_train.shape,  y_train.shape)\n",
    "print ('Test set:', X_test.shape,  y_test.shape)"
   ]
  },
  {
   "cell_type": "code",
   "execution_count": null,
   "metadata": {},
   "outputs": [],
   "source": [
    "from sklearn.tree import DecisionTreeClassifier\n",
    "\n",
    "Tree = DecisionTreeClassifier(criterion=\"entropy\", max_depth = 3, class_weight='balanced')\n",
    "Tree # it shows the default parameters\n"
   ]
  },
  {
   "cell_type": "code",
   "execution_count": null,
   "metadata": {},
   "outputs": [],
   "source": [
    "Tree.fit(X_train,y_train)"
   ]
  },
  {
   "cell_type": "code",
   "execution_count": null,
   "metadata": {},
   "outputs": [],
   "source": [
    "from sklearn.metrics import roc_curve, roc_auc_score\n",
    "from sklearn.metrics import confusion_matrix\n",
    "from sklearn.metrics import accuracy_score, classification_report\n",
    "from sklearn.metrics import precision_score, recall_score, mean_absolute_error, mean_squared_error, f1_score\n",
    "\n",
    "# Get predictions from test data\n",
    "predictions_tree_v2 = Tree.predict(X_test)\n",
    "y_scores_tree_v2 = Tree.predict_proba(X_test)\n",
    "\n",
    "# Get evaluation metrics\n",
    "\n",
    "print('Accuracy:', accuracy_score(y_test, predictions_tree_v2))\n",
    "print(\"Overall Precision:\",precision_score(y_test, predictions_tree_v2, average='macro'))\n",
    "print(\"Overall Recall:\",recall_score(y_test, predictions_tree_v2,  average='macro'))\n",
    "print(\"Overall f1:\",f1_score(y_test, predictions_tree_v2,  average='macro'))\n"
   ]
  },
  {
   "cell_type": "code",
   "execution_count": null,
   "metadata": {},
   "outputs": [],
   "source": [
    "from sklearn. metrics import classification_report\n",
    "\n",
    "print(classification_report(y_test, predictions_tree_v2))"
   ]
  },
  {
   "cell_type": "code",
   "execution_count": null,
   "metadata": {},
   "outputs": [],
   "source": [
    "from sklearn.externals.six import StringIO\n",
    "import pydotplus\n",
    "import matplotlib.image as mpimg\n",
    "from sklearn import tree\n",
    "\n",
    "dot_data = StringIO()\n",
    "filename = \"Tree.png\"\n",
    "featureNames = X_train.columns.to_list()\n",
    "targetNames = labels\n",
    "out=tree.export_graphviz(Tree,feature_names=featureNames, out_file=dot_data, class_names= label_encoder.classes_, filled=True,  special_characters=False,rotate=False)  \n",
    "graph = pydotplus.graph_from_dot_data(dot_data.getvalue())  \n",
    "graph.write_png(filename)\n",
    "img = mpimg.imread(filename)\n",
    "plt.figure(figsize=(100, 200))\n",
    "plt.imshow(img,interpolation='nearest')"
   ]
  },
  {
   "cell_type": "code",
   "execution_count": null,
   "metadata": {},
   "outputs": [],
   "source": [
    "# Get class probability scores\n",
    "prob_tree_v2 = Tree.predict_proba(X_test)\n",
    "\n",
    "# Get ROC metrics for each class\n",
    "fpr = {}\n",
    "tpr = {}\n",
    "thresh ={}\n",
    "for i in range(len(labels)):    \n",
    "    fpr[i], tpr[i], thresh[i] = roc_curve(y_test, prob_tree_v2[:,i], pos_label=i)\n",
    "    \n",
    "# Plot the ROC chart\n",
    "plt.plot(fpr[0], tpr[0], linestyle='--',color='orange', label=labels[0] + ' vs Rest')\n",
    "plt.plot(fpr[1], tpr[1], linestyle='--',color='green', label=labels[1] + ' vs Rest')\n",
    "plt.plot(fpr[2], tpr[2], linestyle='--',color='blue', label=labels[2] + ' vs Rest')\n",
    "plt.plot(fpr[3], tpr[3], linestyle='--',color='red', label=labels[3] + ' vs Rest')\n",
    "\n",
    "plt.title('Multiclass ROC curve')\n",
    "plt.xlabel('False Positive Rate')\n",
    "plt.ylabel('True Positive rate')\n",
    "plt.legend(loc='best')\n",
    "plt.show()"
   ]
  },
  {
   "cell_type": "code",
   "execution_count": null,
   "metadata": {},
   "outputs": [],
   "source": [
    "prob_tree_v2\n"
   ]
  },
  {
   "cell_type": "code",
   "execution_count": null,
   "metadata": {},
   "outputs": [],
   "source": [
    "max_idx = prob_tree_v2.argmax(axis=1) #get the indexes for the max probabilities\n",
    "out_labels = [label_encoder.classes_[i] for i in max_idx]\n",
    "print(out_labels)"
   ]
  },
  {
   "cell_type": "code",
   "execution_count": null,
   "metadata": {},
   "outputs": [],
   "source": [
    "len(out_labels)"
   ]
  },
  {
   "cell_type": "code",
   "execution_count": null,
   "metadata": {},
   "outputs": [],
   "source": [
    "df_final = pd.DataFrame()\n",
    "df_final['id']=list(comment_id_test)\n",
    "df_final['Labels']=out_labels\n",
    "df_final['Prob']= list(prob_tree_v2)\n",
    "\n",
    "df_final.head()"
   ]
  },
  {
   "cell_type": "code",
   "execution_count": null,
   "metadata": {},
   "outputs": [],
   "source": [
    "df_final.to_csv('DevEs.tsv', sep='\\t', header=False, index=False)"
   ]
  },
  {
   "cell_type": "code",
   "execution_count": null,
   "metadata": {},
   "outputs": [],
   "source": []
  },
  {
   "cell_type": "code",
   "execution_count": null,
   "metadata": {},
   "outputs": [],
   "source": []
  }
 ],
 "metadata": {
  "kernelspec": {
   "display_name": "Python 3",
   "language": "python",
   "name": "python3"
  },
  "language_info": {
   "codemirror_mode": {
    "name": "ipython",
    "version": 3
   },
   "file_extension": ".py",
   "mimetype": "text/x-python",
   "name": "python",
   "nbconvert_exporter": "python",
   "pygments_lexer": "ipython3",
   "version": "3.7.6"
  }
 },
 "nbformat": 4,
 "nbformat_minor": 4
}
