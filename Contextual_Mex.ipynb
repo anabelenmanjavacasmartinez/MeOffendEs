{
 "cells": [
  {
   "cell_type": "code",
   "execution_count": 26,
   "metadata": {},
   "outputs": [],
   "source": [
    "import pandas as pd\n",
    "import numpy as np\n",
    "import re\n",
    "import nltk\n",
    "from nltk.stem import WordNetLemmatizer\n",
    "from nltk import word_tokenize\n",
    "from nltk.corpus import stopwords\n",
    "import string\n",
    "import matplotlib.pyplot as plt\n",
    "import gensim\n",
    "import numpy as np\n",
    "from gensim.models import CoherenceModel, LdaModel, LsiModel, HdpModel\n",
    "# from gensim.models.wrappers import LdaMallet\n",
    "from gensim.corpora import Dictionary"
   ]
  },
  {
   "cell_type": "markdown",
   "metadata": {},
   "source": [
    "Link how to make a pipeline with many transformations\n",
    "https://stackoverflow.com/questions/65327433/machine-learning-classification-using-categorical-and-text-data-as-input"
   ]
  },
  {
   "cell_type": "code",
   "execution_count": 27,
   "metadata": {},
   "outputs": [
    {
     "data": {
      "text/html": [
       "<div>\n",
       "<style scoped>\n",
       "    .dataframe tbody tr th:only-of-type {\n",
       "        vertical-align: middle;\n",
       "    }\n",
       "\n",
       "    .dataframe tbody tr th {\n",
       "        vertical-align: top;\n",
       "    }\n",
       "\n",
       "    .dataframe thead th {\n",
       "        text-align: right;\n",
       "    }\n",
       "</style>\n",
       "<table border=\"1\" class=\"dataframe\">\n",
       "  <thead>\n",
       "    <tr style=\"text-align: right;\">\n",
       "      <th></th>\n",
       "      <th>tweet:text</th>\n",
       "      <th>tweet:id</th>\n",
       "      <th>account:id</th>\n",
       "      <th>account:name</th>\n",
       "      <th>account:created_at</th>\n",
       "      <th>account:verified</th>\n",
       "      <th>tweet:retweets_count</th>\n",
       "      <th>tweet:favorites_count</th>\n",
       "      <th>account:followers_count</th>\n",
       "      <th>account:friends_count</th>\n",
       "      <th>account:listed_count</th>\n",
       "      <th>account:user_favorites</th>\n",
       "      <th>account:user_statuses</th>\n",
       "      <th>account:default_profile</th>\n",
       "      <th>account:default_profile_image</th>\n",
       "      <th>tweet:datetime</th>\n",
       "      <th>tweet:is_reply</th>\n",
       "      <th>tweet:is_quote</th>\n",
       "    </tr>\n",
       "  </thead>\n",
       "  <tbody>\n",
       "    <tr>\n",
       "      <th>0</th>\n",
       "      <td>Soy el Clint Eastwood de los Puentes de Madiso...</td>\n",
       "      <td>916185531444215808</td>\n",
       "      <td>854551632645832704</td>\n",
       "      <td>not_luz</td>\n",
       "      <td>Wed Apr 19 04:26:00 +0000 2017</td>\n",
       "      <td>0</td>\n",
       "      <td>0</td>\n",
       "      <td>0</td>\n",
       "      <td>1</td>\n",
       "      <td>120</td>\n",
       "      <td>0</td>\n",
       "      <td>18</td>\n",
       "      <td>75</td>\n",
       "      <td>1</td>\n",
       "      <td>0</td>\n",
       "      <td>2017-10-06 06:17:07+00:00</td>\n",
       "      <td>0</td>\n",
       "      <td>0</td>\n",
       "    </tr>\n",
       "    <tr>\n",
       "      <th>1</th>\n",
       "      <td>Actualmente ya pasó de moda la pucha joto, aho...</td>\n",
       "      <td>920509390687473664</td>\n",
       "      <td>720706496879722496</td>\n",
       "      <td>l3orrego</td>\n",
       "      <td>Thu Apr 14 20:13:13 +0000 2016</td>\n",
       "      <td>0</td>\n",
       "      <td>0</td>\n",
       "      <td>3</td>\n",
       "      <td>289</td>\n",
       "      <td>240</td>\n",
       "      <td>2</td>\n",
       "      <td>14228</td>\n",
       "      <td>7557</td>\n",
       "      <td>1</td>\n",
       "      <td>0</td>\n",
       "      <td>2017-10-18 04:38:35+00:00</td>\n",
       "      <td>0</td>\n",
       "      <td>0</td>\n",
       "    </tr>\n",
       "    <tr>\n",
       "      <th>2</th>\n",
       "      <td>¿Es cierto esto? Y no me refiero a lo que dijo...</td>\n",
       "      <td>907905338761990145</td>\n",
       "      <td>150543906</td>\n",
       "      <td>Cinnamoon</td>\n",
       "      <td>Tue Jun 01 05:46:36 +0000 2010</td>\n",
       "      <td>0</td>\n",
       "      <td>0</td>\n",
       "      <td>0</td>\n",
       "      <td>491</td>\n",
       "      <td>1467</td>\n",
       "      <td>5</td>\n",
       "      <td>9978</td>\n",
       "      <td>14606</td>\n",
       "      <td>0</td>\n",
       "      <td>0</td>\n",
       "      <td>2017-09-13 09:54:35+00:00</td>\n",
       "      <td>1</td>\n",
       "      <td>0</td>\n",
       "    </tr>\n",
       "    <tr>\n",
       "      <th>3</th>\n",
       "      <td>Vuela pega y esquiva... la neta está de la ver...</td>\n",
       "      <td>928132991121068032</td>\n",
       "      <td>45450273</td>\n",
       "      <td>DonGarcia_</td>\n",
       "      <td>Sun Jun 07 23:31:00 +0000 2009</td>\n",
       "      <td>0</td>\n",
       "      <td>0</td>\n",
       "      <td>3</td>\n",
       "      <td>1968</td>\n",
       "      <td>985</td>\n",
       "      <td>20</td>\n",
       "      <td>15028</td>\n",
       "      <td>47431</td>\n",
       "      <td>0</td>\n",
       "      <td>0</td>\n",
       "      <td>2017-11-08 05:32:03+00:00</td>\n",
       "      <td>0</td>\n",
       "      <td>0</td>\n",
       "    </tr>\n",
       "    <tr>\n",
       "      <th>4</th>\n",
       "      <td>Mejor puto disfraz de la noche!!!! 👊👊👊Por terc...</td>\n",
       "      <td>927062194478559232</td>\n",
       "      <td>177383115</td>\n",
       "      <td>becerrilxa</td>\n",
       "      <td>Thu Aug 12 00:24:57 +0000 2010</td>\n",
       "      <td>0</td>\n",
       "      <td>0</td>\n",
       "      <td>1</td>\n",
       "      <td>180</td>\n",
       "      <td>206</td>\n",
       "      <td>4</td>\n",
       "      <td>112</td>\n",
       "      <td>20774</td>\n",
       "      <td>0</td>\n",
       "      <td>0</td>\n",
       "      <td>2017-11-05 06:37:05+00:00</td>\n",
       "      <td>0</td>\n",
       "      <td>0</td>\n",
       "    </tr>\n",
       "  </tbody>\n",
       "</table>\n",
       "</div>"
      ],
      "text/plain": [
       "                                          tweet:text            tweet:id  \\\n",
       "0  Soy el Clint Eastwood de los Puentes de Madiso...  916185531444215808   \n",
       "1  Actualmente ya pasó de moda la pucha joto, aho...  920509390687473664   \n",
       "2  ¿Es cierto esto? Y no me refiero a lo que dijo...  907905338761990145   \n",
       "3  Vuela pega y esquiva... la neta está de la ver...  928132991121068032   \n",
       "4  Mejor puto disfraz de la noche!!!! 👊👊👊Por terc...  927062194478559232   \n",
       "\n",
       "           account:id account:name              account:created_at  \\\n",
       "0  854551632645832704      not_luz  Wed Apr 19 04:26:00 +0000 2017   \n",
       "1  720706496879722496     l3orrego  Thu Apr 14 20:13:13 +0000 2016   \n",
       "2           150543906    Cinnamoon  Tue Jun 01 05:46:36 +0000 2010   \n",
       "3            45450273   DonGarcia_  Sun Jun 07 23:31:00 +0000 2009   \n",
       "4           177383115   becerrilxa  Thu Aug 12 00:24:57 +0000 2010   \n",
       "\n",
       "   account:verified  tweet:retweets_count  tweet:favorites_count  \\\n",
       "0                 0                     0                      0   \n",
       "1                 0                     0                      3   \n",
       "2                 0                     0                      0   \n",
       "3                 0                     0                      3   \n",
       "4                 0                     0                      1   \n",
       "\n",
       "   account:followers_count  account:friends_count  account:listed_count  \\\n",
       "0                        1                    120                     0   \n",
       "1                      289                    240                     2   \n",
       "2                      491                   1467                     5   \n",
       "3                     1968                    985                    20   \n",
       "4                      180                    206                     4   \n",
       "\n",
       "   account:user_favorites  account:user_statuses  account:default_profile  \\\n",
       "0                      18                     75                        1   \n",
       "1                   14228                   7557                        1   \n",
       "2                    9978                  14606                        0   \n",
       "3                   15028                  47431                        0   \n",
       "4                     112                  20774                        0   \n",
       "\n",
       "   account:default_profile_image             tweet:datetime  tweet:is_reply  \\\n",
       "0                              0  2017-10-06 06:17:07+00:00               0   \n",
       "1                              0  2017-10-18 04:38:35+00:00               0   \n",
       "2                              0  2017-09-13 09:54:35+00:00               1   \n",
       "3                              0  2017-11-08 05:32:03+00:00               0   \n",
       "4                              0  2017-11-05 06:37:05+00:00               0   \n",
       "\n",
       "   tweet:is_quote  \n",
       "0               0  \n",
       "1               0  \n",
       "2               0  \n",
       "3               0  \n",
       "4               0  "
      ]
     },
     "execution_count": 27,
     "metadata": {},
     "output_type": "execute_result"
    }
   ],
   "source": [
    "contex_data= pd.read_csv('mx-train-data-contextual.csv')\n",
    "contex_data.head()"
   ]
  },
  {
   "cell_type": "code",
   "execution_count": 28,
   "metadata": {},
   "outputs": [
    {
     "data": {
      "text/html": [
       "<div>\n",
       "<style scoped>\n",
       "    .dataframe tbody tr th:only-of-type {\n",
       "        vertical-align: middle;\n",
       "    }\n",
       "\n",
       "    .dataframe tbody tr th {\n",
       "        vertical-align: top;\n",
       "    }\n",
       "\n",
       "    .dataframe thead th {\n",
       "        text-align: right;\n",
       "    }\n",
       "</style>\n",
       "<table border=\"1\" class=\"dataframe\">\n",
       "  <thead>\n",
       "    <tr style=\"text-align: right;\">\n",
       "      <th></th>\n",
       "      <th>vulgar tag</th>\n",
       "    </tr>\n",
       "  </thead>\n",
       "  <tbody>\n",
       "    <tr>\n",
       "      <th>0</th>\n",
       "      <td>1</td>\n",
       "    </tr>\n",
       "    <tr>\n",
       "      <th>1</th>\n",
       "      <td>1</td>\n",
       "    </tr>\n",
       "    <tr>\n",
       "      <th>2</th>\n",
       "      <td>0</td>\n",
       "    </tr>\n",
       "    <tr>\n",
       "      <th>3</th>\n",
       "      <td>1</td>\n",
       "    </tr>\n",
       "    <tr>\n",
       "      <th>4</th>\n",
       "      <td>1</td>\n",
       "    </tr>\n",
       "  </tbody>\n",
       "</table>\n",
       "</div>"
      ],
      "text/plain": [
       "   vulgar tag\n",
       "0           1\n",
       "1           1\n",
       "2           0\n",
       "3           1\n",
       "4           1"
      ]
     },
     "execution_count": 28,
     "metadata": {},
     "output_type": "execute_result"
    }
   ],
   "source": [
    "# Vulgarity label for each sample in the data files mx-train-data-contextual.csv and mx-train-data-non-contextual.csv, this information will be only available for trial and training data\n",
    "vul= pd.read_csv('mx-train-vulgarity-label.csv')\n",
    "vul.head()\n"
   ]
  },
  {
   "cell_type": "code",
   "execution_count": 29,
   "metadata": {},
   "outputs": [
    {
     "data": {
      "text/html": [
       "<div>\n",
       "<style scoped>\n",
       "    .dataframe tbody tr th:only-of-type {\n",
       "        vertical-align: middle;\n",
       "    }\n",
       "\n",
       "    .dataframe tbody tr th {\n",
       "        vertical-align: top;\n",
       "    }\n",
       "\n",
       "    .dataframe thead th {\n",
       "        text-align: right;\n",
       "    }\n",
       "</style>\n",
       "<table border=\"1\" class=\"dataframe\">\n",
       "  <thead>\n",
       "    <tr style=\"text-align: right;\">\n",
       "      <th></th>\n",
       "      <th>0</th>\n",
       "    </tr>\n",
       "  </thead>\n",
       "  <tbody>\n",
       "    <tr>\n",
       "      <th>0</th>\n",
       "      <td>1</td>\n",
       "    </tr>\n",
       "    <tr>\n",
       "      <th>1</th>\n",
       "      <td>0</td>\n",
       "    </tr>\n",
       "    <tr>\n",
       "      <th>2</th>\n",
       "      <td>0</td>\n",
       "    </tr>\n",
       "    <tr>\n",
       "      <th>3</th>\n",
       "      <td>0</td>\n",
       "    </tr>\n",
       "    <tr>\n",
       "      <th>4</th>\n",
       "      <td>1</td>\n",
       "    </tr>\n",
       "  </tbody>\n",
       "</table>\n",
       "</div>"
      ],
      "text/plain": [
       "   0\n",
       "0  1\n",
       "1  0\n",
       "2  0\n",
       "3  0\n",
       "4  1"
      ]
     },
     "execution_count": 29,
     "metadata": {},
     "output_type": "execute_result"
    }
   ],
   "source": [
    "# ground truth labels for samples in mx-train-data-contextual.csv and mx-train-data-non-contextual.csv\n",
    "vul_true= pd.read_csv('mx-train-outputs.sol')\n",
    "vul_true.head()"
   ]
  },
  {
   "cell_type": "code",
   "execution_count": 30,
   "metadata": {},
   "outputs": [
    {
     "name": "stdout",
     "output_type": "stream",
     "text": [
      "<class 'pandas.core.frame.DataFrame'>\n",
      "RangeIndex: 5060 entries, 0 to 5059\n",
      "Data columns (total 18 columns):\n",
      " #   Column                         Non-Null Count  Dtype \n",
      "---  ------                         --------------  ----- \n",
      " 0   tweet:text                     5060 non-null   object\n",
      " 1   tweet:id                       5060 non-null   int64 \n",
      " 2   account:id                     5060 non-null   int64 \n",
      " 3   account:name                   5060 non-null   object\n",
      " 4   account:created_at             5060 non-null   object\n",
      " 5   account:verified               5060 non-null   int64 \n",
      " 6   tweet:retweets_count           5060 non-null   int64 \n",
      " 7   tweet:favorites_count          5060 non-null   int64 \n",
      " 8   account:followers_count        5060 non-null   int64 \n",
      " 9   account:friends_count          5060 non-null   int64 \n",
      " 10  account:listed_count           5060 non-null   int64 \n",
      " 11  account:user_favorites         5060 non-null   int64 \n",
      " 12  account:user_statuses          5060 non-null   int64 \n",
      " 13  account:default_profile        5060 non-null   int64 \n",
      " 14  account:default_profile_image  5060 non-null   int64 \n",
      " 15  tweet:datetime                 5060 non-null   object\n",
      " 16  tweet:is_reply                 5060 non-null   int64 \n",
      " 17  tweet:is_quote                 5060 non-null   int64 \n",
      "dtypes: int64(14), object(4)\n",
      "memory usage: 711.7+ KB\n"
     ]
    }
   ],
   "source": [
    "contex_data.info()"
   ]
  },
  {
   "cell_type": "code",
   "execution_count": 31,
   "metadata": {},
   "outputs": [],
   "source": [
    "contex_data['length']=contex_data['tweet:text'].apply(len)"
   ]
  },
  {
   "cell_type": "code",
   "execution_count": 32,
   "metadata": {},
   "outputs": [],
   "source": [
    "contex_data['label']=vul"
   ]
  },
  {
   "cell_type": "code",
   "execution_count": 33,
   "metadata": {},
   "outputs": [
    {
     "data": {
      "text/plain": [
       "<matplotlib.axes._subplots.AxesSubplot at 0x7f8bfb753350>"
      ]
     },
     "execution_count": 33,
     "metadata": {},
     "output_type": "execute_result"
    },
    {
     "data": {
      "image/png": "[encoded data removed]",
      "text/plain": [
       "<Figure size 432x288 with 1 Axes>"
      ]
     },
     "metadata": {
      "needs_background": "light"
     },
     "output_type": "display_data"
    }
   ],
   "source": [
    "contex_data['length'].plot.hist(bins=100)"
   ]
  },
  {
   "cell_type": "code",
   "execution_count": 34,
   "metadata": {},
   "outputs": [
    {
     "data": {
      "text/plain": [
       "array([<matplotlib.axes._subplots.AxesSubplot object at 0x7f8bfbaea850>,\n",
       "       <matplotlib.axes._subplots.AxesSubplot object at 0x7f8bfbf94890>],\n",
       "      dtype=object)"
      ]
     },
     "execution_count": 34,
     "metadata": {},
     "output_type": "execute_result"
    },
    {
     "data": {
      "image/png": "[encoded data removed]",
      "text/plain": [
       "<Figure size 1728x1008 with 2 Axes>"
      ]
     },
     "metadata": {
      "needs_background": "light"
     },
     "output_type": "display_data"
    }
   ],
   "source": [
    "contex_data.hist(column='length', by='label', bins=30, figsize=(24,14))"
   ]
  },
  {
   "cell_type": "code",
   "execution_count": 35,
   "metadata": {},
   "outputs": [],
   "source": [
    "import string\n",
    "from nltk.corpus import stopwords"
   ]
  },
  {
   "cell_type": "code",
   "execution_count": 36,
   "metadata": {},
   "outputs": [],
   "source": [
    "def text_process(mess):\n",
    "    \"\"\"\n",
    "    1.remove punc\n",
    "    2.remove stop words\n",
    "    3.return list of clean text words\n",
    "    \"\"\"\n",
    "    nopunc = [char for char in mess if char not in string.punctuation]\n",
    "    nopunc = ''.join(nopunc)\n",
    "    \n",
    "    return [word for word in nopunc.split() if word.lower() not in stopwords.words('spanish')]\n"
   ]
  },
  {
   "cell_type": "code",
   "execution_count": 37,
   "metadata": {},
   "outputs": [],
   "source": [
    "from sklearn.feature_extraction.text import CountVectorizer\n",
    "from sklearn.feature_extraction.text import TfidfTransformer\n",
    "from sklearn.naive_bayes import MultinomialNB\n",
    "from sklearn.pipeline import Pipeline\n",
    "\n",
    "from sklearn.compose import ColumnTransformer\n",
    "from sklearn.pipeline import Pipeline\n",
    "from sklearn.feature_extraction.text import TfidfVectorizer\n",
    "from sklearn.preprocessing import OneHotEncoder\n",
    "from sklearn.svm import SVC\n"
   ]
  },
  {
   "cell_type": "code",
   "execution_count": 88,
   "metadata": {},
   "outputs": [],
   "source": [
    "# pipeline for text data\n",
    "text_features = 'tweet:text'\n",
    "text_transformer = Pipeline(steps=[\n",
    "    ('bow', CountVectorizer(analyzer=text_process)),  # strings to token integer counts\n",
    "    ('tfidf', TfidfTransformer()),  # integer counts to weighted TF-IDF scores\n",
    "#     ('vectorizer', TfidfVectorizer(stop_words=\"english\"))\n",
    "])\n",
    "\n",
    "# pipeline for categorical data\n",
    "categorical_features = ['account:name',]\n",
    "categorical_transformer = Pipeline(steps=[\n",
    "#     ('imputer', SimpleImputer(strategy='constant', fill_value='missing')),\n",
    "    ('onehot', OneHotEncoder(handle_unknown='ignore'))\n",
    "])\n",
    "\n",
    "# you can add other transformations for other data types\n",
    "\n",
    "# combine preprocessing with ColumnTransformer\n",
    "preprocessor = ColumnTransformer(\n",
    "    transformers=[\n",
    "        ('text', text_transformer, text_features),\n",
    "        ('cat', categorical_transformer, categorical_features)], \n",
    "    remainder='passthrough')\n",
    "\n",
    "\n",
    "# add model to be part of pipeline\n",
    "clf_pipe =  Pipeline(steps=[('preprocessor', preprocessor),\n",
    "                   (\"model\", SVC())\n",
    "])\n",
    "\n",
    "# ...\n",
    "\n",
    "## you can just use preprocessor by itself\n",
    "# X_train = preprocessor.fit_transform(X_train)\n",
    "# X_test = preprocessor.transform(X_test)\n",
    "# clf_s= SVC().fit(X_train, y_train)\n",
    "# clf_s.score(X_test, y_test)\n",
    "\n",
    "## or better, you can use the whole.\n",
    "# clf_pipe.fit(X_train, y_train) \n",
    "# clf_pipe.score(X_test, y_test)\n",
    "\n"
   ]
  },
  {
   "cell_type": "code",
   "execution_count": null,
   "metadata": {},
   "outputs": [],
   "source": []
  },
  {
   "cell_type": "code",
   "execution_count": 89,
   "metadata": {},
   "outputs": [],
   "source": [
    "X=contex_data.drop(columns=['tweet:id', 'account:id', 'account:created_at', 'tweet:datetime','label' ])\n",
    "y=contex_data['label']"
   ]
  },
  {
   "cell_type": "code",
   "execution_count": 90,
   "metadata": {},
   "outputs": [
    {
     "name": "stdout",
     "output_type": "stream",
     "text": [
      "3542 1518 5060\n"
     ]
    }
   ],
   "source": [
    "from sklearn.model_selection import train_test_split\n",
    "\n",
    "msg_train, msg_test, label_train, label_test = train_test_split(X, y, test_size=0.3)\n",
    "\n",
    "print(len(msg_train), len(msg_test), len(msg_train) + len(msg_test))"
   ]
  },
  {
   "cell_type": "code",
   "execution_count": 91,
   "metadata": {},
   "outputs": [],
   "source": [
    "msg_train = preprocessor.fit_transform(msg_train)\n",
    "msg_test = preprocessor.transform(msg_test)\n"
   ]
  },
  {
   "cell_type": "code",
   "execution_count": 92,
   "metadata": {},
   "outputs": [
    {
     "data": {
      "text/plain": [
       "<3542x14825 sparse matrix of type '<class 'numpy.float64'>'\n",
       "\twith 58733 stored elements in Compressed Sparse Row format>"
      ]
     },
     "execution_count": 92,
     "metadata": {},
     "output_type": "execute_result"
    }
   ],
   "source": [
    "msg_train\n"
   ]
  },
  {
   "cell_type": "code",
   "execution_count": 93,
   "metadata": {},
   "outputs": [
    {
     "data": {
      "text/plain": [
       "0.7364953886693018"
      ]
     },
     "execution_count": 93,
     "metadata": {},
     "output_type": "execute_result"
    }
   ],
   "source": [
    "clf_s= SVC(probability=True).fit(msg_train, label_train)\n",
    "clf_s.score(msg_test, label_test)\n"
   ]
  },
  {
   "cell_type": "code",
   "execution_count": 94,
   "metadata": {},
   "outputs": [],
   "source": [
    "predictions = clf_s.predict(msg_test)"
   ]
  },
  {
   "cell_type": "code",
   "execution_count": 95,
   "metadata": {},
   "outputs": [
    {
     "name": "stdout",
     "output_type": "stream",
     "text": [
      "              precision    recall  f1-score   support\n",
      "\n",
      "           0       0.85      0.03      0.05       409\n",
      "           1       0.74      1.00      0.85      1109\n",
      "\n",
      "    accuracy                           0.74      1518\n",
      "   macro avg       0.79      0.51      0.45      1518\n",
      "weighted avg       0.77      0.74      0.63      1518\n",
      "\n"
     ]
    }
   ],
   "source": [
    "from sklearn.metrics import classification_report\n",
    "\n",
    "print(classification_report(label_test, predictions))"
   ]
  },
  {
   "cell_type": "code",
   "execution_count": 87,
   "metadata": {},
   "outputs": [
    {
     "data": {
      "text/plain": [
       "array([1, 1, 1, ..., 1, 1, 1])"
      ]
     },
     "execution_count": 87,
     "metadata": {},
     "output_type": "execute_result"
    }
   ],
   "source": [
    "predictions"
   ]
  },
  {
   "cell_type": "markdown",
   "metadata": {},
   "source": [
    "Now we are going to try with the whole data"
   ]
  },
  {
   "cell_type": "code",
   "execution_count": 97,
   "metadata": {},
   "outputs": [
    {
     "data": {
      "text/html": [
       "<div>\n",
       "<style scoped>\n",
       "    .dataframe tbody tr th:only-of-type {\n",
       "        vertical-align: middle;\n",
       "    }\n",
       "\n",
       "    .dataframe tbody tr th {\n",
       "        vertical-align: top;\n",
       "    }\n",
       "\n",
       "    .dataframe thead th {\n",
       "        text-align: right;\n",
       "    }\n",
       "</style>\n",
       "<table border=\"1\" class=\"dataframe\">\n",
       "  <thead>\n",
       "    <tr style=\"text-align: right;\">\n",
       "      <th></th>\n",
       "      <th>tweet:text</th>\n",
       "      <th>tweet:id</th>\n",
       "      <th>account:id</th>\n",
       "      <th>account:name</th>\n",
       "      <th>account:created_at</th>\n",
       "      <th>account:verified</th>\n",
       "      <th>tweet:retweets_count</th>\n",
       "      <th>tweet:favorites_count</th>\n",
       "      <th>account:followers_count</th>\n",
       "      <th>account:friends_count</th>\n",
       "      <th>account:listed_count</th>\n",
       "      <th>account:user_favorites</th>\n",
       "      <th>account:user_statuses</th>\n",
       "      <th>account:default_profile</th>\n",
       "      <th>account:default_profile_image</th>\n",
       "      <th>tweet:datetime</th>\n",
       "      <th>tweet:is_reply</th>\n",
       "      <th>tweet:is_quote</th>\n",
       "    </tr>\n",
       "  </thead>\n",
       "  <tbody>\n",
       "    <tr>\n",
       "      <th>0</th>\n",
       "      <td>@USUARIO Si, y uno que era como de sopa de let...</td>\n",
       "      <td>9.052780e+17</td>\n",
       "      <td>1.274217e+08</td>\n",
       "      <td>walii_hm</td>\n",
       "      <td>Mon Mar 29 04:21:41 +0000 2010</td>\n",
       "      <td>0</td>\n",
       "      <td>0</td>\n",
       "      <td>1</td>\n",
       "      <td>1271</td>\n",
       "      <td>817</td>\n",
       "      <td>3</td>\n",
       "      <td>98251</td>\n",
       "      <td>43700</td>\n",
       "      <td>0</td>\n",
       "      <td>0</td>\n",
       "      <td>2017-09-06 03:54:28+00:00</td>\n",
       "      <td>1</td>\n",
       "      <td>0</td>\n",
       "    </tr>\n",
       "    <tr>\n",
       "      <th>1</th>\n",
       "      <td>Verga, creo que van a matar a algunos periodis...</td>\n",
       "      <td>9.052040e+17</td>\n",
       "      <td>3.081048e+09</td>\n",
       "      <td>Chimi_19</td>\n",
       "      <td>Mon Mar 09 06:03:40 +0000 2015</td>\n",
       "      <td>0</td>\n",
       "      <td>0</td>\n",
       "      <td>0</td>\n",
       "      <td>84</td>\n",
       "      <td>717</td>\n",
       "      <td>0</td>\n",
       "      <td>2245</td>\n",
       "      <td>2431</td>\n",
       "      <td>0</td>\n",
       "      <td>0</td>\n",
       "      <td>2017-09-05 23:00:39+00:00</td>\n",
       "      <td>0</td>\n",
       "      <td>1</td>\n",
       "    </tr>\n",
       "    <tr>\n",
       "      <th>2</th>\n",
       "      <td>@USUARIO Que nivel de bancada está preparado ...</td>\n",
       "      <td>9.228000e+17</td>\n",
       "      <td>2.288574e+07</td>\n",
       "      <td>Pablo_Arreola</td>\n",
       "      <td>Thu Mar 05 05:32:43 +0000 2009</td>\n",
       "      <td>0</td>\n",
       "      <td>0</td>\n",
       "      <td>0</td>\n",
       "      <td>3832</td>\n",
       "      <td>2269</td>\n",
       "      <td>55</td>\n",
       "      <td>223207</td>\n",
       "      <td>259658</td>\n",
       "      <td>0</td>\n",
       "      <td>0</td>\n",
       "      <td>2017-10-24 12:19:32+00:00</td>\n",
       "      <td>1</td>\n",
       "      <td>0</td>\n",
       "    </tr>\n",
       "    <tr>\n",
       "      <th>3</th>\n",
       "      <td>A San Martín, tirilín, tirilín, se lo llevó, t...</td>\n",
       "      <td>9.054360e+17</td>\n",
       "      <td>1.954311e+08</td>\n",
       "      <td>Emmanuel_Lazos</td>\n",
       "      <td>Sun Sep 26 17:53:09 +0000 2010</td>\n",
       "      <td>0</td>\n",
       "      <td>0</td>\n",
       "      <td>2</td>\n",
       "      <td>5105</td>\n",
       "      <td>5603</td>\n",
       "      <td>57</td>\n",
       "      <td>74924</td>\n",
       "      <td>74639</td>\n",
       "      <td>0</td>\n",
       "      <td>0</td>\n",
       "      <td>2017-09-06 14:22:20+00:00</td>\n",
       "      <td>0</td>\n",
       "      <td>0</td>\n",
       "    </tr>\n",
       "    <tr>\n",
       "      <th>4</th>\n",
       "      <td>BUENAS PUTAS NOCHES PINCHES RAMEROS DE MIERDA!...</td>\n",
       "      <td>9.176050e+17</td>\n",
       "      <td>1.647978e+08</td>\n",
       "      <td>Ruiz79Jorge</td>\n",
       "      <td>Fri Jul 09 19:52:12 +0000 2010</td>\n",
       "      <td>0</td>\n",
       "      <td>0</td>\n",
       "      <td>0</td>\n",
       "      <td>256</td>\n",
       "      <td>182</td>\n",
       "      <td>2</td>\n",
       "      <td>1641</td>\n",
       "      <td>17500</td>\n",
       "      <td>0</td>\n",
       "      <td>0</td>\n",
       "      <td>2017-10-10 04:19:17+00:00</td>\n",
       "      <td>0</td>\n",
       "      <td>0</td>\n",
       "    </tr>\n",
       "  </tbody>\n",
       "</table>\n",
       "</div>"
      ],
      "text/plain": [
       "                                          tweet:text      tweet:id  \\\n",
       "0  @USUARIO Si, y uno que era como de sopa de let...  9.052780e+17   \n",
       "1  Verga, creo que van a matar a algunos periodis...  9.052040e+17   \n",
       "2   @USUARIO Que nivel de bancada está preparado ...  9.228000e+17   \n",
       "3  A San Martín, tirilín, tirilín, se lo llevó, t...  9.054360e+17   \n",
       "4  BUENAS PUTAS NOCHES PINCHES RAMEROS DE MIERDA!...  9.176050e+17   \n",
       "\n",
       "     account:id    account:name              account:created_at  \\\n",
       "0  1.274217e+08        walii_hm  Mon Mar 29 04:21:41 +0000 2010   \n",
       "1  3.081048e+09        Chimi_19  Mon Mar 09 06:03:40 +0000 2015   \n",
       "2  2.288574e+07   Pablo_Arreola  Thu Mar 05 05:32:43 +0000 2009   \n",
       "3  1.954311e+08  Emmanuel_Lazos  Sun Sep 26 17:53:09 +0000 2010   \n",
       "4  1.647978e+08     Ruiz79Jorge  Fri Jul 09 19:52:12 +0000 2010   \n",
       "\n",
       "   account:verified  tweet:retweets_count  tweet:favorites_count  \\\n",
       "0                 0                     0                      1   \n",
       "1                 0                     0                      0   \n",
       "2                 0                     0                      0   \n",
       "3                 0                     0                      2   \n",
       "4                 0                     0                      0   \n",
       "\n",
       "   account:followers_count  account:friends_count  account:listed_count  \\\n",
       "0                     1271                    817                     3   \n",
       "1                       84                    717                     0   \n",
       "2                     3832                   2269                    55   \n",
       "3                     5105                   5603                    57   \n",
       "4                      256                    182                     2   \n",
       "\n",
       "   account:user_favorites  account:user_statuses  account:default_profile  \\\n",
       "0                   98251                  43700                        0   \n",
       "1                    2245                   2431                        0   \n",
       "2                  223207                 259658                        0   \n",
       "3                   74924                  74639                        0   \n",
       "4                    1641                  17500                        0   \n",
       "\n",
       "   account:default_profile_image             tweet:datetime  tweet:is_reply  \\\n",
       "0                              0  2017-09-06 03:54:28+00:00               1   \n",
       "1                              0  2017-09-05 23:00:39+00:00               0   \n",
       "2                              0  2017-10-24 12:19:32+00:00               1   \n",
       "3                              0  2017-09-06 14:22:20+00:00               0   \n",
       "4                              0  2017-10-10 04:19:17+00:00               0   \n",
       "\n",
       "   tweet:is_quote  \n",
       "0               0  \n",
       "1               1  \n",
       "2               0  \n",
       "3               0  \n",
       "4               0  "
      ]
     },
     "execution_count": 97,
     "metadata": {},
     "output_type": "execute_result"
    }
   ],
   "source": [
    "contex_data_test = pd.read_csv('mx-test-data-contextual.csv')\n",
    "contex_data_test.head()\n"
   ]
  },
  {
   "cell_type": "code",
   "execution_count": 98,
   "metadata": {},
   "outputs": [
    {
     "name": "stdout",
     "output_type": "stream",
     "text": [
      "<class 'pandas.core.frame.DataFrame'>\n",
      "RangeIndex: 2183 entries, 0 to 2182\n",
      "Data columns (total 18 columns):\n",
      " #   Column                         Non-Null Count  Dtype  \n",
      "---  ------                         --------------  -----  \n",
      " 0   tweet:text                     2183 non-null   object \n",
      " 1   tweet:id                       2183 non-null   float64\n",
      " 2   account:id                     2183 non-null   float64\n",
      " 3   account:name                   2183 non-null   object \n",
      " 4   account:created_at             2183 non-null   object \n",
      " 5   account:verified               2183 non-null   int64  \n",
      " 6   tweet:retweets_count           2183 non-null   int64  \n",
      " 7   tweet:favorites_count          2183 non-null   int64  \n",
      " 8   account:followers_count        2183 non-null   int64  \n",
      " 9   account:friends_count          2183 non-null   int64  \n",
      " 10  account:listed_count           2183 non-null   int64  \n",
      " 11  account:user_favorites         2183 non-null   int64  \n",
      " 12  account:user_statuses          2183 non-null   int64  \n",
      " 13  account:default_profile        2183 non-null   int64  \n",
      " 14  account:default_profile_image  2183 non-null   int64  \n",
      " 15  tweet:datetime                 2183 non-null   object \n",
      " 16  tweet:is_reply                 2183 non-null   int64  \n",
      " 17  tweet:is_quote                 2183 non-null   int64  \n",
      "dtypes: float64(2), int64(12), object(4)\n",
      "memory usage: 307.1+ KB\n"
     ]
    }
   ],
   "source": [
    "contex_data_test.info()"
   ]
  },
  {
   "cell_type": "code",
   "execution_count": 99,
   "metadata": {},
   "outputs": [],
   "source": [
    "contex_data_test['length']=contex_data['tweet:text'].apply(len)"
   ]
  },
  {
   "cell_type": "code",
   "execution_count": 100,
   "metadata": {},
   "outputs": [
    {
     "data": {
      "text/plain": [
       "<matplotlib.axes._subplots.AxesSubplot at 0x7f8bfda4f8d0>"
      ]
     },
     "execution_count": 100,
     "metadata": {},
     "output_type": "execute_result"
    },
    {
     "data": {
      "image/png": "[encoded data removed]",
      "text/plain": [
       "<Figure size 432x288 with 1 Axes>"
      ]
     },
     "metadata": {
      "needs_background": "light"
     },
     "output_type": "display_data"
    }
   ],
   "source": [
    "contex_data_test['length'].plot.hist(bins=100)"
   ]
  },
  {
   "cell_type": "code",
   "execution_count": 102,
   "metadata": {},
   "outputs": [],
   "source": [
    "X_test=contex_data_test.drop(columns=['tweet:id', 'account:id', 'account:created_at', 'tweet:datetime' ])"
   ]
  },
  {
   "cell_type": "code",
   "execution_count": 103,
   "metadata": {},
   "outputs": [],
   "source": [
    "X_test = preprocessor.transform(X_test)\n"
   ]
  },
  {
   "cell_type": "code",
   "execution_count": 104,
   "metadata": {},
   "outputs": [],
   "source": [
    "predictions = clf_s.predict(X_test)"
   ]
  },
  {
   "cell_type": "code",
   "execution_count": 105,
   "metadata": {},
   "outputs": [
    {
     "data": {
      "text/plain": [
       "array([1, 1, 1, ..., 1, 1, 1])"
      ]
     },
     "execution_count": 105,
     "metadata": {},
     "output_type": "execute_result"
    }
   ],
   "source": [
    "predictions"
   ]
  },
  {
   "cell_type": "code",
   "execution_count": 106,
   "metadata": {},
   "outputs": [
    {
     "data": {
      "text/html": [
       "<div>\n",
       "<style scoped>\n",
       "    .dataframe tbody tr th:only-of-type {\n",
       "        vertical-align: middle;\n",
       "    }\n",
       "\n",
       "    .dataframe tbody tr th {\n",
       "        vertical-align: top;\n",
       "    }\n",
       "\n",
       "    .dataframe thead th {\n",
       "        text-align: right;\n",
       "    }\n",
       "</style>\n",
       "<table border=\"1\" class=\"dataframe\">\n",
       "  <thead>\n",
       "    <tr style=\"text-align: right;\">\n",
       "      <th></th>\n",
       "      <th>Pred</th>\n",
       "    </tr>\n",
       "  </thead>\n",
       "  <tbody>\n",
       "    <tr>\n",
       "      <th>0</th>\n",
       "      <td>1</td>\n",
       "    </tr>\n",
       "    <tr>\n",
       "      <th>1</th>\n",
       "      <td>1</td>\n",
       "    </tr>\n",
       "    <tr>\n",
       "      <th>2</th>\n",
       "      <td>1</td>\n",
       "    </tr>\n",
       "    <tr>\n",
       "      <th>3</th>\n",
       "      <td>1</td>\n",
       "    </tr>\n",
       "    <tr>\n",
       "      <th>4</th>\n",
       "      <td>1</td>\n",
       "    </tr>\n",
       "  </tbody>\n",
       "</table>\n",
       "</div>"
      ],
      "text/plain": [
       "   Pred\n",
       "0     1\n",
       "1     1\n",
       "2     1\n",
       "3     1\n",
       "4     1"
      ]
     },
     "execution_count": 106,
     "metadata": {},
     "output_type": "execute_result"
    }
   ],
   "source": [
    "df_final = pd.DataFrame()\n",
    "\n",
    "df_final['Pred']= list(predictions)\n",
    "\n",
    "df_final.head()"
   ]
  },
  {
   "cell_type": "code",
   "execution_count": 107,
   "metadata": {},
   "outputs": [],
   "source": [
    "df_final.to_csv('Contextual_Mex.tsv', sep='\\t', header=False, index=False)"
   ]
  },
  {
   "cell_type": "code",
   "execution_count": null,
   "metadata": {},
   "outputs": [],
   "source": []
  }
 ],
 "metadata": {
  "kernelspec": {
   "display_name": "Python 3",
   "language": "python",
   "name": "python3"
  },
  "language_info": {
   "codemirror_mode": {
    "name": "ipython",
    "version": 3
   },
   "file_extension": ".py",
   "mimetype": "text/x-python",
   "name": "python",
   "nbconvert_exporter": "python",
   "pygments_lexer": "ipython3",
   "version": "3.7.6"
  }
 },
 "nbformat": 4,
 "nbformat_minor": 4
}
